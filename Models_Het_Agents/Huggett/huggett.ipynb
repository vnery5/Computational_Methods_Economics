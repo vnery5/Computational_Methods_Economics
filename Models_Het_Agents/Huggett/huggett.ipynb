{
 "cells": [
  {
   "cell_type": "markdown",
   "metadata": {},
   "source": [
    "# Macro III - Solving the Original Huggett Model (Huggett, 1993, JEDC)\n",
    "\n",
    "Vinícius de Almeida Nery Ferreira"
   ]
  },
  {
   "cell_type": "code",
   "execution_count": 1,
   "metadata": {},
   "outputs": [],
   "source": [
    "# Importing packages\n",
    "## Data\n",
    "import numpy as np\n",
    "\n",
    "## Plots\n",
    "import matplotlib.pyplot as plt\n",
    "import seaborn as sns\n",
    "plt.style.use('bmh')\n",
    "\n",
    "## Other\n",
    "import random\n",
    "import time\n",
    "from tqdm import tqdm\n",
    "\n",
    "# Setting seeds for random\n",
    "random.seed(121019)\n",
    "np.random.seed(121019)"
   ]
  },
  {
   "cell_type": "markdown",
   "metadata": {},
   "source": [
    "In the model of Huggett, the starting point is a standard bond economy, where households choose consumption and how much to invest in bonds.\n",
    "\n",
    "However, we **don't have complete markets**: agents are hit by idiosyncratic shocks that are only *partially insurable*.\n",
    "\n",
    "That is, the bonds they trade are not state-contingent, and so we have incomplete markets (we don't have a bond for each possible period-state pair: there are many more goods than states).\n",
    "\n",
    "This leads to ex-ante identical agents being **heterogenous ex-post**."
   ]
  },
  {
   "cell_type": "markdown",
   "metadata": {},
   "source": [
    "The household's problem is \n",
    "\n",
    "$$\n",
    "\\max_{\\{c_t, a_{t+1}\\}_{t=0}^{\\infty}} \\mathbb{E}_0 \\sum_{t=0}^{\\infty} \\beta^t u(c_t),\n",
    "$$\n",
    "\n",
    "subject to\n",
    "\n",
    "$$\n",
    "\\begin{cases}\n",
    "c_t + q \\cdot a_{t+1} = z_t + a_t, \\quad c \\geq 0 \\\\\n",
    "z \\sim \\text{a Markov Process.}\n",
    "\\end{cases}\n",
    "$$\n",
    "\n",
    "where $u(c) = \\frac{c^{1-\\sigma}}{1-\\sigma}$ and $\\mathbb{E}_0$ denotes the expected value conditional on the information set at period 0.\n",
    "\n",
    "$a_t$ denotes bonds/financial assets. \n",
    "$z_t$ can be viewed as a labor income shock.\n",
    "$q_t = \\frac{1}{1 + r_t}$ is the bond price, where $r$ is interest rate."
   ]
  },
  {
   "cell_type": "markdown",
   "metadata": {},
   "source": [
    "The Bellman Equation of this problem can be written as\n",
    "\n",
    "$$\n",
    "V(a, z) = \\max_{a'}\\left\\{u \\left( a + z - qa' \\right) + \\beta \\mathbb{E}\\left[ V(a', z') | z = \\hat{z} \\right] \\right\\}\n",
    "$$,\n",
    "\n",
    "where we must conditional on $z = \\hat{z}$ since $z$ follows a Markov process."
   ]
  },
  {
   "cell_type": "markdown",
   "metadata": {},
   "source": [
    "Furthermore, we stablish an *ad-hoc* borrowing limit, $a' > \\underline{a} > -\\infty$.\n",
    "Note that, otherwise, agent would want $a' = -\\infty$."
   ]
  },
  {
   "cell_type": "markdown",
   "metadata": {},
   "source": [
    "Finally, note that the Euler Equation of the problem is\n",
    "\n",
    "$$\n",
    "u'(c_t) = \\beta (1+r_t) \\mathbb{E}_t[u'(c_{t+1})]\n",
    "$$\n",
    "\n",
    "since marginal gains of consumption today have to equal its marginal costs (in expected value) tomorrow.\n",
    "\n",
    "Since $u$ satisfies the INADA conditions, note that $\\beta (1+r_t) > 1$ implies\n",
    "\n",
    "$$\n",
    "u'(c_t) = \\beta (1+r_t) \\mathbb{E}_t[u'(c_{t+1})] > \\mathbb{E}_t[u'(c_{t+1})]\n",
    "\\quad \\therefore \\quad\n",
    "\\mathbb{E}_t[c_t] < \\mathbb{E}_t[u'(c_{t+1})]\n",
    "$$\n",
    "\n",
    "This means we would have explosive consumption, which would require explosive savings, which is not possible since number of states is fixed and we are in an infinite horizon that problem."
   ]
  },
  {
   "cell_type": "markdown",
   "metadata": {},
   "source": [
    "Huggett shows that, under the borrowing constraint and the assumption that $\\beta (1+r_t) \\leq 1$, the value function becomes a contraction in the relevant parameter space, and so we can solve it using the Contraction Mapping Theorem.\n",
    "\n",
    "$$\n",
    "V(a, z) = \\max_{\\underline{a} < a'< \\overline{a}}\\left\\{u \\left( a + z - qa' \\right) + \\beta \\mathbb{E}\\left[ V(a', z') | z = \\hat{z} \\right] \\right\\}\n",
    "$$"
   ]
  },
  {
   "cell_type": "markdown",
   "metadata": {},
   "source": [
    "## Parameters"
   ]
  },
  {
   "cell_type": "code",
   "execution_count": 2,
   "metadata": {},
   "outputs": [],
   "source": [
    "# Parameters (period length is two months)\n",
    "sigma = 1.5\n",
    "T = 10000"
   ]
  },
  {
   "cell_type": "code",
   "execution_count": 3,
   "metadata": {},
   "outputs": [],
   "source": [
    "# Income grid\n",
    "## Shock states: employed or unemployed\n",
    "num_states_shock = 2\n",
    "num_shock_spaces = 2\n",
    "\n",
    "## Income of each state (employed - unemployed)\n",
    "income_grid = np.array([1, 0.1])"
   ]
  },
  {
   "cell_type": "code",
   "execution_count": 4,
   "metadata": {},
   "outputs": [
    {
     "name": "stdout",
     "output_type": "stream",
     "text": [
      "[[0.925 0.075]\n",
      " [0.5   0.5  ]]\n"
     ]
    }
   ],
   "source": [
    "# Transition matrix\n",
    "transition_matrix = np.array([[0.925, 0.075], [0.5, 0.5]])\n",
    "\n",
    "# Printing transition matrix\n",
    "print(np.around(transition_matrix, 3))"
   ]
  },
  {
   "cell_type": "markdown",
   "metadata": {},
   "source": [
    "## Asset Grid and Interest Rate"
   ]
  },
  {
   "cell_type": "code",
   "execution_count": 5,
   "metadata": {},
   "outputs": [
    {
     "name": "stdout",
     "output_type": "stream",
     "text": [
      "Distance between points: 0.01\n"
     ]
    }
   ],
   "source": [
    "# Parameters to replicate Tiago's matlab code\n",
    "\n",
    "beta = 0.9932\n",
    "\n",
    "asset_lb = -2\n",
    "asset_up = 2\n",
    "num_states_assets = 351\n",
    "asset_grid = np.linspace(asset_lb, asset_up, num_states_assets)\n",
    "\n",
    "print(f\"Distance between points: {round(asset_grid[1] - asset_grid[0], 2)}\")"
   ]
  },
  {
   "cell_type": "markdown",
   "metadata": {},
   "source": [
    "## Consumption and Utility Functions"
   ]
  },
  {
   "cell_type": "markdown",
   "metadata": {},
   "source": [
    "We need to create a consumption and utility matrix conditional on each possible shock (we have 2 in our case: employed or unemployed).\n",
    "Thus, our shock space is the income grid.\n",
    "\n",
    "This is because the current shock happens at beginning of the period, and so its current value is known to agents."
   ]
  },
  {
   "cell_type": "markdown",
   "metadata": {},
   "source": [
    "On tests, I found that results are a little bit sensitive to the form of the budget constraint (using interest rates or bond prices).\n",
    "This makes results of item ***(d)*** onwards change by 0.1 to 0.2% in the case of the annual interest rates.\n",
    "\n",
    "Following Tiago's code and Huggett's original formulation, we opt to go with the formulation with bond prices."
   ]
  },
  {
   "cell_type": "code",
   "execution_count": 6,
   "metadata": {},
   "outputs": [],
   "source": [
    "def consumption_asset(a, a_prime, param_dict):\n",
    "    \"\"\" \n",
    "    Calculates consumption as a function of assets today, tomorrow and parameters\n",
    "    \"\"\"\n",
    "\n",
    "    # Getting parameters\n",
    "    income = param_dict['z']\n",
    "    q = param_dict['q']\n",
    "    r = param_dict['r']\n",
    "\n",
    "    # Calculating consumption\n",
    "    consumption = a + income - q * a_prime  # using bond price\n",
    "    # consumption = (1 + r) * a + income - a_prime  # using interest rate\n",
    "\n",
    "    # Consumption has to be positive\n",
    "    consumption = np.maximum(consumption, 1e-6)\n",
    "\n",
    "    # Returning\n",
    "    return consumption"
   ]
  },
  {
   "cell_type": "code",
   "execution_count": 7,
   "metadata": {},
   "outputs": [],
   "source": [
    "def utility_asset(a, a_prime, param_dict):\n",
    "    \"\"\" \n",
    "    Calculates utility as a function of assets today, tomorrow and parameters\n",
    "    \"\"\"\n",
    "\n",
    "    # Getting parameters\n",
    "    sigma = param_dict['sigma']\n",
    "\n",
    "    # Calculating consumption\n",
    "    consumption = consumption_asset(a, a_prime, param_dict)\n",
    "\n",
    "    # Utility\n",
    "    return (1 / (1 - sigma)) * consumption ** (1 - sigma)"
   ]
  },
  {
   "cell_type": "code",
   "execution_count": 8,
   "metadata": {},
   "outputs": [],
   "source": [
    "def get_utility_conditional_on_shock(a, a_prime, param_dict_uncertainty, shock_space):\n",
    "    \"\"\"\n",
    "    Calculates utility matrices as a function of assets today, tomorrow\n",
    "    and parameters, conditional on each value of employment.\n",
    "    Returns an array of matrices of utility for each possible combination of a, a_prime and shock\n",
    "    \"\"\"\n",
    "    \n",
    "    # Number of shocks and capital states\n",
    "    n_shock_space = shock_space.shape[0]\n",
    "    n_asset_space = a.shape[0]\n",
    "\n",
    "    # Array\n",
    "    conditional_utility_array = np.zeros([n_shock_space, n_asset_space, n_asset_space])\n",
    "\n",
    "    # Loop to fill arrays\n",
    "    for index, income in enumerate(shock_space):\n",
    "        # Filling\n",
    "        param_dict_uncertainty['z'] = income\n",
    "\n",
    "        # Calculating consumption and utility\n",
    "        ## Recall we want a today in the columns and a' tomorrow in the rows, so we transpose at the end\n",
    "        conditional_utility_array[index] = utility_asset(a, a_prime, param_dict_uncertainty).T\n",
    "\n",
    "    # Changing back\n",
    "    param_dict_uncertainty['z'] = 1\n",
    "\n",
    "    # Returning\n",
    "    return conditional_utility_array"
   ]
  },
  {
   "cell_type": "markdown",
   "metadata": {},
   "source": [
    "## Value Function"
   ]
  },
  {
   "cell_type": "code",
   "execution_count": 9,
   "metadata": {},
   "outputs": [],
   "source": [
    "def value_function_iteration_uncertainty(a_space, shock_space, shock_transition_matrix,\n",
    "                                         param_dict, tol=1e-6, max_iter=5000):\n",
    "    \"\"\"\n",
    "    Iterating through vectors (function approximations) until we reach a fixed point conditional on all shocks.\n",
    "    Ideally, we would pass the utility_capital function an its parameters as arguments to make this more general.\n",
    "    \"\"\"\n",
    "\n",
    "    # Parameters\n",
    "    beta = param_dict['beta']\n",
    "\n",
    "    # Assuring spaces are arrays\n",
    "    a_space = np.array(a_space)\n",
    "    shock_space = np.array(shock_space)\n",
    "\n",
    "    # Getting dimensions of matrices and vectors\n",
    "    num_asset_spaces = a_space.shape[0]\n",
    "    num_shock_spaces = shock_space.shape[0]\n",
    "\n",
    "    # Initial guess\n",
    "    ## Matrix of conditional value functions\n",
    "    ## V approximates the value function: for every shock and asset combination,\n",
    "    ## it should give the maximum value attained\n",
    "    V = np.zeros([num_shock_spaces, num_asset_spaces])\n",
    "    V_new = np.ones([num_shock_spaces, num_asset_spaces])\n",
    "\n",
    "    # Creating meshgrid, which give coordinates of a and a'\n",
    "    a_matrix, a_prime_matrix = np.meshgrid(a_space, a_space)\n",
    "\n",
    "    # Array with utilities for each possible combination of a, a' and shock value\n",
    "    ## For each shock value (first dimension), returns a matrix of utility for space tomorrow\n",
    "    ## in rows (second dimension) and state today in columns (third dimension)\n",
    "    u_array_conditional_shock = get_utility_conditional_on_shock(\n",
    "        a=a_matrix, a_prime=a_prime_matrix, \n",
    "        shock_space=shock_space, param_dict_uncertainty=param_dict\n",
    "    )\n",
    "\n",
    "    # Iterating\n",
    "    for num_iter in range(max_iter):\n",
    "        # Calculating matrix of possible values of V: for every state today (column),\n",
    "        # what is the value of each state tomorrow (row) conditional on each shock\n",
    "\n",
    "        ## Loop\n",
    "        for index_shock in range(num_shock_spaces):\n",
    "            # Expected value tomorrow\n",
    "            expected_V_tomorrow = shock_transition_matrix[[index_shock]] @ V\n",
    "\n",
    "            # Transforming into a vector\n",
    "            expected_V_tomorrow = expected_V_tomorrow[0, :]\n",
    "\n",
    "            ## Important: in numpy, operations between matrices (first term) and vectors (second term)\n",
    "            ## are done column-wise. That is, we add B * V(a', z') to each column, which is exactly \n",
    "            ## what we want, as rows represent a' (see matrix on slide 27 of Lecture 4)\n",
    "            matrix_state_values = u_array_conditional_shock[index_shock] + beta * expected_V_tomorrow\n",
    "\n",
    "            # Calculating maximum value for each state today (columns, axis=1)\n",
    "            # That is, for each column, we are grabbing the row (next state) which maximizes V for that state\n",
    "            # (conditional on the productivity shock we are on)\n",
    "            V_new[index_shock] = np.max(matrix_state_values, axis=1)\n",
    "\n",
    "        # Checking if we found the fixed point using the sup norm FOR EACH shock\n",
    "        # That is, we want the loop to stop when all conditions are satisfied\n",
    "        if np.max(np.abs(V - V_new)) < tol:\n",
    "            break\n",
    "        else:\n",
    "            V = V_new.copy() # this was a pain to discover that .copy() was necessary\n",
    "\n",
    "    # Assessing convergence\n",
    "    if num_iter >= max_iter - 1:\n",
    "        print(\"Value function did not converge.\")\n",
    "\n",
    "    # Returning: V_new is now a matrix with the first dimension (rows) being the productivity shocks\n",
    "    return V_new, num_iter"
   ]
  },
  {
   "cell_type": "markdown",
   "metadata": {},
   "source": [
    "## Policy Function"
   ]
  },
  {
   "cell_type": "markdown",
   "metadata": {},
   "source": [
    "We now have to find the policy function $a' = g(a, z)$ and $c = g_c(a, a') = g_c(a, g(a, z))$ through the restriction.\n",
    "\n",
    "We have to do this for each realization of the shock (recall that the current shock happens at the beginning of the period, so it is known)."
   ]
  },
  {
   "cell_type": "code",
   "execution_count": 10,
   "metadata": {},
   "outputs": [],
   "source": [
    "def policy_function(V, a_space, param_dict):\n",
    "    \"\"\"\n",
    "    Returns a vector (approximation of a function) that, for every state today,\n",
    "    gives the optimal state tomorrow.\n",
    "    \"\"\"\n",
    "    # Relevant parameters\n",
    "    beta = param_dict['beta']\n",
    "\n",
    "    # Creating meshgrid, which give coordinates of a and a'\n",
    "    a_matrix, a_prime_matrix = np.meshgrid(a_space, a_space)\n",
    "\n",
    "    # Matrix with utilities for each possible combination of a and a'\n",
    "    u_matrix = utility_asset(a=a_matrix, a_prime=a_prime_matrix, param_dict=param_dict).T\n",
    "\n",
    "    # Calculating matrix of values of state tomorrow x state today\n",
    "    matrix_state_values = u_matrix + beta * V\n",
    "    \n",
    "    # Idea: find indexes of values which give the optimal a' given a\n",
    "    ## For each column (state today), we are finding the (index of) a' which maximizes the value\n",
    "    ## The only difference from the value iteration is using np.argmax instead of np.max\n",
    "    optimal_indexes = np.argmax(matrix_state_values, axis=1)\n",
    "\n",
    "    # Finding the optimal values of a' for each a\n",
    "    return a_space[optimal_indexes], optimal_indexes"
   ]
  },
  {
   "cell_type": "code",
   "execution_count": 11,
   "metadata": {},
   "outputs": [],
   "source": [
    "def plot_policy_uncertainty(a_space, policy_a_matrix, \n",
    "                            policy_c_matrix, shock_space, \n",
    "                            title=\"Policy Functions\"):\n",
    "    # Object and title\n",
    "    fig, ax = plt.subplots(1, 2, figsize=(10, 5))\n",
    "    fig.suptitle(title, fontsize=16, fontweight='bold')\n",
    "    \n",
    "    # Define a colormap for the gradient\n",
    "    cmap = plt.get_cmap('Accent')\n",
    "    num_shocks = len(shock_space)\n",
    "    \n",
    "    # First graph: a' x a\n",
    "    for i in range(num_shocks):\n",
    "        color = cmap(i / num_shocks)\n",
    "        ax[0].plot(a_space, policy_a_matrix[i, :], \n",
    "                   label=f\"{shock_space[i]:.2f}\", color=color)\n",
    "\n",
    "    ax[0].plot(a_space, a_space, color='black', linewidth=.5, \n",
    "               linestyle='--', label=r\"$a = a'$\")\n",
    "    ax[0].set_xlabel(r\"State Today ($a$)\", fontsize=10)\n",
    "    ax[0].set_ylabel(r\"State Tomorrow ($a'$)\", fontsize=10)\n",
    "    ax[0].set_title('Asset Policy Function', fontsize=12)\n",
    "    ax[0].grid(True)\n",
    "    \n",
    "    # Second graph: c x k\n",
    "    for i in range(num_shocks):\n",
    "        color = cmap(i / num_shocks)\n",
    "        ax[1].plot(a_space, policy_c_matrix[i, :], \n",
    "                   label=f\"{shock_space[i]:.2f}\", color=color)\n",
    "\n",
    "    ax[1].set_xlabel(r\"State Today ($a$)\", fontsize=10)\n",
    "    ax[1].set_ylabel(r\"Consumption Today ($c$)\", fontsize=10)\n",
    "    ax[1].set_title('Consumption Policy Function', fontsize=12)\n",
    "    ax[1].grid(True)\n",
    "\n",
    "    # Create a common legend at the bottom\n",
    "    handles, labels = ax[0].get_legend_handles_labels()\n",
    "    fig.legend(handles, labels, title=r'Current Income $z_t$',\n",
    "               loc='lower center', \n",
    "               ncol=3, bbox_to_anchor=(0.5, -0.1))\n",
    "    \n",
    "    plt.tight_layout()\n",
    "    plt.subplots_adjust(bottom=0.15)\n",
    "    plt.show()"
   ]
  },
  {
   "cell_type": "code",
   "execution_count": 12,
   "metadata": {},
   "outputs": [],
   "source": [
    "def simulate_markov_chain(state_grid, transition_matrix, T,\n",
    "                          initial_value=None):\n",
    "    \"\"\"\n",
    "    Simulates a Markov chain of length T given the characterization objects\n",
    "    (state_grid, transition_matrix).\n",
    "    If passed, initial_value must be an element of state_grid.\n",
    "    \"\"\"\n",
    "\n",
    "    # Getting number of states\n",
    "    N = state_grid.shape[0]\n",
    "\n",
    "    # Computing cumulative distribution of the markov chain\n",
    "    ## Skeleton\n",
    "    cdf_markov_matrix = np.zeros([N, N])\n",
    "\n",
    "    ## Looping\n",
    "    for i in range(N):\n",
    "        for j in range(N):\n",
    "            # Summing row i of transition matrix until column j\n",
    "            cdf_markov_matrix[i, j] = np.sum(transition_matrix[i, :j + 1])\n",
    "    \n",
    "    # Skeleton of markov process\n",
    "    simulated_values = np.zeros(T)\n",
    "\n",
    "    # Initial state\n",
    "    ## If not specified, create at random\n",
    "    if initial_value is None:\n",
    "        index_state_today = np.random.choice(N)\n",
    "        state_today = state_grid[index_state_today]\n",
    "        simulated_values[0] = state_today\n",
    "    ## If specified, use it as the initial state and grab its index in the grid\n",
    "    else:\n",
    "        index_state_today = np.where(state_grid == initial_value)[0][0]\n",
    "        simulated_values[0] = initial_value\n",
    "\n",
    "    # Simulating\n",
    "    for t in range(1, T):\n",
    "        # Getting random index with probabilities associated to current state\n",
    "        # transition_matrix[index_state_today]: row i of transition matrix (sums to 1)\n",
    "        index_state_tomorrow = np.random.choice(\n",
    "            N, p=transition_matrix[index_state_today]\n",
    "        )\n",
    "\n",
    "        # State tomorrow\n",
    "        state_tomorrow = state_grid[index_state_tomorrow]\n",
    "\n",
    "        # Adding to array\n",
    "        simulated_values[t] = state_tomorrow\n",
    "\n",
    "        # Updating index\n",
    "        index_state_today = index_state_tomorrow\n",
    "    \n",
    "    # Returning simulation\n",
    "    return simulated_values"
   ]
  },
  {
   "cell_type": "markdown",
   "metadata": {},
   "source": [
    "## Solving Huggett's Model"
   ]
  },
  {
   "cell_type": "markdown",
   "metadata": {},
   "source": [
    "In Huggett's original model, the bond market needs to clear, with the adjustments being made through the interest rate $r$ (or equivalently through the bond price $q$).\n",
    "\n",
    "Note that, in the previous exercises, we found $a' = g(a, z)$ *conditional on* a value of $r$."
   ]
  },
  {
   "cell_type": "markdown",
   "metadata": {},
   "source": [
    "As we have idiosyncratic risk, each individual will be exposed to a diffrent history of shocks, and so can be identified by such history.\n",
    "\n",
    "Since the history of shocks affects the individual's wealth and they have different histories, there will be a **cross-sectional distribution of assets**: since agents can't fully insure, consumption and asset holding of ex-ante identical agents will be different."
   ]
  },
  {
   "cell_type": "markdown",
   "metadata": {},
   "source": [
    "We will denote the distribution of $(a, z)$ at time $t$ as $\\lambda_t(a, z)$.\n",
    "\n",
    "One of our goals is to find a time invariant (or stationary) distribution $\\lambda(a, z)$ such that $\\lambda_t(a, z) = \\lambda_{t+1}(a, z) = \\lambda(a, z)$.\n",
    "Under the *monotonic mixing condition*, we know that such a distribution exists and is unique."
   ]
  },
  {
   "cell_type": "markdown",
   "metadata": {},
   "source": [
    "Note that, even if aggregates are constant, individual-specific variables are not: the distribution is the same, but the individuals occupying each position are not.\n",
    "\n",
    "Agents jumpy frequently around the distribution, but in such a way that aggregates don't change (in the stationary distribution $\\lambda(a, z)$)."
   ]
  },
  {
   "cell_type": "markdown",
   "metadata": {},
   "source": [
    "Furthermore, since $\\lambda(a, z)$ does not change, the optimal household decision yields a constant excess-demand for bonds given a constant interest-rate: we \"just\" need to find the rate such that the bond market clears."
   ]
  },
  {
   "cell_type": "markdown",
   "metadata": {},
   "source": [
    "Formally, we have that a ***stationari equilibrium*** is an interest rate, $r$, a policy function, $g(a,z)$, and a stationary distribution $\\lambda(a,z)$, such that:\n",
    "\n",
    "1. The policy function $g(a,z)$ solves $V(a,z)$;\n",
    "2. The bond market clears:\n",
    "\n",
    "$$\n",
    "\\sum_{z,a} \\lambda(a,z) g(a,z) = 0 \\quad \\left(\\text{or } \\sum_{z,a} \\lambda(a,z) g_c(a,z) = w \\right).\n",
    "$$\n",
    "\n",
    "3. The stationary distribution $\\lambda(a,z)$ is induced by $(P,z)$ and $g(a,z)$:\n",
    "\n",
    "$$\n",
    "\\lambda(B) = \\sum_{X = [a,\\bar{a}] \\times Z \\in B} Q(X,B).\n",
    "$$,\n",
    "\n",
    "where $P$ is the transition matrix of the Markov process $z$."
   ]
  },
  {
   "cell_type": "markdown",
   "metadata": {},
   "source": [
    "To find such an interest, we will implement the following algorithm:\n",
    "\n",
    "1. Guess $r = r_j$\n",
    "\n",
    "2. Solve household’s problem using dynamic programming to find $g_j(a,z)$ and find $\\lambda_j(a,z)$\n",
    "\n",
    "3. Compute the aggregate excess demand for bonds:\n",
    "$$\n",
    "e = \\sum_{z,a} \\lambda_j(a,z)g_j(a,z)\n",
    "$$\n",
    "\n",
    "4. If $e > \\varepsilon$, we have too much savings, so we need to make it less atractive. Thus, update $r_{j+1} < r_j$ (if $e < \\varepsilon$, update $r_{j+1} > r_j$) and go back to step (1). \n",
    "If $|e| < \\varepsilon$, stop."
   ]
  },
  {
   "cell_type": "markdown",
   "metadata": {},
   "source": [
    "### Endogenous Markov Chain"
   ]
  },
  {
   "cell_type": "markdown",
   "metadata": {},
   "source": [
    "To calculate the cross-sectional distribution, we will use the **discretization** approach, approximating the distribution function on a discrete number of asset points.\n",
    "\n",
    "This will be done using the grid we constructed for the first exercises."
   ]
  },
  {
   "cell_type": "markdown",
   "metadata": {},
   "source": [
    "Note that our distribution depends on $a$ and $z$, where $a$ is endogeneous.\n",
    "Thus, we have to create a endogenous markov chain and find a fixed point for it.\n",
    "\n",
    "Denoting by $M$ the number of assets in the grid and by $N$ the number of states, we will have a $MN \\times MN$ transition matrix."
   ]
  },
  {
   "cell_type": "markdown",
   "metadata": {},
   "source": [
    "We will follow the steps that start in Slide 39 of Lecture 6."
   ]
  },
  {
   "cell_type": "markdown",
   "metadata": {},
   "source": [
    "First, we need to convert our policy functions to (binary) transition matrices, with one matrix for each state.\n",
    "\n",
    "The element $ij$ of each matrix indicates if the next state $j$ is the optimal state to be in given the state today $i$, conditional on the value of the shock."
   ]
  },
  {
   "cell_type": "code",
   "execution_count": 13,
   "metadata": {},
   "outputs": [],
   "source": [
    "# Transforming into a function for the loop\n",
    "def get_policy_transition_matrices(policy_indexes_matrix, num_states_shock, num_states_assets):\n",
    "    # Skeleton of array\n",
    "    policy_transition_matrices = np.zeros([num_states_shock, num_states_assets, num_states_assets])\n",
    "\n",
    "    # Looping to fill\n",
    "    for index_shock in range(num_states_shock):\n",
    "        for state_today in range(num_states_assets):\n",
    "            # Optimal state to be in tomorrow given state today and shocl\n",
    "            optimal_state_tomorrow = int(policy_indexes_matrix[index_shock, state_today])\n",
    "\n",
    "            # Filling matrix\n",
    "            policy_transition_matrices[index_shock, state_today, optimal_state_tomorrow] = 1\n",
    "    \n",
    "    # Returning the policy transition array\n",
    "    return policy_transition_matrices"
   ]
  },
  {
   "cell_type": "markdown",
   "metadata": {},
   "source": [
    "We now create the block matrix that is the endogenous Markov Chain.\n",
    "\n",
    "That is, denoting by $M_g$ the transition matrix of assets in the good state (being employed) and by $M_b$ the one in the bad state, we have \n",
    "\n",
    "$$\n",
    "M = \n",
    "\\begin{bmatrix}\n",
    "\\pi(e_h | e_h) \\cdot M_g & \\pi(e_l | e_h) \\cdot M_g \\\\\n",
    "\\pi(e_h | e_l) \\cdot M_b & \\pi(e_l | e_l) \\cdot M_b\n",
    "\\end{bmatrix},\n",
    "$$\n",
    "\n",
    "where \n",
    "\n",
    "$$\n",
    "P =\n",
    "\\begin{bmatrix}\n",
    "\\pi(e_h | e_h) & \\pi(e_l | e_h) \\\\\n",
    "\\pi(e_h | e_l) & \\pi(e_l | e_l)\n",
    "\\end{bmatrix}\n",
    "$$\n",
    "\n",
    "is the (exogenous) transition matrix of shocks.\n",
    "Note that $\\pi(e_h | e_h) = 0.925$ and $\\pi(e_l | e_l) = 0.5$ in our example."
   ]
  },
  {
   "cell_type": "markdown",
   "metadata": {},
   "source": [
    "Note that the relevant policy function is the one in the current state.\n",
    "Furthermore, each row of $M$ sums to one."
   ]
  },
  {
   "cell_type": "code",
   "execution_count": 14,
   "metadata": {},
   "outputs": [],
   "source": [
    "# Creating function\n",
    "def get_endogenous_transition_matrix(policy_transition_matrices, exog_transition_matrix,\n",
    "                                     num_states_shock, num_states_assets):\n",
    "    # Skeleton of array\n",
    "    endogenous_transition_matrix = np.zeros([num_states_assets * num_states_shock,\n",
    "                                            num_states_assets * num_states_shock])\n",
    "\n",
    "    # Filling the matrix\n",
    "    for state_shock_today in range(num_states_shock):\n",
    "        # Initial and final indexes that delimit each \"quadrant\"\n",
    "        # Recall that each \"row\" (group of rows) denotes the state today\n",
    "        initial_index_row = state_shock_today * num_states_assets\n",
    "        final_index_row = (state_shock_today + 1) * num_states_assets\n",
    "\n",
    "        for state_shock_tomorrow in range(num_states_shock):\n",
    "            # Initial and final indexes that delimit each \"quadrant\"\n",
    "            # Recall that each \"column\" (group of column) denotes the state today\n",
    "            initial_index_col = state_shock_tomorrow * num_states_assets\n",
    "            final_index_col = (state_shock_tomorrow + 1) * num_states_assets\n",
    "\n",
    "            # Filling the quadrabt of the matrix that corresponds to \n",
    "            # state_today x state_tomorrow\n",
    "            endogenous_transition_matrix[initial_index_row:final_index_row, \n",
    "                                        initial_index_col:final_index_col] = \\\n",
    "                exog_transition_matrix[state_shock_today, state_shock_tomorrow] * \\\n",
    "                policy_transition_matrices[state_shock_today]\n",
    "    \n",
    "    # Returning the matrix\n",
    "    return endogenous_transition_matrix"
   ]
  },
  {
   "cell_type": "markdown",
   "metadata": {},
   "source": [
    "### Stationary Distribution"
   ]
  },
  {
   "cell_type": "markdown",
   "metadata": {},
   "source": [
    "We will approximate the stationary distribution by simulating its motion law across a large number of periods.\n",
    "If we arrive at a distribution that doesn't change much between iterations, we found our stationary distribution.\n",
    "\n",
    "This is given in Slides 34 and 35 of Lecture 6."
   ]
  },
  {
   "cell_type": "code",
   "execution_count": 15,
   "metadata": {},
   "outputs": [],
   "source": [
    "def get_stationary_distribution(endogenous_transition_matrix, max_iter=5000, tol=1e-6):\n",
    "    # Getting number of shocks * assets\n",
    "    dimension = endogenous_transition_matrix.shape[0]\n",
    "\n",
    "    # Initial unconditional distribution: everyone has equal assets\n",
    "    # \"everyone\": everyone in all possible assets x shocks pairs\n",
    "    lambda_today = np.ones([1, dimension]) / dimension\n",
    "\n",
    "    # Simulating distribution\n",
    "    for num_iter in range(max_iter):\n",
    "        # Calculating distribution of next period (vT in the slides)\n",
    "        lambda_tomorrow = lambda_today @ endogenous_transition_matrix\n",
    "\n",
    "        # Seeing if the distributions are close, i.e., if we found the stationary one\n",
    "        if np.max(np.abs(lambda_today - lambda_tomorrow)) < tol:\n",
    "            break\n",
    "        else:\n",
    "            lambda_today = lambda_tomorrow.copy()\n",
    "    \n",
    "    # Assessing convergence\n",
    "    if num_iter >= max_iter - 1:\n",
    "        print(\"Stationary distribution was not found.\")\n",
    "    \n",
    "    # Returning vector of the stationary distribution\n",
    "    return lambda_tomorrow"
   ]
  },
  {
   "cell_type": "markdown",
   "metadata": {},
   "source": [
    "### Market Clearing"
   ]
  },
  {
   "cell_type": "markdown",
   "metadata": {},
   "source": [
    "Will check the excess demand for bonds, which is given by the net demands for $a'$ (recall that $a_t$ is chosen in $t-1$).\n",
    "\n",
    "This is given in Slides 43 and 44 of Lecture 6."
   ]
  },
  {
   "cell_type": "code",
   "execution_count": 16,
   "metadata": {},
   "outputs": [],
   "source": [
    "def get_excess_demand_bonds(stationary_distribution, policy_a_matrix):\n",
    "    \"\"\"\n",
    "    The stationary distribution is a 1 x N * M vector,\n",
    "    while policy_a_matrix is a N_shocks x N assets matrix\n",
    "    \"\"\"\n",
    "\n",
    "    # Getting dimensions\n",
    "    num_states_shock = policy_a_matrix.shape[0]\n",
    "    num_states_assets = policy_a_matrix.shape[1]\n",
    "    dimension = num_states_shock * num_states_assets\n",
    "\n",
    "    # Calculating excess demand\n",
    "    ## Skeleton\n",
    "    excess_demand_vector = np.zeros(dimension)\n",
    "\n",
    "    ## Looping\n",
    "    for shock_today in range(num_states_shock):\n",
    "        for state_today in range(num_states_assets):\n",
    "            # Calculating index\n",
    "            index_state_shock = int(shock_today * num_states_assets + state_today)\n",
    "\n",
    "            # Calculating excess demand for that pair (a, z)\n",
    "            excess_demand_vector[index_state_shock] = \\\n",
    "                stationary_distribution[0, index_state_shock] * \\\n",
    "                policy_a_matrix[shock_today, state_today]\n",
    "\n",
    "    # Calculating excess demand\n",
    "    # excess_demand_bonds = np.dot(stationary_distribution[0], policy_a_vec[0])\n",
    "    excess_demand_bonds = np.sum(excess_demand_vector)\n",
    "\n",
    "    # Returning\n",
    "    return excess_demand_bonds, excess_demand_vector"
   ]
  },
  {
   "cell_type": "markdown",
   "metadata": {},
   "source": [
    "To update the interest rate in case of non-convergence, we will use the bisection method, updating at the mid point of the bounds."
   ]
  },
  {
   "cell_type": "markdown",
   "metadata": {},
   "source": [
    "## Putting it All Together"
   ]
  },
  {
   "cell_type": "markdown",
   "metadata": {},
   "source": [
    "We will now do the whole thing to find what is the optimal interest rate.\n",
    "\n",
    "Keep in mind that, as in the matlab code, we solve for $q = \\frac{1}{1+r}$.\n",
    "Recall that, in the deteministic case, $q = \\frac{1}{1+r} = \\beta$."
   ]
  },
  {
   "cell_type": "markdown",
   "metadata": {},
   "source": [
    "##### Solving the Model"
   ]
  },
  {
   "cell_type": "code",
   "execution_count": 17,
   "metadata": {},
   "outputs": [],
   "source": [
    "# Parameters\n",
    "max_iter_market_clearing = 50\n",
    "tol_market_clearing = 0.001  # same as Tiago (Huggett: 0.0025)\n",
    "\n",
    "# Initial parameters for the bisection algorithm\n",
    "q_lb = beta + tol_market_clearing\n",
    "q_ub = 1.2\n",
    "q_guess = (q_lb + q_ub) / 2"
   ]
  },
  {
   "cell_type": "code",
   "execution_count": 18,
   "metadata": {},
   "outputs": [],
   "source": [
    "# Updating the dictionary of parameters\n",
    "param_dict_market = {\n",
    "    'beta': beta,\n",
    "    'sigma': sigma,\n",
    "    'r': 1 / q_guess - 1,\n",
    "    'q':q_guess,\n",
    "    'z': 1,\n",
    "    'T': T\n",
    "}"
   ]
  },
  {
   "cell_type": "markdown",
   "metadata": {},
   "source": [
    "Since we will solve the problem a lot of times, it is worth to make the solving algorithm a function."
   ]
  },
  {
   "cell_type": "code",
   "execution_count": 19,
   "metadata": {},
   "outputs": [],
   "source": [
    "def market_clearing_huggett(\n",
    "    param_dict_market_clearing,\n",
    "    q_lb,\n",
    "    q_ub,\n",
    "    q_guess,\n",
    "    asset_grid,\n",
    "    max_iter_market_clearing=max_iter_market_clearing,\n",
    "    tol_market_clearing=tol_market_clearing,\n",
    "    income_grid=income_grid,\n",
    "    transition_matrix=transition_matrix,\n",
    "    num_shock_spaces=num_shock_spaces,\n",
    "    num_states_assets=num_states_assets,\n",
    "    num_states_shock=num_states_shock\n",
    "):\n",
    "    # Placeholder lists for storing excess demand bonds\n",
    "    excess_demand_bonds_list = []\n",
    "\n",
    "    for num_iter_market in tqdm(range(max_iter_market_clearing)):\n",
    "        \"\"\"\n",
    "        1. Solve the household's problem with the given parameters\n",
    "        \"\"\"\n",
    "        # Value function\n",
    "        V_matrix, num_iter_value = value_function_iteration_uncertainty(\n",
    "            a_space=asset_grid, \n",
    "            shock_space=income_grid, \n",
    "            shock_transition_matrix=transition_matrix, \n",
    "            param_dict=param_dict_market_clearing,\n",
    "            max_iter=5000,\n",
    "            tol=1e-8\n",
    "        )\n",
    "\n",
    "        # Policy function\n",
    "        policy_a_matrix = np.zeros([num_shock_spaces, num_states_assets])\n",
    "        policy_indexes_matrix = np.zeros([num_shock_spaces, num_states_assets])\n",
    "        policy_c_matrix = np.zeros([num_shock_spaces, num_states_assets])\n",
    "\n",
    "\n",
    "        # Looping to calculate policy function for each state\n",
    "        for num_space in range(num_shock_spaces):\n",
    "            # Updating parameter\n",
    "            param_dict_market_clearing['z'] = income_grid[num_space]\n",
    "\n",
    "            # Policy function and indexes\n",
    "            ## Assets\n",
    "            policy_a_matrix[num_space], policy_indexes_matrix[num_space] = policy_function(\n",
    "                V=V_matrix[num_space], \n",
    "                a_space=asset_grid,\n",
    "                param_dict=param_dict_market_clearing\n",
    "            )\n",
    "\n",
    "            ## Consumption\n",
    "            policy_c_matrix[num_space] = consumption_asset(\n",
    "                a=asset_grid,\n",
    "                a_prime=policy_a_matrix[num_space],\n",
    "                param_dict=param_dict_market_clearing\n",
    "            )\n",
    "\n",
    "        \"\"\"\n",
    "        2. Calculate the endogenous Markov Chain to get the law of motion\n",
    "        of the unconditional asset distribution of assets and shocks\n",
    "        \"\"\"\n",
    "        policy_transition_matrices = get_policy_transition_matrices(\n",
    "            policy_indexes_matrix=policy_indexes_matrix,\n",
    "            num_states_shock=num_states_shock,\n",
    "            num_states_assets=num_states_assets\n",
    "        )\n",
    "\n",
    "        # Getting endogenous transition matrix\n",
    "        endogenous_transition_matrix = get_endogenous_transition_matrix(\n",
    "            policy_transition_matrices=policy_transition_matrices,\n",
    "            exog_transition_matrix=transition_matrix,\n",
    "            num_states_shock=num_states_shock,\n",
    "            num_states_assets=num_states_assets\n",
    "        )\n",
    "\n",
    "        \"\"\"\n",
    "        3. Get the stationary distribution using the endogenous transition matrix\n",
    "        \"\"\"\n",
    "        stationary_distribution = get_stationary_distribution(endogenous_transition_matrix, tol=1e-8)\n",
    "\n",
    "        \"\"\"\n",
    "        4. Calculate excess demand for bonds\n",
    "        \"\"\"\n",
    "        excess_demand_bonds, excess_demand_vector = get_excess_demand_bonds(\n",
    "            stationary_distribution=stationary_distribution,\n",
    "            policy_a_matrix=policy_a_matrix\n",
    "        )\n",
    "\n",
    "        # Storing result\n",
    "        excess_demand_bonds_list.append(excess_demand_bonds)\n",
    "\n",
    "        # Assessing market clearing\n",
    "        if abs(excess_demand_bonds) < tol_market_clearing:\n",
    "            break\n",
    "        else:\n",
    "            # If we haven't convergence, update the price of bonds\n",
    "            if excess_demand_bonds > 0:\n",
    "                q_lb = q_guess\n",
    "            else:\n",
    "                q_ub = q_guess\n",
    "        \n",
    "        # Assessing improvement\n",
    "        if num_iter_market > 5:\n",
    "            if np.mean(excess_demand_bonds_list[(num_iter_market - 5):num_iter_market]) == excess_demand_bonds:\n",
    "                print(f\"Algorithm stopped improving. Stopping at {num_iter_market} iterations.\")\n",
    "                break\n",
    "\n",
    "        # Mid-point\n",
    "        q_guess = (q_lb + q_ub) / 2\n",
    "\n",
    "        # Updating dictionary\n",
    "        param_dict_market_clearing['r'] = 1 / q_guess - 1\n",
    "        param_dict_market_clearing['q'] = q_guess\n",
    "\n",
    "    # Assessing convergence\n",
    "    if num_iter_market == max_iter_market_clearing - 1:\n",
    "        print(f\"Algorithm did not converge in {num_iter_market + 1} iterations with tolerance {tol_market_clearing}.\")\n",
    "\n",
    "    return param_dict_market_clearing, excess_demand_bonds, excess_demand_vector, \\\n",
    "        policy_a_matrix, policy_c_matrix, stationary_distribution"
   ]
  },
  {
   "cell_type": "code",
   "execution_count": 20,
   "metadata": {},
   "outputs": [
    {
     "name": "stderr",
     "output_type": "stream",
     "text": [
      "  0%|          | 0/50 [00:00<?, ?it/s]"
     ]
    },
    {
     "name": "stderr",
     "output_type": "stream",
     "text": [
      " 20%|██        | 10/50 [00:21<01:25,  2.14s/it]"
     ]
    },
    {
     "name": "stdout",
     "output_type": "stream",
     "text": [
      "21.5 seconds to run.\n"
     ]
    },
    {
     "name": "stderr",
     "output_type": "stream",
     "text": [
      "\n"
     ]
    }
   ],
   "source": [
    "# Solving the model\n",
    "t0 = time.time()\n",
    "\n",
    "param_dict_market, excess_demand_bonds, excess_demand_vector, \\\n",
    "    policy_a_matrix, policy_c_matrix, stationary_distribution \\\n",
    "    = market_clearing_huggett(\n",
    "        param_dict_market_clearing=param_dict_market,\n",
    "        q_lb=q_lb, q_ub=q_ub, q_guess=q_guess,\n",
    "        asset_grid=asset_grid\n",
    "    )\n",
    "\n",
    "print(f\"{round(time.time() - t0, 1)} seconds to run.\")"
   ]
  },
  {
   "cell_type": "code",
   "execution_count": 21,
   "metadata": {},
   "outputs": [
    {
     "name": "stdout",
     "output_type": "stream",
     "text": [
      "Excess demand for bonds: -0.0001\n"
     ]
    }
   ],
   "source": [
    "# Printing excess demand for bonds\n",
    "print(f\"Excess demand for bonds: {round(excess_demand_bonds, 4)}\")\n",
    "# print(\"Excess demand for each state-asset level:\")\n",
    "# np.around(excess_demand_vector, 3)"
   ]
  },
  {
   "cell_type": "code",
   "execution_count": 22,
   "metadata": {},
   "outputs": [
    {
     "name": "stdout",
     "output_type": "stream",
     "text": [
      "Bond price per period: 1.0116\n",
      "Interest rate per period: -1.15%\n"
     ]
    }
   ],
   "source": [
    "# Printing bond price per period and interest rate per period\n",
    "print(f\"Bond price per period: {round(param_dict_market['q'], 4)}\")\n",
    "print(f\"Interest rate per period: {round(100 * param_dict_market['r'], 2)}%\")"
   ]
  },
  {
   "cell_type": "code",
   "execution_count": 23,
   "metadata": {},
   "outputs": [
    {
     "name": "stdout",
     "output_type": "stream",
     "text": [
      "Annual interest rate: -6.68%\n"
     ]
    }
   ],
   "source": [
    "# Annualized interest rate\n",
    "annual_interest_rate = ((1 + param_dict_market['r'])**6 - 1)\n",
    "print(f\"Annual interest rate: {round(100 * annual_interest_rate, 2)}%\")"
   ]
  },
  {
   "cell_type": "markdown",
   "metadata": {},
   "source": [
    "Using [MatLab Online](https://matlab.mathworks.com/), Tiago's original code gives a bond price of 1.0112 per period and an annual interest rate of -6.49% (per period: -1.11%).\n",
    "\n",
    "When using the same parameters as his, I get a bond price of 1.0116 per period and an annual interest rate of -6.68% (per period: -1.15%).\n",
    "I am calling this a win."
   ]
  },
  {
   "cell_type": "markdown",
   "metadata": {},
   "source": [
    "Note that this is different from the value in Huggett, which, with a credit limit of -2, gives a bond price of 1.0124 and an annual interest rate of -7.1% (see Table 1)."
   ]
  },
  {
   "cell_type": "markdown",
   "metadata": {},
   "source": [
    "We now plot the policy functions in Huggett's equilibrium."
   ]
  },
  {
   "cell_type": "code",
   "execution_count": 24,
   "metadata": {},
   "outputs": [
    {
     "data": {
      "image/png": "[encoded data removed]",
      "text/plain": [
       "<Figure size 1000x500 with 2 Axes>"
      ]
     },
     "metadata": {},
     "output_type": "display_data"
    }
   ],
   "source": [
    "plot_policy_uncertainty(asset_grid, policy_a_matrix, policy_c_matrix, income_grid)"
   ]
  },
  {
   "cell_type": "markdown",
   "metadata": {},
   "source": [
    "##### Asset Distributions"
   ]
  },
  {
   "cell_type": "code",
   "execution_count": 25,
   "metadata": {},
   "outputs": [],
   "source": [
    "# Flattening the policy matrix (first the first row, then the row)\n",
    "# This is because of the way we structured the endogenous transition matrix,\n",
    "# which was first all assets in the good state, then all assets in bad state.\n",
    "policy_a_flat = policy_a_matrix.flatten(order='C')"
   ]
  },
  {
   "cell_type": "code",
   "execution_count": 26,
   "metadata": {},
   "outputs": [],
   "source": [
    "# Sorting following the values of policy a\n",
    "sorted_indices = np.argsort(policy_a_flat)\n",
    "\n",
    "sorted_policy_a_flat = policy_a_flat[sorted_indices]\n",
    "sorted_stationary_distribution = stationary_distribution[0][sorted_indices]"
   ]
  },
  {
   "cell_type": "code",
   "execution_count": 27,
   "metadata": {},
   "outputs": [],
   "source": [
    "# Calculating the CDF\n",
    "cdf_stationary_distribution = np.cumsum(sorted_stationary_distribution)"
   ]
  },
  {
   "cell_type": "code",
   "execution_count": 28,
   "metadata": {},
   "outputs": [
    {
     "data": {
      "image/png": "[encoded data removed]",
      "text/plain": [
       "<Figure size 600x400 with 1 Axes>"
      ]
     },
     "metadata": {},
     "output_type": "display_data"
    }
   ],
   "source": [
    "# Plotting\n",
    "## Object\n",
    "plt.figure(figsize=(6, 4))\n",
    "\n",
    "## Plot\n",
    "plt.plot(sorted_policy_a_flat, cdf_stationary_distribution)\n",
    "\n",
    "## Labels\n",
    "plt.xlabel(\"Asset Level\")\n",
    "plt.ylabel(r\"$F(a, z)$\")\n",
    "plt.title(\"Distribution of Assets\")\n",
    "\n",
    "## Show\n",
    "plt.grid(True)\n",
    "plt.show()"
   ]
  },
  {
   "cell_type": "markdown",
   "metadata": {},
   "source": [
    "The fixed point is slightly below 1. Although this is different from Tiago's, it is consistent with Huggett's Figure 2."
   ]
  },
  {
   "cell_type": "markdown",
   "metadata": {},
   "source": [
    "We now calculate the Gini coefficient and the standard deviation of asset holdings.\n",
    "\n",
    "To do so, we will simulate and economy of 10,000 agents that has the same distribution of assets as the stationary one."
   ]
  },
  {
   "cell_type": "code",
   "execution_count": 29,
   "metadata": {},
   "outputs": [],
   "source": [
    "# Number of agents\n",
    "num_agents = 10000\n",
    "\n",
    "# Array of indexes\n",
    "array_coefficients_gini_index = np.around(cdf_stationary_distribution * num_agents, 0).astype(int) - 1\n",
    "\n",
    "# Initializing array\n",
    "array_assets_agents = np.zeros(num_agents)\n",
    "\n",
    "# Simulating the distribution\n",
    "for num_agent in range(num_agents):\n",
    "    # Grabbing what is the minimum 'quantile' that accomodates that agent\n",
    "    min_quantile = np.min(array_coefficients_gini_index[array_coefficients_gini_index >= num_agent])\n",
    "    \n",
    "    # Index of asset\n",
    "    min_index = np.where(array_coefficients_gini_index == min_quantile)[0][0]\n",
    "\n",
    "    # Giving that asset level to agent\n",
    "    array_assets_agents[num_agent] = sorted_policy_a_flat[min_index]"
   ]
  },
  {
   "cell_type": "code",
   "execution_count": 30,
   "metadata": {},
   "outputs": [
    {
     "data": {
      "image/png": "[encoded data removed]",
      "text/plain": [
       "<Figure size 600x400 with 1 Axes>"
      ]
     },
     "metadata": {},
     "output_type": "display_data"
    }
   ],
   "source": [
    "# Calculating Lorenz curve and plotting it\n",
    "array_assets_lorenz = np.cumsum(array_assets_agents)\n",
    "cumulative_share_agents = np.cumsum(np.ones(num_agents) / num_agents)\n",
    "\n",
    "## Object\n",
    "plt.figure(figsize=(6, 4))\n",
    "\n",
    "## Plot\n",
    "plt.plot(cumulative_share_agents, array_assets_lorenz)\n",
    "\n",
    "## Labels\n",
    "plt.xlabel(\"Asset Level\")\n",
    "plt.ylabel(\"Cumulative Assets\")\n",
    "plt.title(\"Lorenz Curve of Assets\")\n",
    "\n",
    "## Show\n",
    "plt.grid(True)\n",
    "plt.show()"
   ]
  },
  {
   "cell_type": "markdown",
   "metadata": {},
   "source": [
    "To calculate the Gini, I took a function from [StackOverflow](https://stackoverflow.com/questions/39512260/calculating-gini-coefficient-in-python-numpy)."
   ]
  },
  {
   "cell_type": "code",
   "execution_count": 31,
   "metadata": {},
   "outputs": [],
   "source": [
    "def gini_coefficient(x):\n",
    "    \"\"\"Compute Gini coefficient of array of values\"\"\"\n",
    "\n",
    "    diffsum = 0\n",
    "    for i, xi in enumerate(x[:-1], 1):\n",
    "        diffsum += np.sum(np.abs(xi - x[i:]))\n",
    "        \n",
    "    return diffsum / (len(x)**2 * np.mean(x))"
   ]
  },
  {
   "cell_type": "code",
   "execution_count": 32,
   "metadata": {},
   "outputs": [
    {
     "name": "stdout",
     "output_type": "stream",
     "text": [
      "Gini coefficient with sigma = 1.5: -6411.1\n"
     ]
    }
   ],
   "source": [
    "# Calculating Gini coefficient\n",
    "print(f\"Gini coefficient with sigma = {param_dict_market['sigma']}: {round(gini_coefficient(array_assets_agents), 2)}\")"
   ]
  },
  {
   "cell_type": "code",
   "execution_count": 33,
   "metadata": {},
   "outputs": [
    {
     "name": "stdout",
     "output_type": "stream",
     "text": [
      "Standard deviation with sigma = 1.5: 0.63\n"
     ]
    }
   ],
   "source": [
    "# Calculating standard deviation\n",
    "print(f\"Standard deviation with sigma = {param_dict_market['sigma']}: {round(np.std(array_assets_agents), 2)}\")"
   ]
  }
 ],
 "metadata": {
  "kernelspec": {
   "display_name": "macro3_eesp",
   "language": "python",
   "name": "python3"
  },
  "language_info": {
   "codemirror_mode": {
    "name": "ipython",
    "version": 3
   },
   "file_extension": ".py",
   "mimetype": "text/x-python",
   "name": "python",
   "nbconvert_exporter": "python",
   "pygments_lexer": "ipython3",
   "version": "3.9.19"
  }
 },
 "nbformat": 4,
 "nbformat_minor": 2
}

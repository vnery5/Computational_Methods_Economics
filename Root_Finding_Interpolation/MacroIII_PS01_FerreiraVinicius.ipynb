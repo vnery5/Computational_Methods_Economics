{
 "cells": [
  {
   "cell_type": "markdown",
   "metadata": {},
   "source": [
    "# Macro III - Problem Set 01\n",
    "\n",
    "Vinícius de Almeida Nery Ferreira\n",
    "\n",
    "August 21th, 2024"
   ]
  },
  {
   "cell_type": "code",
   "execution_count": 1,
   "metadata": {},
   "outputs": [],
   "source": [
    "# Importing packages\n",
    "import matplotlib.pyplot as plt\n",
    "import numpy as np\n",
    "import pandas as pd\n",
    "import random\n",
    "\n",
    "# Setting seed for random\n",
    "random.seed(121019)"
   ]
  },
  {
   "cell_type": "markdown",
   "metadata": {},
   "source": [
    "## Question 1 - Solving Nonlinear Equations - Bisection Method"
   ]
  },
  {
   "cell_type": "markdown",
   "metadata": {},
   "source": [
    "### (a) Analytical steady-state capital per worker"
   ]
  },
  {
   "cell_type": "markdown",
   "metadata": {},
   "source": [
    "In the standard Solow economic growth model, the steady-state capital per worker solves\n",
    "\n",
    "$$sf(k) = (n + g + \\delta)k,$$\n",
    "\n",
    "with $f(k) = k^\\alpha$.\n",
    "Dividing both sides by $k$, we get\n",
    "\n",
    "$$s k^{\\alpha - 1} = (n + g + \\delta) \\quad \\therefore \\quad k = \\left(\\frac{s}{n + g + \\delta} \\right)^{\\frac{1}{1 - \\alpha}}$$\n",
    "\n",
    "Let $s = 0.3$, $\\alpha = 0.3$, $n = 0.01$, $g = 0.02$ and $\\delta = 0.05$.\n",
    "The analytical solution is given by:"
   ]
  },
  {
   "cell_type": "code",
   "execution_count": 2,
   "metadata": {},
   "outputs": [],
   "source": [
    "# Defining parameters\n",
    "s = 0.3\n",
    "alpha = 0.3\n",
    "n = 0.01\n",
    "g = 0.02\n",
    "delta = 0.05"
   ]
  },
  {
   "cell_type": "code",
   "execution_count": 3,
   "metadata": {},
   "outputs": [
    {
     "name": "stdout",
     "output_type": "stream",
     "text": [
      "The steady-state capital is 6.608.\n",
      "The steady-state capital is 6.608.\n"
     ]
    }
   ],
   "source": [
    "# Calculating steady-state capital\n",
    "analytical_k = (s / (n + g + delta))**(1/(1 - alpha))\n",
    "print(f\"The steady-state capital is {round(analytical_k, 3)}.\")"
   ]
  },
  {
   "cell_type": "markdown",
   "metadata": {},
   "source": [
    "### (b) Bisection Method"
   ]
  },
  {
   "cell_type": "markdown",
   "metadata": {},
   "source": [
    "In the Solow growth model, we know that there can't be dynamic inefficiency, so we know that the steady-state capital is never higher than the one implied by the golden rule.\n",
    "\n",
    "In the steady-state, investment is just enough to replenish the depreciated capital (so that $\\hat{k} = 0$). Then,\n",
    "\n",
    "$$c = f(k) - \\delta k = k^\\alpha - \\delta k$$\n",
    "\n",
    "To maximize it, we take the FOC (as $f(k)$ is concave) with respect to $k$:\n",
    "\n",
    "$$0 = \\alpha k^{\\alpha - 1} - \\delta \\quad \\therefore \\quad k_{GR} = \\left(\\frac{\\alpha}{\\delta} \\right)^{\\frac{1}{1 - \\alpha}}$$"
   ]
  },
  {
   "cell_type": "code",
   "execution_count": 4,
   "metadata": {},
   "outputs": [
    {
     "name": "stdout",
     "output_type": "stream",
     "text": [
      "Golden Rule Capital: 12.931.\n",
      "Golden Rule Capital: 12.931.\n"
     ]
    }
   ],
   "source": [
    "# Computing analytical golden rule capital\n",
    "analytical_k_gr = (alpha / delta)**(1/(1 - alpha))\n",
    "print(f\"Golden Rule Capital: {round(analytical_k_gr, 3)}.\")"
   ]
  },
  {
   "cell_type": "markdown",
   "metadata": {},
   "source": [
    "Thus, our initial interval will be $[0.01, k_{gr}]$, as we need that the function evaluated at the lower bound be negative so that the Intermediate Value Theorem holds. \n",
    "\n",
    "We will now implement the bisection method, first defining a function then applying the method.\n",
    "\n",
    "*NOTE: it goes without saying that ChatGPT helped with some of the code in this exercise, mainly translating the in-class codes from Matlab to Python.*"
   ]
  },
  {
   "cell_type": "code",
   "execution_count": 5,
   "metadata": {},
   "outputs": [],
   "source": [
    "def bisection_method(func, a, b, tol=0.00001, max_iter=10**4):\n",
    "    \"\"\"\n",
    "    Implements the bisection method for a function func on a interval [a, b]\n",
    "    \"\"\"\n",
    "\n",
    "    # Calculate the function values at the bounds\n",
    "    fa = func(a)\n",
    "    fb = func(b)\n",
    "\n",
    "    # Check the Intermediate Value Theorem condition\n",
    "    if fa * fb > 0:\n",
    "        return 'Wrong choice for a and b'\n",
    "\n",
    "    # Start the bisection process\n",
    "    num_iterations = 0\n",
    "    c = (a + b) / 2\n",
    "    err = abs(func(c))\n",
    "\n",
    "    # For fun, I will get each iteration of c to plot after\n",
    "    k_guesses_vector = [c]\n",
    "    \n",
    "    # Iterating while we have not yet converged or reached the maximum number of iterations\n",
    "    while (err > tol) and (num_iterations < max_iter):\n",
    "        if func(c) > 0:\n",
    "            b = c\n",
    "        elif func(c) < 0:\n",
    "            a = c\n",
    "        \n",
    "        # Average point\n",
    "        c = (a + b) / 2\n",
    "\n",
    "        # Checking \"error\", i.e., difference toward f(x) = 0 (recall we want a root)\n",
    "        err = abs(func(c))\n",
    "        k_guesses_vector.append(c)\n",
    "        num_iterations += 1\n",
    "\n",
    "    # Return the root, number of iterations and the \"convergence path\"\n",
    "    return c, num_iterations, k_guesses_vector"
   ]
  },
  {
   "cell_type": "code",
   "execution_count": 6,
   "metadata": {},
   "outputs": [],
   "source": [
    "# Equation to find the root of the steady state capital\n",
    "def steady_state_k(k, s=s, alpha=alpha, n=n, g=g, delta=delta):\n",
    "    return s * (k**alpha) - (n + g + delta) * k"
   ]
  },
  {
   "cell_type": "code",
   "execution_count": 7,
   "metadata": {},
   "outputs": [
    {
     "data": {
      "image/png": "[encoded data removed]",
      "text/plain": [
       "<Figure size 640x480 with 1 Axes>"
      ]
     },
     "metadata": {},
     "output_type": "display_data"
    }
   ],
   "source": [
    "# Plotting functions\n",
    "## Functions\n",
    "def savings_curve(k, s, alpha):\n",
    "    return s * (k ** alpha)\n",
    "\n",
    "def depreciation_curve(k, n, g, delta):\n",
    "    return (n + g + delta) * k\n",
    "\n",
    "## Generate values for k over the interval [0, 15]\n",
    "k_values = np.linspace(0, 15, 400)\n",
    "savings_values = savings_curve(k_values, s, alpha)\n",
    "depreciation_values = depreciation_curve(k_values, n, g, delta)\n",
    "\n",
    "## Plotting\n",
    "plt.figure()\n",
    "plt.plot(k_values, savings_values, label=r'$s \\cdot k^\\alpha$', color='blue', lw=2)\n",
    "plt.plot(k_values, depreciation_values, label=r'$(n + g + \\delta) \\cdot k$', color='red', lw=2)\n",
    "\n",
    "## Title and labels\n",
    "plt.title('Comparison of Savings and Depreciation Functions', fontsize=16)\n",
    "plt.xlabel('Capital per Worker (k)', fontsize=14)\n",
    "plt.ylabel('Value', fontsize=14)\n",
    "\n",
    "## Adding grid, legend, and axis lines\n",
    "plt.grid(True, which='both', linestyle='--', linewidth=0.5)\n",
    "plt.legend(fontsize=12)\n",
    "\n",
    "## Show plot\n",
    "plt.show()"
   ]
  },
  {
   "cell_type": "markdown",
   "metadata": {},
   "source": [
    "The function we want (the difference between the blue and red curves) satisfies the Intermediate Value Theorem condition.\n",
    "\n",
    "We can then use the bisection method:"
   ]
  },
  {
   "cell_type": "code",
   "execution_count": 8,
   "metadata": {},
   "outputs": [
    {
     "name": "stdout",
     "output_type": "stream",
     "text": [
      "Numerical solution: 6.606.\n",
      "Analytical solution: 6.608.\n",
      "Absolute Error: 0.001.\n",
      "Number of iterations: 11.\n",
      "Numerical solution: 6.606.\n",
      "Analytical solution: 6.608.\n",
      "Absolute Error: 0.001.\n",
      "Number of iterations: 11.\n"
     ]
    }
   ],
   "source": [
    "# Implementing\n",
    "# Because the function of the steady state capital is decreasing in k (see graph), we invert the interval\n",
    "numerical_k, num_iterations_bisection, k_guesses = bisection_method(\n",
    "    steady_state_k, \n",
    "    analytical_k_gr, 0.01,\n",
    "    tol=10 ** (-4)\n",
    ")\n",
    "\n",
    "# Printing\n",
    "print(f\"Numerical solution: {round(numerical_k, 3)}.\")\n",
    "print(f\"Analytical solution: {round(analytical_k,3)}.\")\n",
    "print(f\"Absolute Error: {round(abs(analytical_k - numerical_k), 3)}.\")\n",
    "print(f\"Number of iterations: {num_iterations_bisection}.\")"
   ]
  },
  {
   "cell_type": "markdown",
   "metadata": {},
   "source": [
    "### (c) Comparing the numerical and the analytical solutions"
   ]
  },
  {
   "cell_type": "markdown",
   "metadata": {},
   "source": [
    "We see that in a small number of iterations (11), the numerical solution converges to a tolerance level of 0.0001 (when avaliated at the steady state function). Up to two decimal places, they are the same.\n",
    "\n",
    "The relative error is given by"
   ]
  },
  {
   "cell_type": "code",
   "execution_count": 9,
   "metadata": {},
   "outputs": [
    {
     "name": "stdout",
     "output_type": "stream",
     "text": [
      "Relative Error: 0.019%.\n",
      "Relative Error: 0.019%.\n"
     ]
    }
   ],
   "source": [
    "print(f\"Relative Error: {round(100*abs(analytical_k - numerical_k) / analytical_k, 3)}%.\")"
   ]
  },
  {
   "cell_type": "markdown",
   "metadata": {},
   "source": [
    "As a bonus, we plot the \"convergence path\" below:"
   ]
  },
  {
   "cell_type": "code",
   "execution_count": 10,
   "metadata": {},
   "outputs": [
    {
     "data": {
      "image/png": "[encoded data removed]",
      "text/plain": [
       "<Figure size 640x480 with 1 Axes>"
      ]
     },
     "metadata": {},
     "output_type": "display_data"
    }
   ],
   "source": [
    "## Generate values for k over the interval [0, 15]\n",
    "k_values = np.linspace(0, 15, 400)\n",
    "savings_values = savings_curve(k_values, s, alpha)\n",
    "depreciation_values = depreciation_curve(k_values, n, g, delta)\n",
    "\n",
    "## Plotting\n",
    "plt.figure()\n",
    "plt.plot(k_guesses, label=r'Numerical $k$')\n",
    "plt.axhline(y=analytical_k, color='black', linestyle='--', linewidth=2, label=r'Analytical $k$')\n",
    "\n",
    "## Title and labels\n",
    "plt.title('Convergence Path of Numerical Solution', fontsize=16)\n",
    "plt.xlabel('Number of Iterations', fontsize=14)\n",
    "plt.ylabel('Numerical Value of k', fontsize=14)\n",
    "\n",
    "## Adding grid, legend, and axis lines\n",
    "plt.grid(True, which='both', linestyle='--', linewidth=0.5)\n",
    "plt.legend(fontsize=12)\n",
    "\n",
    "## Show plot\n",
    "plt.show()"
   ]
  },
  {
   "cell_type": "markdown",
   "metadata": {},
   "source": [
    "### (d) Robustness of the Bisection Method"
   ]
  },
  {
   "cell_type": "markdown",
   "metadata": {},
   "source": [
    "We alter the savings rate and print all results below."
   ]
  },
  {
   "cell_type": "code",
   "execution_count": 11,
   "metadata": {},
   "outputs": [
    {
     "name": "stdout",
     "output_type": "stream",
     "text": [
      "\n",
      "RESULTS FOR s = 0.1:\n",
      "Numerical solution: 1.376.\n",
      "Analytical solution: 1.3754.\n",
      "Relative Error: 0.037%.\n",
      "Number of iterations: 11.\n",
      "\n",
      "RESULTS FOR s = 0.2:\n",
      "Numerical solution: 3.7009.\n",
      "Analytical solution: 3.7024.\n",
      "Relative Error: 0.041%.\n",
      "Number of iterations: 10.\n",
      "\n",
      "RESULTS FOR s = 0.3:\n",
      "Numerical solution: 6.6063.\n",
      "Analytical solution: 6.6076.\n",
      "Relative Error: 0.019%.\n",
      "Number of iterations: 11.\n",
      "\n",
      "RESULTS FOR s = 0.4:\n",
      "Numerical solution: 9.966.\n",
      "Analytical solution: 9.9662.\n",
      "Relative Error: 0.002%.\n",
      "Number of iterations: 9.\n",
      "\n",
      "RESULTS FOR s = 0.5:\n",
      "Steady-state capital for s = 0.5 (13.71) out of interval [0, 12.93].\n",
      "\n",
      "\n",
      "RESULTS FOR s = 0.1:\n",
      "Numerical solution: 1.376.\n",
      "Analytical solution: 1.3754.\n",
      "Relative Error: 0.037%.\n",
      "Number of iterations: 11.\n",
      "\n",
      "RESULTS FOR s = 0.2:\n",
      "Numerical solution: 3.7009.\n",
      "Analytical solution: 3.7024.\n",
      "Relative Error: 0.041%.\n",
      "Number of iterations: 10.\n",
      "\n",
      "RESULTS FOR s = 0.3:\n",
      "Numerical solution: 6.6063.\n",
      "Analytical solution: 6.6076.\n",
      "Relative Error: 0.019%.\n",
      "Number of iterations: 11.\n",
      "\n",
      "RESULTS FOR s = 0.4:\n",
      "Numerical solution: 9.966.\n",
      "Analytical solution: 9.9662.\n",
      "Relative Error: 0.002%.\n",
      "Number of iterations: 9.\n",
      "\n",
      "RESULTS FOR s = 0.5:\n",
      "Steady-state capital for s = 0.5 (13.71) out of interval [0, 12.93].\n"
     ]
    }
   ],
   "source": [
    "# Defining the values of s\n",
    "s_values = [0.1, 0.2, 0.3, 0.4, 0.5]\n",
    "\n",
    "# Looping across and printing the solution\n",
    "for s_value in s_values:\n",
    "    print(f\"\\nRESULTS FOR s = {s_value}:\")\n",
    "\n",
    "    # Calculating analytical solution (golden rule does not depend on s)\n",
    "    analytical_k_robustness = (s_value / (n + g + delta))**(1/(1 - alpha))\n",
    "\n",
    "    # Equation to find the root of the steady state capital\n",
    "    def steady_state_k_robustness(k, s=s_value, alpha=alpha, n=n, g=g, delta=delta):\n",
    "        return s * (k**alpha) - (n + g + delta) * k\n",
    "\n",
    "    # Implementing\n",
    "    try:\n",
    "        # Function\n",
    "        numerical_k_robustness, num_iter_robustness, k_guesses_robustness = bisection_method(\n",
    "            steady_state_k_robustness, \n",
    "            analytical_k_gr, 0.01,\n",
    "            tol=0.0001\n",
    "        )\n",
    "\n",
    "        # Results\n",
    "        print(f\"Numerical solution: {round(numerical_k_robustness, 4)}.\")\n",
    "        print(f\"Analytical solution: {round(analytical_k_robustness, 4)}.\")\n",
    "        print(f\"Relative Error: {round(100*abs(analytical_k_robustness - numerical_k_robustness) / analytical_k_robustness, 3)}%.\")\n",
    "        print(f\"Number of iterations: {num_iter_robustness}.\")\n",
    "\n",
    "    except ValueError:\n",
    "        print(f\"Steady-state capital for s = {s_value} ({round(analytical_k_robustness, 2)}) out of interval [0, {round(analytical_k_gr, 2)}].\")"
   ]
  },
  {
   "cell_type": "markdown",
   "metadata": {},
   "source": [
    "We see that, for $s \\in \\{0.1, 0.2, 0.3, 0.4\\}$, the function behaves as expected, with the relative error not surpassing 0.05\\% of the analytical solution. The number of iterations in each of these cases is also similar."
   ]
  },
  {
   "cell_type": "markdown",
   "metadata": {},
   "source": [
    "However, we have a problem for $s = 0.5$. This is because the analytical solution falls out of the specified interval, which highlights the disavantadge of getting the initial interval right. \n",
    "\n",
    "If we fix this, we get similar results to the other values. Therefore, apart from the issue of the interval, the bisection method provides robust convergence results."
   ]
  },
  {
   "cell_type": "code",
   "execution_count": 12,
   "metadata": {},
   "outputs": [
    {
     "name": "stdout",
     "output_type": "stream",
     "text": [
      "Numerical solution: 13.709.\n",
      "Analytical solution: 13.708.\n",
      "Relative Error: 0.009%.\n",
      "Number of iterations: 11.\n",
      "Numerical solution: 13.709.\n",
      "Analytical solution: 13.708.\n",
      "Relative Error: 0.009%.\n",
      "Number of iterations: 11.\n"
     ]
    }
   ],
   "source": [
    "numerical_k_s5, num_iter_s5, k_guesses_s5 = bisection_method(\n",
    "    steady_state_k_robustness, \n",
    "    20, 0.01,\n",
    "    tol=0.0001\n",
    ")\n",
    "\n",
    "# Results\n",
    "print(f\"Numerical solution: {round(numerical_k_s5, 3)}.\")\n",
    "print(f\"Analytical solution: {round(analytical_k_robustness, 3)}.\")\n",
    "print(f\"Relative Error: {round(100*abs(analytical_k_robustness - numerical_k_s5) / analytical_k_robustness, 3)}%.\")\n",
    "print(f\"Number of iterations: {num_iter_s5}.\")"
   ]
  },
  {
   "cell_type": "markdown",
   "metadata": {},
   "source": [
    "## Question 2 - Solving Nonlinear Equations - Newton’s Method in Optimal Control Problem with Non-linear Wage"
   ]
  },
  {
   "cell_type": "markdown",
   "metadata": {},
   "source": [
    "Consider a profit maximizing firm, with profit given by\n",
    "\n",
    "$$\n",
    "\\Pi_t = A_t l_t^\\alpha - l_t w_t(l_t),\n",
    "$$\n",
    "\n",
    "where $A_t$ is the total factor productivity, and the wage rate is given by a non-linear function $w_t(l_t) = w_0e^{\\eta l_t}$, where $w_0$ is the base wage and $\\eta$ is the elasticity of the wage with respect to labor. \n",
    "\n",
    "The firm chooses lt to maximise its profits over time."
   ]
  },
  {
   "cell_type": "markdown",
   "metadata": {},
   "source": [
    "### (a) First-order condition and analytical solution"
   ]
  },
  {
   "cell_type": "markdown",
   "metadata": {},
   "source": [
    "Assuming usual conditions hold, the FOC of the problem with respect to labor ($l_t$) is given by\n",
    "\n",
    "$\\frac{\\partial \\Pi_t}{\\partial l_t} = 0 \\quad \\therefore \\quad 0 = \\alpha A_t l_t^{\\alpha - 1} - w_0e^{\\eta l_t} - l_t \\eta w_0 e ^{\\eta l_t}$,\n",
    "\n",
    "which we are unable to derive an analytical solution for, as we have a linear combination of exponential functions where $l_t$ is in the exponent and an \"independent\" term ($\\alpha A_t l_t^{\\alpha - 1}$)."
   ]
  },
  {
   "cell_type": "markdown",
   "metadata": {},
   "source": [
    "### (b) Newton-Raphson's method"
   ]
  },
  {
   "cell_type": "code",
   "execution_count": 13,
   "metadata": {},
   "outputs": [],
   "source": [
    "# Defining parameters\n",
    "A = 1\n",
    "alpha = 0.4\n",
    "w0 = 5\n",
    "eta = 0.1"
   ]
  },
  {
   "cell_type": "markdown",
   "metadata": {},
   "source": [
    "We will now define our function of interest. We want to find the root of the derivative (the FOC), so we will need to calculate the second order derivative.\n",
    "This is given by:\n",
    "\n",
    "$$\\frac{\\partial^2 \\Pi_t}{\\partial l_t^2} = \n",
    "\\alpha (\\alpha - 1) l_t^{\\alpha - 2} - \\eta w_0e^{\\eta l_t} - \\eta w_0 e ^{\\eta l_t} - l_t \\eta^2 w_0 e ^{\\eta l_t}$$\n",
    "\n",
    "Simplifying, we get\n",
    "\n",
    "$$\\frac{\\partial^2 \\Pi_t}{\\partial l_t^2} = \n",
    "\\alpha (\\alpha - 1) l_t^{\\alpha - 2} - w_0e^{\\eta l_t} \\left[2\\eta + l_t \\eta^2 \\right]$$"
   ]
  },
  {
   "cell_type": "code",
   "execution_count": 14,
   "metadata": {},
   "outputs": [],
   "source": [
    "# Defining function and partial derivative\n",
    "def profit_function(labor, A=A, alpha=alpha, w0=w0, eta=eta):\n",
    "    w = w0 * np.exp(eta * labor)\n",
    "    return A * (labor**alpha) - labor * w\n",
    "\n",
    "def profit_derivative(labor, A=A, alpha=alpha, w0=w0, eta=eta):\n",
    "    return alpha * A * (labor **(alpha - 1)) - w0 * np.exp(eta * labor) - labor * eta * w0 * np.exp(eta * labor)"
   ]
  },
  {
   "cell_type": "code",
   "execution_count": 15,
   "metadata": {},
   "outputs": [],
   "source": [
    "# Second order derivative\n",
    "def profit_2nd_derivative(labor, A=A, alpha=alpha, w0=w0, eta=eta):\n",
    "    term1 = alpha * (alpha - 1) * labor ** (alpha - 2)\n",
    "    term2 = w0 * np.exp(eta * labor) * (2 * eta + labor * eta ** 2)\n",
    "    return term1 - term2"
   ]
  },
  {
   "cell_type": "markdown",
   "metadata": {},
   "source": [
    "We will now plot the profit function and its partial derivative with respect to $l_t$."
   ]
  },
  {
   "cell_type": "code",
   "execution_count": 16,
   "metadata": {},
   "outputs": [],
   "source": [
    "# Generate values for labor over the interval [0, 10]\n",
    "labor_values = np.linspace(0.001, 0.2, 400)\n",
    "profit_values = profit_function(labor_values)\n",
    "profit_derivative_values = profit_derivative(labor_values)"
   ]
  },
  {
   "cell_type": "code",
   "execution_count": 17,
   "metadata": {},
   "outputs": [
    {
     "data": {
      "image/png": "[encoded data removed]",
      "text/plain": [
       "<Figure size 640x480 with 1 Axes>"
      ]
     },
     "metadata": {},
     "output_type": "display_data"
    }
   ],
   "source": [
    "# Plotting the profit function\n",
    "plt.figure()\n",
    "plt.plot(labor_values, profit_values, label=r'Profit Function', color='blue', lw=2)\n",
    "plt.axhline(y=0, color='black', linestyle='--', linewidth=2)\n",
    "\n",
    "# Title and labels\n",
    "plt.title('Profit Function', fontsize=16)\n",
    "plt.xlabel('Labor', fontsize=14)\n",
    "plt.ylabel('Profit', fontsize=14)\n",
    "\n",
    "# Adding grid, legend, and axis lines\n",
    "plt.grid(True, which='both', linestyle='--', linewidth=0.5)\n",
    "plt.legend(fontsize=12)\n",
    "\n",
    "# Set x-axis labels to appear every one unit\n",
    "# plt.xticks(range(int(min(labor_values)), int(max(labor_values)) + 1))\n",
    "\n",
    "# Show plot\n",
    "plt.show()"
   ]
  },
  {
   "cell_type": "code",
   "execution_count": 18,
   "metadata": {},
   "outputs": [
    {
     "data": {
      "image/png": "[encoded data removed]",
      "text/plain": [
       "<Figure size 640x480 with 1 Axes>"
      ]
     },
     "metadata": {},
     "output_type": "display_data"
    }
   ],
   "source": [
    "# Plotting the derivative\n",
    "plt.figure()\n",
    "plt.plot(labor_values, profit_derivative_values, color='red', lw=2)\n",
    "plt.axhline(y=0, color='black', linestyle='--', linewidth=2)\n",
    "\n",
    "# Title and labels\n",
    "plt.title('Profit Derivative w.r.t. Labor', fontsize=16)\n",
    "plt.xlabel('Labor', fontsize=14)\n",
    "plt.ylabel('Derivative', fontsize=14)\n",
    "\n",
    "# Adding grid, legend, and axis lines\n",
    "plt.grid(True, which='both', linestyle='--', linewidth=0.5)\n",
    "plt.legend(fontsize=12)\n",
    "\n",
    "# Set x-axis labels to appear every one unit\n",
    "# plt.xticks(range(int(min(labor_values)), int(max(labor_values)) + 1))\n",
    "\n",
    "# Show plot\n",
    "plt.show()"
   ]
  },
  {
   "cell_type": "markdown",
   "metadata": {},
   "source": [
    "We will now define the newton method function and use it to calculate the optimal value of labor."
   ]
  },
  {
   "cell_type": "code",
   "execution_count": 19,
   "metadata": {},
   "outputs": [],
   "source": [
    "# Creating function\n",
    "def newton_method(func, derivative, x0, tol=0.0001, max_iter=1000):\n",
    "    \"\"\"\n",
    "    Program to solve a equation using Newton's method.\n",
    "    \n",
    "    Parameters:\n",
    "        func - Function that returns the equation we are trying to find the root of\n",
    "        derivative - Function that has the FOC (derivative) of the equation of interest\n",
    "        x0 - Initial guess for the solution\n",
    "        tol - Convergence criterion (tolerance)\n",
    "        max_iter - Maximum number of iterations\n",
    "    \n",
    "    Returns:\n",
    "        x - Solution to the system of equations\n",
    "    \"\"\"\n",
    "\n",
    "    # Iterating\n",
    "    for num_iter in range(max_iter):\n",
    "        # Calculating function and derivatives\n",
    "        f_value = func(x0)\n",
    "        derivative_value = derivative(x0)\n",
    "\n",
    "        # Checking root of the linear approximation at x0\n",
    "        ## 0 = f_value + (x - x0) * derivative_value\n",
    "        x = x0 - f_value / derivative_value\n",
    "        \n",
    "        # Checking tolerance: if the new iteration x and the previous iteration x0\n",
    "        # are too close, we have our root, since our linear approximation of the function\n",
    "        # at x0 yields a root which is close to the previous iteration (see Lec2 Slide 27)\n",
    "\n",
    "        # Alternatively, we could just check f(x) and see if its close to 0, which is the same\n",
    "        # as x ≈ x0 from the above expression of the linear approximation of x\n",
    "        if abs(x - x0) < tol:\n",
    "            break\n",
    "        \n",
    "        # Defining new value and starting again if necessary\n",
    "        x0 = x\n",
    "    \n",
    "    if num_iter >= max_iter:\n",
    "        print(f'WARNING: Maximum number of {max_iter} iterations reached')\n",
    "    \n",
    "    return x, num_iter"
   ]
  },
  {
   "cell_type": "code",
   "execution_count": 20,
   "metadata": {},
   "outputs": [
    {
     "name": "stdout",
     "output_type": "stream",
     "text": [
      "Profit-maximizing value of labor: 0.01478.\n",
      "Number of iterations: 8.\n",
      "Profit-maximizing value of labor: 0.01478.\n",
      "Number of iterations: 8.\n"
     ]
    }
   ],
   "source": [
    "# From the graphs, the initial guess will be 0.0001\n",
    "initial_guess = 0.0001\n",
    "\n",
    "# Function\n",
    "optimal_labor, num_iter_newton = newton_method(\n",
    "    func=profit_derivative, derivative=profit_2nd_derivative, x0=initial_guess\n",
    ")\n",
    "\n",
    "# Printing results\n",
    "print(f\"Profit-maximizing value of labor: {round(optimal_labor, 6)}.\")\n",
    "print(f\"Number of iterations: {num_iter_newton}.\")"
   ]
  },
  {
   "cell_type": "markdown",
   "metadata": {},
   "source": [
    "Our number of iterations is very small (because we did our graphical analysis). We will retry with different initial guesses."
   ]
  },
  {
   "cell_type": "code",
   "execution_count": 21,
   "metadata": {},
   "outputs": [
    {
     "name": "stdout",
     "output_type": "stream",
     "text": [
      "Initial guess: 0.09.\n",
      "Number of iterations: 999.\n",
      "\n",
      "Initial guess: 0.14.\n",
      "Number of iterations: 999.\n",
      "\n",
      "Initial guess: 0.08.\n",
      "Number of iterations: 999.\n",
      "\n",
      "Initial guess: 0.03.\n",
      "Number of iterations: 4.\n",
      "\n",
      "Initial guess: 0.19.\n",
      "Number of iterations: 999.\n",
      "\n",
      "Initial guess: 0.09.\n",
      "Number of iterations: 999.\n",
      "\n",
      "Initial guess: 0.14.\n",
      "Number of iterations: 999.\n",
      "\n",
      "Initial guess: 0.08.\n",
      "Number of iterations: 999.\n",
      "\n",
      "Initial guess: 0.03.\n",
      "Number of iterations: 4.\n",
      "\n",
      "Initial guess: 0.19.\n",
      "Number of iterations: 999.\n",
      "\n"
     ]
    },
    {
     "name": "stderr",
     "output_type": "stream",
     "text": [
      "<positron-console-cell-21>:7: RuntimeWarning: invalid value encountered in scalar power\n",
      "<positron-console-cell-21>:3: RuntimeWarning: invalid value encountered in scalar power\n"
     ]
    }
   ],
   "source": [
    "for i in range(0, 5):\n",
    "    # Sample a random number from a uniform distribution [0, 0.2]\n",
    "    random_guess = random.uniform(0, 0.2)\n",
    "\n",
    "    # Calculating number of iterations\n",
    "    optimal_labor_rb, num_iter_newton_rb = newton_method(\n",
    "        func=profit_derivative, derivative=profit_2nd_derivative, x0=random_guess\n",
    "    )\n",
    "\n",
    "    print(f\"Initial guess: {round(random_guess, 2)}.\")\n",
    "    print(f\"Number of iterations: {num_iter_newton_rb}.\\n\")\n"
   ]
  },
  {
   "cell_type": "markdown",
   "metadata": {},
   "source": [
    "In this specific context, the method has difficulties due to the scale of the solutions, which are very small.\n",
    "\n",
    "Thus, for bigger initial guesses, we are unable to find the solution, which highlights the importance of some graphical or analytical analysis before blindingly coding things."
   ]
  },
  {
   "cell_type": "markdown",
   "metadata": {},
   "source": [
    "### (c) Sensitivity analysis"
   ]
  },
  {
   "cell_type": "markdown",
   "metadata": {},
   "source": [
    "We will do a *ceteris paribus* analysis, only changing one parameter at a time."
   ]
  },
  {
   "cell_type": "code",
   "execution_count": 22,
   "metadata": {},
   "outputs": [],
   "source": [
    "# Our initial guess will always be 0.0001 (same as before)\n",
    "initial_guess_sensitivity = 0.0001"
   ]
  },
  {
   "cell_type": "markdown",
   "metadata": {},
   "source": [
    "#### Productivity of Labour ($\\alpha$)"
   ]
  },
  {
   "cell_type": "code",
   "execution_count": 23,
   "metadata": {},
   "outputs": [
    {
     "name": "stdout",
     "output_type": "stream",
     "text": [
      "\n",
      "Alpha = 0.14\n",
      "Profit-maximizing value of labor: 0.0156.\n",
      "Number of iterations: 9.\n",
      "\n",
      "Alpha = 1.0\n",
      "Profit-maximizing value of labor: -6.2598.\n",
      "Number of iterations: 4.\n",
      "\n",
      "Alpha = 0.31\n",
      "Profit-maximizing value of labor: 0.0177.\n",
      "Number of iterations: 9.\n",
      "\n",
      "Alpha = 0.29\n",
      "Profit-maximizing value of labor: 0.018.\n",
      "Number of iterations: 9.\n",
      "\n",
      "Alpha = 0.62\n",
      "Profit-maximizing value of labor: 0.0041.\n",
      "Number of iterations: 6.\n",
      "\n",
      "\n",
      "Alpha = 0.14\n",
      "Profit-maximizing value of labor: 0.0156.\n",
      "Number of iterations: 9.\n",
      "\n",
      "Alpha = 1.0\n",
      "Profit-maximizing value of labor: -6.2598.\n",
      "Number of iterations: 4.\n",
      "\n",
      "Alpha = 0.31\n",
      "Profit-maximizing value of labor: 0.0177.\n",
      "Number of iterations: 9.\n",
      "\n",
      "Alpha = 0.29\n",
      "Profit-maximizing value of labor: 0.018.\n",
      "Number of iterations: 9.\n",
      "\n",
      "Alpha = 0.62\n",
      "Profit-maximizing value of labor: 0.0041.\n",
      "Number of iterations: 6.\n"
     ]
    }
   ],
   "source": [
    "# Sampling from a uniform (0, 1) 5 times\n",
    "for i in range(0, 5):\n",
    "    # Sampling\n",
    "    alpha_sensitivity = round(random.uniform(0, 1), 2)\n",
    "    print(f\"\\nAlpha = {alpha_sensitivity}\")\n",
    "\n",
    "    # Redefining functions (it would probably be better to pass **kwargs, but sunk cost now)\n",
    "    # _sens = from sensitivity analysis\n",
    "    def profit_derivative_sens(labor, A=A, alpha=alpha_sensitivity, w0=w0, eta=eta):\n",
    "        term1 = alpha * A * labor **(alpha - 1)\n",
    "        term2 = w0 * np.exp(eta * labor) + labor * eta * w0 * np.exp(eta * labor)\n",
    "        return term1 - term2\n",
    "\n",
    "    def profit_2nd_derivative_sens(labor, A=A, alpha=alpha_sensitivity, w0=w0, eta=eta):\n",
    "        term1 = alpha * (alpha - 1) * labor ** (alpha - 2)\n",
    "        term2 = w0 * np.exp(eta * labor) * (2 * eta + labor * eta ** 2)\n",
    "        return term1 - term2\n",
    "\n",
    "    optimal_labor_sens, num_iter_newton_sens = newton_method(\n",
    "        func=profit_derivative_sens, derivative=profit_2nd_derivative_sens, \n",
    "        x0=initial_guess_sensitivity\n",
    "    )\n",
    "    \n",
    "    print(f\"Profit-maximizing value of labor: {round(optimal_labor_sens, 4)}.\")\n",
    "    print(f\"Number of iterations: {num_iter_newton_sens}.\")"
   ]
  },
  {
   "cell_type": "markdown",
   "metadata": {},
   "source": [
    "We expect that higher values of $\\alpha$ lead to bigger values of $l_t^*$, as $\\alpha$ is a parameter for labour productivity. \n",
    "This would be true if our optimal labor demand were greater than 1, which is not the case.\n",
    "\n",
    "Thus, higher values of $\\alpha$ lead to lower values of $l_t^*$ when it is lower than 1."
   ]
  },
  {
   "cell_type": "markdown",
   "metadata": {},
   "source": [
    "#### Total Factor Productivity ($A_t$)"
   ]
  },
  {
   "cell_type": "code",
   "execution_count": 24,
   "metadata": {},
   "outputs": [
    {
     "name": "stdout",
     "output_type": "stream",
     "text": [
      "\n",
      "A = 0.97\n",
      "Profit-maximizing value of labor: 0.014.\n",
      "Number of iterations: 8.\n",
      "\n",
      "A = 0.83\n",
      "Profit-maximizing value of labor: 0.0108.\n",
      "Number of iterations: 9.\n",
      "\n",
      "A = 1.53\n",
      "Profit-maximizing value of labor: 0.0299.\n",
      "Number of iterations: 12.\n",
      "\n",
      "A = 1.76\n",
      "Profit-maximizing value of labor: 0.0377.\n",
      "Number of iterations: 19.\n",
      "\n",
      "A = 1.67\n",
      "Profit-maximizing value of labor: 0.0346.\n",
      "Number of iterations: 15.\n",
      "\n",
      "\n",
      "A = 0.97\n",
      "Profit-maximizing value of labor: 0.014.\n",
      "Number of iterations: 8.\n",
      "\n",
      "A = 0.83\n",
      "Profit-maximizing value of labor: 0.0108.\n",
      "Number of iterations: 9.\n",
      "\n",
      "A = 1.53\n",
      "Profit-maximizing value of labor: 0.0299.\n",
      "Number of iterations: 12.\n",
      "\n",
      "A = 1.76\n",
      "Profit-maximizing value of labor: 0.0377.\n",
      "Number of iterations: 19.\n",
      "\n",
      "A = 1.67\n",
      "Profit-maximizing value of labor: 0.0346.\n",
      "Number of iterations: 15.\n"
     ]
    }
   ],
   "source": [
    "# Sampling from a uniform (0.5, 2) 5 times\n",
    "for i in range(0, 5):\n",
    "    # Sampling\n",
    "    A_sensitivity = round(random.uniform(0.5, 2), 2)\n",
    "    print(f\"\\nA = {A_sensitivity}\")\n",
    "\n",
    "    # Redefining functions (it would probably be better to pass **kwargs, but sunk cost now)\n",
    "    # _sens = from sensitivity analysis\n",
    "    def profit_derivative_sens(labor, A=A_sensitivity, alpha=alpha, w0=w0, eta=eta):\n",
    "        term1 = alpha * A * labor **(alpha - 1)\n",
    "        term2 = w0 * np.exp(eta * labor) + labor * eta * w0 * np.exp(eta * labor)\n",
    "        return term1 - term2\n",
    "\n",
    "    def profit_2nd_derivative_sens(labor, A=A_sensitivity, alpha=alpha, w0=w0, eta=eta):\n",
    "        term1 = alpha * (alpha - 1) * labor ** (alpha - 2)\n",
    "        term2 = w0 * np.exp(eta * labor) * (2 * eta + labor * eta ** 2)\n",
    "        return term1 - term2\n",
    "\n",
    "    optimal_labor_sens, num_iter_newton_sens = newton_method(\n",
    "        func=profit_derivative_sens, derivative=profit_2nd_derivative_sens, \n",
    "        x0=initial_guess_sensitivity\n",
    "    )\n",
    "    \n",
    "    print(f\"Profit-maximizing value of labor: {round(optimal_labor_sens, 4)}.\")\n",
    "    print(f\"Number of iterations: {num_iter_newton_sens}.\")"
   ]
  },
  {
   "cell_type": "markdown",
   "metadata": {},
   "source": [
    "As expected, the higher the total factor productivity, the bigger the optimal demand for labour $l_t^*$."
   ]
  },
  {
   "cell_type": "markdown",
   "metadata": {},
   "source": [
    "#### Base Wage ($w_0$)"
   ]
  },
  {
   "cell_type": "code",
   "execution_count": 25,
   "metadata": {},
   "outputs": [
    {
     "name": "stdout",
     "output_type": "stream",
     "text": [
      "\n",
      "Base wage = 0.55\n",
      "Profit-maximizing value of labor: 0.499.\n",
      "Number of iterations: 12.\n",
      "\n",
      "Base wage = 0.13\n",
      "Profit-maximizing value of labor: 2.7475.\n",
      "Number of iterations: 14.\n",
      "\n",
      "Base wage = 0.05\n",
      "Profit-maximizing value of labor: 5.7525.\n",
      "Number of iterations: 14.\n",
      "\n",
      "Base wage = 0.13\n",
      "Profit-maximizing value of labor: 2.7475.\n",
      "Number of iterations: 14.\n",
      "\n",
      "Base wage = 0.94\n",
      "Profit-maximizing value of labor: 0.2235.\n",
      "Number of iterations: 12.\n",
      "\n",
      "\n",
      "Base wage = 0.55\n",
      "Profit-maximizing value of labor: 0.499.\n",
      "Number of iterations: 12.\n",
      "\n",
      "Base wage = 0.13\n",
      "Profit-maximizing value of labor: 2.7475.\n",
      "Number of iterations: 14.\n",
      "\n",
      "Base wage = 0.05\n",
      "Profit-maximizing value of labor: 5.7525.\n",
      "Number of iterations: 14.\n",
      "\n",
      "Base wage = 0.13\n",
      "Profit-maximizing value of labor: 2.7475.\n",
      "Number of iterations: 14.\n",
      "\n",
      "Base wage = 0.94\n",
      "Profit-maximizing value of labor: 0.2235.\n",
      "Number of iterations: 12.\n"
     ]
    }
   ],
   "source": [
    "# Sampling from a uniform (0, 1) 5 times\n",
    "for i in range(0, 5):\n",
    "    # Sampling\n",
    "    w0_sensitivity = round(random.uniform(0, 1), 2)\n",
    "    print(f\"\\nBase wage = {w0_sensitivity}\")\n",
    "\n",
    "    # Redefining functions (it would probably be better to pass **kwargs, but sunk cost now)\n",
    "    # _sens = from sensitivity analysis\n",
    "    def profit_derivative_sens(labor, A=A, alpha=alpha, w0=w0_sensitivity, eta=eta):\n",
    "        term1 = alpha * A * labor **(alpha - 1)\n",
    "        term2 = w0 * np.exp(eta * labor) + labor * eta * w0 * np.exp(eta * labor)\n",
    "        return term1 - term2\n",
    "\n",
    "    def profit_2nd_derivative_sens(labor, A=A, alpha=alpha, w0=w0_sensitivity, eta=eta):\n",
    "        term1 = alpha * (alpha - 1) * labor ** (alpha - 2)\n",
    "        term2 = w0 * np.exp(eta * labor) * (2 * eta + labor * eta ** 2)\n",
    "        return term1 - term2\n",
    "\n",
    "    optimal_labor_sens, num_iter_newton_sens = newton_method(\n",
    "        func=profit_derivative_sens, derivative=profit_2nd_derivative_sens, \n",
    "        x0=initial_guess_sensitivity\n",
    "    )\n",
    "    \n",
    "    print(f\"Profit-maximizing value of labor: {round(optimal_labor_sens, 4)}.\")\n",
    "    print(f\"Number of iterations: {num_iter_newton_sens}.\")"
   ]
  },
  {
   "cell_type": "markdown",
   "metadata": {},
   "source": [
    "The higher the base wage $w_0$ -- and thus, the higher the wage $w_t$ --, the lower the demand for labour, holding constant all other factors.\n",
    "\n",
    "Note than, when we sample using higher values of $w_0$, the algorithm does not converge, as the wage being so high leads to the firm not wanting to demand any labour."
   ]
  },
  {
   "cell_type": "markdown",
   "metadata": {},
   "source": [
    "#### Labour Elasticity relative to Wage ($\\eta$)"
   ]
  },
  {
   "cell_type": "code",
   "execution_count": 26,
   "metadata": {},
   "outputs": [
    {
     "name": "stdout",
     "output_type": "stream",
     "text": [
      "\n",
      "Labour elasticity relative to wage = 0.19\n",
      "Profit-maximizing value of labor: 0.0147.\n",
      "Number of iterations: 8.\n",
      "\n",
      "Labour elasticity relative to wage = 0.14\n",
      "Profit-maximizing value of labor: 0.0148.\n",
      "Number of iterations: 8.\n",
      "\n",
      "Labour elasticity relative to wage = 0.83\n",
      "Profit-maximizing value of labor: 0.0143.\n",
      "Number of iterations: 8.\n",
      "\n",
      "Labour elasticity relative to wage = 0.81\n",
      "Profit-maximizing value of labor: 0.0143.\n",
      "Number of iterations: 8.\n",
      "\n",
      "Labour elasticity relative to wage = 0.04\n",
      "Profit-maximizing value of labor: 0.0148.\n",
      "Number of iterations: 8.\n",
      "\n",
      "\n",
      "Labour elasticity relative to wage = 0.19\n",
      "Profit-maximizing value of labor: 0.0147.\n",
      "Number of iterations: 8.\n",
      "\n",
      "Labour elasticity relative to wage = 0.14\n",
      "Profit-maximizing value of labor: 0.0148.\n",
      "Number of iterations: 8.\n",
      "\n",
      "Labour elasticity relative to wage = 0.83\n",
      "Profit-maximizing value of labor: 0.0143.\n",
      "Number of iterations: 8.\n",
      "\n",
      "Labour elasticity relative to wage = 0.81\n",
      "Profit-maximizing value of labor: 0.0143.\n",
      "Number of iterations: 8.\n",
      "\n",
      "Labour elasticity relative to wage = 0.04\n",
      "Profit-maximizing value of labor: 0.0148.\n",
      "Number of iterations: 8.\n"
     ]
    }
   ],
   "source": [
    "# Sampling from a uniform (0, 1) 5 times\n",
    "for i in range(0, 5):\n",
    "    # Sampling\n",
    "    eta_sensitivity = round(random.uniform(0, 1), 2)\n",
    "    print(f\"\\nLabour elasticity relative to wage = {eta_sensitivity}\")\n",
    "\n",
    "    # Redefining functions (it would probably be better to pass **kwargs, but sunk cost now)\n",
    "    # _sens = from sensitivity analysis\n",
    "    def profit_derivative_sens(labor, A=A, alpha=alpha, w0=w0, eta=eta_sensitivity):\n",
    "        term1 = alpha * A * labor **(alpha - 1)\n",
    "        term2 = w0 * np.exp(eta * labor) + labor * eta * w0 * np.exp(eta * labor)\n",
    "        return term1 - term2\n",
    "\n",
    "    def profit_2nd_derivative_sens(labor, A=A, alpha=alpha, w0=w0, eta=eta_sensitivity):\n",
    "        term1 = alpha * (alpha - 1) * labor ** (alpha - 2)\n",
    "        term2 = w0 * np.exp(eta * labor) * (2 * eta + labor * eta ** 2)\n",
    "        return term1 - term2\n",
    "\n",
    "    optimal_labor_sens, num_iter_newton_sens = newton_method(\n",
    "        func=profit_derivative_sens, derivative=profit_2nd_derivative_sens, \n",
    "        x0=initial_guess_sensitivity\n",
    "    )\n",
    "    \n",
    "    print(f\"Profit-maximizing value of labor: {round(optimal_labor_sens, 4)}.\")\n",
    "    print(f\"Number of iterations: {num_iter_newton_sens}.\")"
   ]
  },
  {
   "cell_type": "markdown",
   "metadata": {},
   "source": [
    "We see that the higher the elasticity, the lower the optimal demand for labour. This is because now the (inverted) labour supply curve is less steep, so now big changes in wages are required for labour to be provided."
   ]
  },
  {
   "cell_type": "markdown",
   "metadata": {},
   "source": [
    "### (d) Bisection Method vs Newton's Method"
   ]
  },
  {
   "cell_type": "code",
   "execution_count": 27,
   "metadata": {},
   "outputs": [
    {
     "name": "stdout",
     "output_type": "stream",
     "text": [
      "Bisection Method:\n",
      "Numerical solution: 0.0148.\n",
      "Number of iterations: 19.\n",
      "\n",
      "Newton's Method:\n",
      "Numerical solution: 0.0148.\n",
      "Number of iterations: 8.\n",
      "Bisection Method:\n",
      "Numerical solution: 0.0148.\n",
      "Number of iterations: 19.\n",
      "\n",
      "Newton's Method:\n",
      "Numerical solution: 0.0148.\n",
      "Number of iterations: 8.\n"
     ]
    }
   ],
   "source": [
    "# Implementing the bisection method. Again, we invert the intervals, as the derivative is decreasing.\n",
    "# Our search interval will be [0, 15]\n",
    "numerical_labour_bisection, num_iter_bisection_labour, labour_guesses = bisection_method(\n",
    "    profit_derivative, \n",
    "    1, 0.0001,\n",
    "    tol=0.0001\n",
    ")\n",
    "\n",
    "# Printing\n",
    "print(f\"Bisection Method:\")\n",
    "print(f\"Numerical solution: {round(numerical_labour_bisection, 4)}.\")\n",
    "print(f\"Number of iterations: {num_iter_bisection_labour}.\")\n",
    "\n",
    "print(f\"\\nNewton's Method:\")\n",
    "print(f\"Numerical solution: {round(optimal_labor, 4)}.\")\n",
    "print(f\"Number of iterations: {num_iter_newton}.\")"
   ]
  },
  {
   "cell_type": "markdown",
   "metadata": {},
   "source": [
    "Both methods produce similar results (identical up to the third decimal place).\n",
    "However, as expected, Newton's method converges faster, as it uses the information provided by the function's derivative in order to find the solution.\n",
    "\n",
    "In this example, however, this difference is not really noticeable, as both number of iterations are relatively small."
   ]
  },
  {
   "cell_type": "markdown",
   "metadata": {},
   "source": [
    "The **bisection method** has the advantage that it can find the root of any continuous function, being it differentiable or not. Due to this and due to its simplicity, it has a wider range of applications (in the universe of one single equation).\n",
    "\n",
    "However, as it does not exploit information about the steepness of the function at different points, its convergence is relatively slow, as we saw above.\n",
    "\n",
    "Additionally, as we saw in *item (d) of Question 1*, we have to be right about the initial interval, as opposed to only providing one guess for a point."
   ]
  },
  {
   "cell_type": "markdown",
   "metadata": {},
   "source": [
    "On the other hand, **Newton's method** has a relatively faster convergence, as it uses information about the derivative of the function at different points.\n",
    "Furthermore, although not used here, it can be used to solve systems of multiple equations and variables.\n",
    "\n",
    "The need for a derivative is also a disavantage, as the function we want to find the root of needs to be differentiable. Thus, it has a straighter range of applications relative to the bisection method (in univariate systems).\n",
    "\n",
    "Additionally, if the initial guess for the root is very far off (such as some cases in *(b)*), convergence may be very slow or impossible, as we may enter a loop or arrive at a local maximum/minimum with derivative equal to zero.\n"
   ]
  },
  {
   "cell_type": "markdown",
   "metadata": {},
   "source": [
    "## Question 3 - Solving Nonlinear Equations - Secant Method in a Three-Period Consumption-Saving Problem"
   ]
  },
  {
   "cell_type": "markdown",
   "metadata": {},
   "source": [
    "### (a) Consumer's Problem"
   ]
  },
  {
   "cell_type": "markdown",
   "metadata": {},
   "source": [
    "Consumer's preferences are given by the utility function\n",
    "\n",
    "$$\n",
    "U(c_1, c_2, c_3;\\theta, \\beta) = u(c_1) + \\beta u(c_2) + \\beta^2 u(c_3),\n",
    "$$\n",
    "\n",
    "with $u(c_i) = \\frac{c_i^{1-\\theta}}{1-\\theta}$.\n",
    "\n",
    "\n",
    "where $\\theta > 0$ is the relative risk aversion parameter and $0 < \\beta < 1$ is the discount factor.\n",
    "There is no credit constraint or bequests and the consumer maximizes utility subject to budget constraint in each period.\n",
    "Further, the consumer receives income $y$ only in period 1 and can earn interest $r$ on savings $s_1$ and $s_2$."
   ]
  },
  {
   "cell_type": "markdown",
   "metadata": {},
   "source": [
    "Thus, the consumer's problem of constrained optimization is\n",
    "\n",
    "$$\n",
    "\\max_{s_1, s_2, c_1, c_2, c_3} U(c_1, c_2, c_3;\\theta, \\beta)\n",
    "$$ \n",
    "\n",
    "$$\n",
    "\\text{subject to}\n",
    "\\begin{cases}\n",
    "c_1 + s_1 = y \\\\\n",
    "c_2 + s_2 = (1+r)s_1 \\\\\n",
    "c_3 = (1+r)s_2\n",
    "\\end{cases}\n",
    "$$"
   ]
  },
  {
   "cell_type": "markdown",
   "metadata": {},
   "source": [
    "This can be rewritten as\n",
    "\n",
    "$$\\max_{s_1, s_2, c_1, c_2, c_3} \\left\\{ \\frac{c_1^{1-\\theta}}{1-\\theta} + \\beta \\frac{c_2^{1-\\theta}}{1-\\theta} + \\beta^2 \\frac{c_3^{1-\\theta}}{1-\\theta} \\right\\}$$\n",
    "\n",
    "$$\n",
    "\\text{subject to}\n",
    "\\begin{cases}\n",
    "c_1 = y - s_1 \\\\\n",
    "c_2 = (1+r)s_1 - s_2 \\\\\n",
    "c_3 = (1+r)s_2\n",
    "\\end{cases}\n",
    "$$"
   ]
  },
  {
   "cell_type": "markdown",
   "metadata": {},
   "source": [
    "Finally, we can substitute the constraints to get an equivalent form of the problem that is unconstrained:\n",
    "\n",
    "$$\n",
    "\\max_{s_1, s_2} \\left\\{ \\frac{[y - s_1]^{1-\\theta}}{1-\\theta} + \\beta \\frac{[(1+r)s_1 - s_2]^{1-\\theta}}{1-\\theta} + \\beta^2 \\frac{[(1+r)s_2]^{1-\\theta}}{1-\\theta} \\right\\}\n",
    "$$"
   ]
  },
  {
   "cell_type": "markdown",
   "metadata": {},
   "source": [
    "### (b) Optimal Consumption-Saving Decision"
   ]
  },
  {
   "cell_type": "markdown",
   "metadata": {},
   "source": [
    "As $u(c_i)$ is a CRRA function, we know that it has the desirable properties so that the solution to the consumer's problem is characterized by the FOCs.\n",
    "These are:\n",
    "\n",
    "$$\\begin{cases}\n",
    "s_1: 0 = -(y - s_1)^{-\\theta} + \\beta (1+r) [(1+r)s_1 - s_2]^{-\\theta}\n",
    "\\\\\n",
    "s_2:0 = - \\beta [(1+r)s_1 - s_2]^{-\\theta} + \\beta^2(1+r)^{1-\\theta}s_2^{-\\theta}\n",
    "\\end{cases}$$"
   ]
  },
  {
   "cell_type": "markdown",
   "metadata": {},
   "source": [
    "### (c) Possibility of Analytical Solution"
   ]
  },
  {
   "cell_type": "markdown",
   "metadata": {},
   "source": [
    "Note that we can rewrite the conditions as \n",
    "\n",
    "$$\\begin{cases}\n",
    "s_1: \\frac{1}{(y-s_1)^\\theta} = \\frac{\\beta (1+r)}{[(1+r)s_1 - s_2]^{\\theta}}\n",
    "\\quad \\therefore \\quad\n",
    "\\beta^{\\frac{1}{\\theta}} (1+r)^{\\frac{1}{\\theta}}(y-s_1) = (1+r)s_1 - s_2\n",
    "\\\\\n",
    "s_2: \\frac{\\beta}{[(1+r)s_1 - s_2]^{\\theta}} = \\frac{\\beta^2(1+r)^{1-\\theta}}{s_2^\\theta}\n",
    "\\quad \\therefore \\quad\n",
    "s_2 = \\beta^{\\frac{1}{\\theta}}(1+r)^{\\frac{1-\\theta}{\\theta}}[(1+r)s_1 - s_2]\n",
    "\\end{cases}$$\n",
    "\n",
    "Despite scary looking, these equations are just linear combinations of $s_1$ and $s_2$, so an analytical solution can indeed be found.\n",
    "They are given by\n",
    "\n",
    "$$\n",
    "s_1 = \\frac{y \\beta^{\\frac{1}{\\theta}} (r + 1)^{\\frac{1}{\\theta}} \\left(\\beta^{\\frac{1}{\\theta}} (r + 1)^{\\frac{1}{\\theta} - 1} + 1\\right)}{\\beta^{\\frac{2}{\\theta}} (r + 1)^{\\frac{2}{\\theta} - 1} + \\beta^{\\frac{1}{\\theta}} (r + 1)^{\\frac{1}{\\theta}} + r + 1}, \\\\\n",
    "s_2 = \\frac{y \\beta^{\\frac{2}{\\theta}} (r + 1)^{\\frac{2}{\\theta} + 1}}{\\beta^{\\frac{2}{\\theta}} (r + 1)^{\\frac{2}{\\theta}} + \\beta^{\\frac{1}{\\theta}} (r + 1)^{\\frac{1}{\\theta}} + r \\beta^{\\frac{1}{\\theta}} (r + 1)^{\\frac{1}{\\theta}} + r^2 + 2r + 1}.\n",
    "$$"
   ]
  },
  {
   "cell_type": "markdown",
   "metadata": {},
   "source": [
    "### (d) Secant Method"
   ]
  },
  {
   "cell_type": "code",
   "execution_count": 28,
   "metadata": {},
   "outputs": [],
   "source": [
    "# Parameters\n",
    "y = 100\n",
    "r = 0.05\n",
    "theta = 2\n",
    "beta = 0.95"
   ]
  },
  {
   "cell_type": "code",
   "execution_count": 29,
   "metadata": {},
   "outputs": [],
   "source": [
    "# Creating functions for the FOCs\n",
    "# savings: savings vector\n",
    "def foc_saving1(savings, y=y, theta=theta, beta=beta, r=r):\n",
    "    term1 = -(y - savings[0])**(-theta)\n",
    "    term2 = beta * (1 + r) * ((1 + r) * savings[0] - savings[1])**(-theta)\n",
    "    return term1 + term2\n",
    "\n",
    "def foc_saving2(savings, y=y, theta=theta, beta=beta, r=r):\n",
    "    term1 = -beta * ((1 + r) * savings[0] - savings[1])**(-theta)\n",
    "    term2 = beta**2 * (1 + r)**(1 - theta) * savings[1]**(-theta)\n",
    "    return term1 + term2\n",
    "\n",
    "# Function that returns a tuple with both FOCs\n",
    "def foc_saving(savings, y=y, theta=theta, beta=beta, r=r):\n",
    "    foc_saving1_value = foc_saving1(savings, y=y, theta=theta, beta=beta, r=r)\n",
    "    foc_saving2_value = foc_saving2(savings, y=y, theta=theta, beta=beta, r=r)\n",
    "\n",
    "    return foc_saving1_value, foc_saving2_value"
   ]
  },
  {
   "cell_type": "code",
   "execution_count": 30,
   "metadata": {},
   "outputs": [],
   "source": [
    "# Returning consumptions (derived from the budget constraints)\n",
    "def optimal_consumption(savings, y=y, r=r):\n",
    "    c1 = y - savings[0]\n",
    "    c2 = (1+r) * savings[0] - savings[1]\n",
    "    c3 = (1+r) * savings[1]\n",
    "\n",
    "    return c1, c2, c3"
   ]
  },
  {
   "cell_type": "code",
   "execution_count": 31,
   "metadata": {},
   "outputs": [],
   "source": [
    "# Secant method\n",
    "# As opposed to matlab\n",
    "def secant_method(func, x0, crit=0.0001, maxit=10**4):\n",
    "    \"\"\"\n",
    "    Solves a system of equations f(z1, z2,...,zn)=0 with the secant method.\n",
    "    \n",
    "    Parameters:\n",
    "    - func: A function that takes x and param as inputs and returns the system of equations.\n",
    "    - x0: Initial guess for the solution vector.\n",
    "    - crit: Convergence criterion.\n",
    "    - maxit: Maximum number of iterations.\n",
    "    \n",
    "    Returns:\n",
    "    - x: Solution vector.\n",
    "    \"\"\"\n",
    "    # Defining interval for the numeric differentiation\n",
    "    del_x = np.diag(np.maximum(np.abs(x0) * 1e-4, 1e-8))\n",
    "\n",
    "    # Number of equations\n",
    "    n = len(x0)\n",
    "    \n",
    "    # Looping as long as we are within the maximum number of iterations\n",
    "    for i in range(maxit):\n",
    "        # Calculating function at x0\n",
    "        f = func(x0)\n",
    "\n",
    "        # Preparing to calculate the Jacobian; instead of passing its function as an argument\n",
    "        # (as in Newton's method), we calculate it directly using numeric differention\n",
    "        J = np.zeros((n, n))\n",
    "        \n",
    "        # Calculating each column of the jacobian (derivative of FOC j with respect to all variables)\n",
    "        for j in range(n):\n",
    "            # Calculating as numpy arrays for arithmetic\n",
    "            f = np.array(f)\n",
    "            f_del = np.array(func(x0 - del_x[:, j]))\n",
    "\n",
    "            # Numeric differentiation\n",
    "            J[:, j] = (f - f_del) / del_x[j, j]\n",
    "        \n",
    "        # Calculating new x through the linear approximation\n",
    "        x = x0 - np.linalg.inv(J) @ f\n",
    "        \n",
    "        # Seeing if convergence happened, otherwise, redo the process with x as the new x0 \n",
    "        ## The idea is that, if the new iteration x and the previous iteration x0 are close,\n",
    "        ## the linear approximation of the function leads us to a point which is very close to the root\n",
    "\n",
    "        ## Alternatively, we could just check f(x) and see if its close to 0, which is the same\n",
    "        ## as x ≈ x0 from the above expression of the linear approximation of x (see Lec2 Slide 27)\n",
    "        if np.linalg.norm(x - x0) < crit:\n",
    "            break\n",
    "        \n",
    "        x0 = x\n",
    "    \n",
    "    if i >= maxit:\n",
    "        print('Maximum number of iterations was reached')\n",
    "    \n",
    "    return x"
   ]
  },
  {
   "cell_type": "code",
   "execution_count": 32,
   "metadata": {},
   "outputs": [
    {
     "name": "stdout",
     "output_type": "stream",
     "text": [
      "Savings in 1st period: 64.985.\n",
      "Savings in 2nd period: 33.264.\n",
      "\n",
      "Consumption in 1st period: 35.015\n",
      "Consumption in 2nd period: 34.971\n",
      "Consumption in 3rd period: 34.927\n",
      "Savings in 1st period: 64.985.\n",
      "Savings in 2nd period: 33.264.\n",
      "\n",
      "Consumption in 1st period: 35.015\n",
      "Consumption in 2nd period: 34.971\n",
      "Consumption in 3rd period: 34.927\n"
     ]
    }
   ],
   "source": [
    "# Implementing to our consumption-savings problem\n",
    "## Initial guess\n",
    "s0 = [y / 10, y / 10]\n",
    "\n",
    "## Functions\n",
    "optimal_savings = secant_method(func=foc_saving, x0 = s0)\n",
    "optimal_consumption_value = optimal_consumption(optimal_savings)\n",
    "\n",
    "# Returning results\n",
    "print(f\"Savings in 1st period: {round(optimal_savings[0], 3)}.\")\n",
    "print(f\"Savings in 2nd period: {round(optimal_savings[1], 3)}.\")\n",
    "\n",
    "print(f\"\\nConsumption in 1st period: {round(optimal_consumption_value[0], 3)}\")\n",
    "print(f\"Consumption in 2nd period: {round(optimal_consumption_value[1], 3)}\")\n",
    "print(f\"Consumption in 3rd period: {round(optimal_consumption_value[2], 3)}\")"
   ]
  },
  {
   "cell_type": "markdown",
   "metadata": {},
   "source": [
    "Does this equal our analytical solution? Yes!"
   ]
  },
  {
   "cell_type": "code",
   "execution_count": 33,
   "metadata": {},
   "outputs": [],
   "source": [
    "# Function that solves for analytical savings given the expression we previously found\n",
    "def analytical_savings(y=y, theta=theta, beta=beta, r=r):\n",
    "    # Calculate s1\n",
    "    s1_numerator = y * beta**(1/theta) * (r + 1)**(1/theta) * (beta**(1/theta) * (r + 1)**(1/theta - 1) + 1)\n",
    "    s1_denominator = beta**(2/theta) * (r + 1)**(2/theta - 1) + beta**(1/theta) * (r + 1)**(1/theta) + r + 1\n",
    "    s1 = s1_numerator / s1_denominator\n",
    "\n",
    "    # Calculate s2\n",
    "    s2_numerator = y * beta**(2/theta) * (r + 1)**(2/theta + 1)\n",
    "    s2_denominator = beta**(2/theta) * (r + 1)**(2/theta) + beta**(1/theta) * (r + 1)**(1/theta) + r * beta**(1/theta) * (r + 1)**(1/theta) + r**2 + 2*r + 1\n",
    "    s2 = s2_numerator / s2_denominator\n",
    "\n",
    "    return s1, s2"
   ]
  },
  {
   "cell_type": "code",
   "execution_count": 34,
   "metadata": {},
   "outputs": [
    {
     "name": "stdout",
     "output_type": "stream",
     "text": [
      "Savings in 1st period (analytical solution): 64.985.\n",
      "Savings in 2nd period (analytical solution): 33.264.\n",
      "Savings in 1st period (analytical solution): 64.985.\n",
      "Savings in 2nd period (analytical solution): 33.264.\n"
     ]
    }
   ],
   "source": [
    "# Calculating optimal savings analytically\n",
    "optimal_analytical_savings = analytical_savings()\n",
    "\n",
    "# Returning results\n",
    "print(f\"Savings in 1st period (analytical solution): {round(optimal_analytical_savings[0], 3)}.\")\n",
    "print(f\"Savings in 2nd period (analytical solution): {round(optimal_analytical_savings[1], 3)}.\")"
   ]
  },
  {
   "cell_type": "markdown",
   "metadata": {},
   "source": [
    "### (e) Sensitivity to Different Parameter Values"
   ]
  },
  {
   "cell_type": "markdown",
   "metadata": {},
   "source": [
    "We will do a *ceteris paribus* analysis, only changing one parameter at a time.\n",
    "Our initial guess will be the same as before."
   ]
  },
  {
   "cell_type": "markdown",
   "metadata": {},
   "source": [
    "#### Income ($y$)"
   ]
  },
  {
   "cell_type": "code",
   "execution_count": 35,
   "metadata": {},
   "outputs": [
    {
     "name": "stdout",
     "output_type": "stream",
     "text": [
      "           s1     s2     c1     c2     c3\n",
      "y                                        \n",
      "94.90   61.67  31.57  33.23  33.19  33.15\n",
      "96.81   62.91  32.20  33.90  33.86  33.81\n",
      "101.63  66.04  33.81  35.59  35.54  35.50\n",
      "102.11  66.36  33.97  35.75  35.71  35.66\n",
      "105.18  68.35  34.99  36.83  36.78  36.74\n",
      "           s1     s2     c1     c2     c3\n",
      "y                                        \n",
      "94.90   61.67  31.57  33.23  33.19  33.15\n",
      "96.81   62.91  32.20  33.90  33.86  33.81\n",
      "101.63  66.04  33.81  35.59  35.54  35.50\n",
      "102.11  66.36  33.97  35.75  35.71  35.66\n",
      "105.18  68.35  34.99  36.83  36.78  36.74\n"
     ]
    },
    {
     "name": "stderr",
     "output_type": "stream",
     "text": [
      "<positron-console-cell-35>:22: FutureWarning: The behavior of DataFrame concatenation with empty or all-NA entries is deprecated. In a future version, this will no longer exclude empty or all-NA columns when determining the result dtypes. To retain the old behavior, exclude the relevant entries before the concat operation.\n"
     ]
    }
   ],
   "source": [
    "# DataFrame to store results (_sens: sensitivity)\n",
    "results_df_sens = pd.DataFrame(columns=['s1', 's2', 'c1', 'c2', 'c3'])\n",
    "\n",
    "# Sampling from a uniform (90, 110) 5 times\n",
    "for i in range(0, 5):\n",
    "    # Sampling\n",
    "    y_sensitivity = round(random.uniform(90, 110), 0)\n",
    "\n",
    "    # Redefining functions (it would probably be better to pass **kwargs, but sunk cost now)\n",
    "    # _sens = from sensitivity analysis\n",
    "    def foc_saving_sens(savings, y=y_sensitivity, theta=theta, beta=beta, r=r):\n",
    "        foc_saving1_value = foc_saving1(savings, y=y, theta=theta, beta=beta, r=r)\n",
    "        foc_saving2_value = foc_saving2(savings, y=y, theta=theta, beta=beta, r=r)\n",
    "\n",
    "        return foc_saving1_value, foc_saving2_value\n",
    "\n",
    "    # Calculating optimal savings and consumption\n",
    "    optimal_savings_sens = secant_method(func=foc_saving_sens, x0 = s0)\n",
    "    optimal_consumption_value_sens = optimal_consumption(optimal_savings_sens, y=y_sensitivity, r=r)\n",
    "\n",
    "    # Append results to DataFrame\n",
    "    results_df_sens = pd.concat([results_df_sens, pd.DataFrame([{\n",
    "        's1': round(optimal_savings_sens[0], 2),\n",
    "        's2': round(optimal_savings_sens[1], 2),\n",
    "        'c1': round(optimal_consumption_value_sens[0], 2),\n",
    "        'c2': round(optimal_consumption_value_sens[1], 2),\n",
    "        'c3': round(optimal_consumption_value_sens[2], 2)\n",
    "    }], index=[y_sensitivity])])\n",
    "\n",
    "# Renaming the index and reordering\n",
    "results_df_sens.index.name = 'y'\n",
    "results_df_sens = results_df_sens.sort_index(ascending=True)\n",
    "\n",
    "# Displaying the DataFrame\n",
    "print(results_df_sens)\n",
    "    "
   ]
  },
  {
   "cell_type": "markdown",
   "metadata": {},
   "source": [
    "We see that an increase in $y$ leads to an increase on all variables: with more income, the agent can save and consume more in all periods."
   ]
  },
  {
   "cell_type": "markdown",
   "metadata": {},
   "source": [
    "#### Interest Rate ($r$)"
   ]
  },
  {
   "cell_type": "code",
   "execution_count": 36,
   "metadata": {},
   "outputs": [
    {
     "name": "stdout",
     "output_type": "stream",
     "text": [
      "         s1     s2     c1     c2     c3\n",
      "r                                      \n",
      "0.04  65.15  33.11  34.85  34.64  34.43\n",
      "0.06  64.82  33.42  35.18  35.30  35.42\n",
      "0.06  64.82  33.42  35.18  35.30  35.42\n",
      "0.10  64.20  34.01  35.80  36.60  37.42\n",
      "0.10  64.20  34.01  35.80  36.60  37.42         s1     s2     c1     c2     c3\n",
      "r                                      \n",
      "0.04  65.15  33.11  34.85  34.64  34.43\n",
      "0.06  64.82  33.42  35.18  35.30  35.42\n",
      "0.06  64.82  33.42  35.18  35.30  35.42\n",
      "0.10  64.20  34.01  35.80  36.60  37.42\n",
      "0.10  64.20  34.01  35.80  36.60  37.42"
     ]
    },
    {
     "name": "stdout",
     "output_type": "stream",
     "text": [
      "\n",
      "\n",
      "\n"
     ]
    },
    {
     "name": "stderr",
     "output_type": "stream",
     "text": [
      "<positron-console-cell-36>:22: FutureWarning: The behavior of DataFrame concatenation with empty or all-NA entries is deprecated. In a future version, this will no longer exclude empty or all-NA columns when determining the result dtypes. To retain the old behavior, exclude the relevant entries before the concat operation.\n"
     ]
    }
   ],
   "source": [
    "# DataFrame to store results (_sens: sensitivity)\n",
    "results_df_sens = pd.DataFrame(columns=['s1', 's2', 'c1', 'c2', 'c3'])\n",
    "\n",
    "# Sampling from a uniform 5 times\n",
    "for i in range(0, 5):\n",
    "    # Sampling\n",
    "    r_sensitivity = round(random.uniform(0.02, 0.12), 2)\n",
    "\n",
    "    # Redefining functions (it would probably be better to pass **kwargs, but sunk cost now)\n",
    "    # _sens = from sensitivity analysis\n",
    "    def foc_saving_sens(savings, y=y, theta=theta, beta=beta, r=r_sensitivity):\n",
    "        foc_saving1_value = foc_saving1(savings, y=y, theta=theta, beta=beta, r=r)\n",
    "        foc_saving2_value = foc_saving2(savings, y=y, theta=theta, beta=beta, r=r)\n",
    "\n",
    "        return foc_saving1_value, foc_saving2_value\n",
    "\n",
    "    # Calculating optimal savings and consumption\n",
    "    optimal_savings_sens = secant_method(func=foc_saving_sens, x0 = s0)\n",
    "    optimal_consumption_value_sens = optimal_consumption(optimal_savings_sens, y=y, r=r_sensitivity)\n",
    "\n",
    "    # Append results to DataFrame\n",
    "    results_df_sens = pd.concat([results_df_sens, pd.DataFrame([{\n",
    "        's1': round(optimal_savings_sens[0], 2),\n",
    "        's2': round(optimal_savings_sens[1], 2),\n",
    "        'c1': round(optimal_consumption_value_sens[0], 2),\n",
    "        'c2': round(optimal_consumption_value_sens[1], 2),\n",
    "        'c3': round(optimal_consumption_value_sens[2], 2)\n",
    "    }], index=[r_sensitivity])])\n",
    "\n",
    "# Renaming the index and reordering\n",
    "results_df_sens.index.name = 'r'\n",
    "results_df_sens = results_df_sens.sort_index(ascending=True)\n",
    "\n",
    "# Displaying the DataFrame\n",
    "print(results_df_sens)"
   ]
  },
  {
   "cell_type": "markdown",
   "metadata": {},
   "source": [
    "The analysis of the effect of a change in $r$ is more interesting, as now we have **income** and **substitution** effects at play.\n",
    "That is, an increase in $r$, for example, increases the returns on savings and thus, lifelong income, which should make consumption higher in the 1st period. \n",
    "On the other hand, the marginal cost of present consumption is now bigger, which should decrease consumption.\n",
    "The dominance of one or another effect depends on the functional form of the utility and on the parameters."
   ]
  },
  {
   "cell_type": "markdown",
   "metadata": {},
   "source": [
    "With our values, we see that increases in $r$ leads to lower savings in the 1st period, which suggests that the income effect dominates.\n",
    "As a result, $c_1$ increases.\n",
    "\n",
    "On the 2nd period, however, the increase in $r$ leads to higher savings, which is possibly due to the non-linearity of the discount factor ($\\beta = .95$ from the 1st to the 2nd period and $\\beta^2 = .9025$ from the 2nd to the 3rd).\n",
    "\n",
    "Despite the increase in savings, we see that $c_2$ also increases, which reflects the higher interest gained from the savings gathered in the first period.\n",
    "\n",
    "Finally, as a result of higher savings $s_2$ and higher interest, $c_3$ is the consumption which increases the most."
   ]
  },
  {
   "cell_type": "markdown",
   "metadata": {},
   "source": [
    "#### Relative Risk Aversion ($\\theta$)\n",
    "\n",
    "Apart from being the relative risk aversion, $\\frac{1}{\\theta}$ is also the intertemporal elasticity of substitution between consumption: a higher $\\theta$ means that agents prefer smoother consumption, while a lower $\\theta$ means they are more willing to adjust it."
   ]
  },
  {
   "cell_type": "code",
   "execution_count": 37,
   "metadata": {},
   "outputs": [
    {
     "name": "stdout",
     "output_type": "stream",
     "text": [
      "          s1     s2     c1     c2     c3\n",
      "Theta                                   \n",
      "0.18   64.56  32.83  35.44  34.95  34.47\n",
      "1.10   64.95  33.23  35.05  34.97  34.89\n",
      "1.18   64.96  33.23  35.04  34.97  34.90\n",
      "1.82   64.98  33.26  35.02  34.97  34.92\n",
      "2.32   64.99  33.27  35.01  34.97  34.93          s1     s2     c1     c2     c3\n",
      "Theta                                   \n",
      "0.18   64.56  32.83  35.44  34.95  34.47\n",
      "1.10   64.95  33.23  35.05  34.97  34.89\n",
      "1.18   64.96  33.23  35.04  34.97  34.90\n",
      "1.82   64.98  33.26  35.02  34.97  34.92\n",
      "2.32   64.99  33.27  35.01  34.97  34.93"
     ]
    },
    {
     "name": "stdout",
     "output_type": "stream",
     "text": [
      "\n",
      "\n",
      "\n"
     ]
    },
    {
     "name": "stderr",
     "output_type": "stream",
     "text": [
      "<positron-console-cell-37>:22: FutureWarning: The behavior of DataFrame concatenation with empty or all-NA entries is deprecated. In a future version, this will no longer exclude empty or all-NA columns when determining the result dtypes. To retain the old behavior, exclude the relevant entries before the concat operation.\n"
     ]
    }
   ],
   "source": [
    "# DataFrame to store results (_sens: sensitivity)\n",
    "results_df_sens = pd.DataFrame(columns=['s1', 's2', 'c1', 'c2', 'c3'])\n",
    "\n",
    "# Sampling from a uniform 5 times\n",
    "for i in range(0, 5):\n",
    "    # Sampling\n",
    "    theta_sensitivity = round(random.uniform(0, 3), 1)\n",
    "\n",
    "    # Redefining functions (it would probably be better to pass **kwargs, but sunk cost now)\n",
    "    # _sens = from sensitivity analysis\n",
    "    def foc_saving_sens(savings, y=y, theta=theta_sensitivity, beta=beta, r=r):\n",
    "        foc_saving1_value = foc_saving1(savings, y=y, theta=theta, beta=beta, r=r)\n",
    "        foc_saving2_value = foc_saving2(savings, y=y, theta=theta, beta=beta, r=r)\n",
    "\n",
    "        return foc_saving1_value, foc_saving2_value\n",
    "\n",
    "    # Calculating optimal savings and consumption\n",
    "    optimal_savings_sens = secant_method(func=foc_saving_sens, x0 = s0)\n",
    "    optimal_consumption_value_sens = optimal_consumption(optimal_savings_sens, y=y, r=r)\n",
    "\n",
    "    # Append results to DataFrame\n",
    "    results_df_sens = pd.concat([results_df_sens, pd.DataFrame([{\n",
    "        's1': round(optimal_savings_sens[0], 2),\n",
    "        's2': round(optimal_savings_sens[1], 2),\n",
    "        'c1': round(optimal_consumption_value_sens[0], 2),\n",
    "        'c2': round(optimal_consumption_value_sens[1], 2),\n",
    "        'c3': round(optimal_consumption_value_sens[2], 2)\n",
    "    }], index=[theta_sensitivity])])\n",
    "\n",
    "# Renaming the index and reordering\n",
    "results_df_sens.index.name = 'Theta'\n",
    "results_df_sens = results_df_sens.sort_index(ascending=True)\n",
    "\n",
    "# Displaying the DataFrame\n",
    "print(results_df_sens)"
   ]
  },
  {
   "cell_type": "markdown",
   "metadata": {},
   "source": [
    "As said above, a higher $\\theta$ means agents are less willing to adjust consumption over time, preferring that it be smooth.\n",
    "The simulations support this interpretation: the higher the $\\theta$, the smaller the differences in consumption across periods.\n",
    "\n",
    "We note that this adjustment is entirely made through $c_1$ and $c_3$, and not $c_2$."
   ]
  },
  {
   "cell_type": "markdown",
   "metadata": {},
   "source": [
    "#### Impatience ($\\beta$)"
   ]
  },
  {
   "cell_type": "code",
   "execution_count": 38,
   "metadata": {},
   "outputs": [
    {
     "name": "stdout",
     "output_type": "stream",
     "text": [
      "         s1     s2     c1     c2     c3\n",
      "Beta                                   \n",
      "0.85  63.09  31.37  36.91  34.87  32.94\n",
      "0.89  63.88  32.15  36.12  34.92  33.76\n",
      "0.92  64.44  32.71  35.56  34.95  34.35\n",
      "0.94  64.81  33.08  35.19  34.96  34.74\n",
      "0.97  65.34  33.62  34.66  34.98  35.30\n",
      "         s1     s2     c1     c2     c3\n",
      "Beta                                   \n",
      "0.85  63.09  31.37  36.91  34.87  32.94\n",
      "0.89  63.88  32.15  36.12  34.92  33.76\n",
      "0.92  64.44  32.71  35.56  34.95  34.35\n",
      "0.94  64.81  33.08  35.19  34.96  34.74\n",
      "0.97  65.34  33.62  34.66  34.98  35.30\n"
     ]
    },
    {
     "name": "stderr",
     "output_type": "stream",
     "text": [
      "<positron-console-cell-38>:22: FutureWarning: The behavior of DataFrame concatenation with empty or all-NA entries is deprecated. In a future version, this will no longer exclude empty or all-NA columns when determining the result dtypes. To retain the old behavior, exclude the relevant entries before the concat operation.\n"
     ]
    }
   ],
   "source": [
    "# DataFrame to store results (_sens: sensitivity)\n",
    "results_df_sens = pd.DataFrame(columns=['s1', 's2', 'c1', 'c2', 'c3'])\n",
    "\n",
    "# Sampling from a uniform 5 times\n",
    "for i in range(0, 5):\n",
    "    # Sampling\n",
    "    beta_sensitivity = round(random.uniform(0.8, 0.99), 2)\n",
    "\n",
    "    # Redefining functions (it would probably be better to pass **kwargs, but sunk cost now)\n",
    "    # _sens = from sensitivity analysis\n",
    "    def foc_saving_sens(savings, y=y, theta=theta, beta=beta_sensitivity, r=r):\n",
    "        foc_saving1_value = foc_saving1(savings, y=y, theta=theta, beta=beta, r=r)\n",
    "        foc_saving2_value = foc_saving2(savings, y=y, theta=theta, beta=beta, r=r)\n",
    "\n",
    "        return foc_saving1_value, foc_saving2_value\n",
    "\n",
    "    # Calculating optimal savings and consumption\n",
    "    optimal_savings_sens = secant_method(func=foc_saving_sens, x0 = s0)\n",
    "    optimal_consumption_value_sens = optimal_consumption(optimal_savings_sens, y=y, r=r)\n",
    "\n",
    "    # Append results to DataFrame\n",
    "    results_df_sens = pd.concat([results_df_sens, pd.DataFrame([{\n",
    "        's1': round(optimal_savings_sens[0], 2),\n",
    "        's2': round(optimal_savings_sens[1], 2),\n",
    "        'c1': round(optimal_consumption_value_sens[0], 2),\n",
    "        'c2': round(optimal_consumption_value_sens[1], 2),\n",
    "        'c3': round(optimal_consumption_value_sens[2], 2)\n",
    "    }], index=[beta_sensitivity])])\n",
    "\n",
    "# Renaming the index and reordering\n",
    "results_df_sens.index.name = 'Beta'\n",
    "results_df_sens = results_df_sens.sort_index(ascending=True)\n",
    "\n",
    "# Displaying the DataFrame\n",
    "print(results_df_sens)"
   ]
  },
  {
   "cell_type": "markdown",
   "metadata": {},
   "source": [
    "The lower the $\\beta$, the more impatient are the agents, preferring to consume now rather than tomorrow.\n",
    "This is reflected in the simulations: the smaller the $\\beta$, the higher the consumption in period 1.\n",
    "Conversely, $c_2$ and $c_3$ are lower.\n",
    "\n",
    "We note that the adjustment to accomodate a higher $c_1$ is made more through a lower $c_3$.\n",
    "This is because it is farther into the future, and so less valued by the consumer."
   ]
  },
  {
   "cell_type": "markdown",
   "metadata": {},
   "source": [
    "### (f) Calibration Exercise"
   ]
  },
  {
   "cell_type": "markdown",
   "metadata": {},
   "source": [
    "Our goal is to write a code to find an interest rate value of $r^*$ such that $c_1 = c_3$ (up to a tolerance level).\n",
    "\n",
    "From our main analysis and robustness tests, we know that the value of $r$ lies between 0.05 and 0.06."
   ]
  },
  {
   "cell_type": "code",
   "execution_count": 39,
   "metadata": {},
   "outputs": [],
   "source": [
    "# Defining the search space\n",
    "r_low = 0.05\n",
    "r_high = 0.06\n",
    "bins = 1000\n",
    "\n",
    "r_search_space = np.linspace(r_low, r_high, bins)"
   ]
  },
  {
   "cell_type": "markdown",
   "metadata": {},
   "source": [
    "We will do the analysis for the anaytical case as well as for the numeric solution, searching for values of $r$ until $|c_1 - c_3|$ falls within a tolerance of 0.001."
   ]
  },
  {
   "cell_type": "markdown",
   "metadata": {},
   "source": [
    "#### Analytical"
   ]
  },
  {
   "cell_type": "code",
   "execution_count": 40,
   "metadata": {},
   "outputs": [
    {
     "name": "stdout",
     "output_type": "stream",
     "text": [
      "r* = 0.0526.\n",
      "c1 = c3 = 35.057\n",
      "r* = 0.0526.\n",
      "c1 = c3 = 35.057\n"
     ]
    }
   ],
   "source": [
    "for r_star in r_search_space:\n",
    "    # Calculating optimal savings analytically\n",
    "    optimal_analytical_savings_r_star = analytical_savings(r=r_star)\n",
    "\n",
    "    # Optimal consumption\n",
    "    optimal_analytical_consumption_values_r_star = optimal_consumption(\n",
    "        savings=optimal_analytical_savings_r_star,\n",
    "        r=r_star\n",
    "    )\n",
    "    \n",
    "    # Consumption\n",
    "    c1 = optimal_analytical_consumption_values_r_star[0]\n",
    "    c3 = optimal_analytical_consumption_values_r_star[2]\n",
    "\n",
    "    # If consumption are the same, print results and break\n",
    "    if abs(c1 - c3) < .0001:\n",
    "        print(f\"r* = {round(r_star, 4)}.\")\n",
    "        print(f\"c1 = c3 = {round(c1, 4)}\")\n",
    "\n",
    "        break"
   ]
  },
  {
   "cell_type": "markdown",
   "metadata": {},
   "source": [
    "#### Numerical"
   ]
  },
  {
   "cell_type": "code",
   "execution_count": 41,
   "metadata": {},
   "outputs": [],
   "source": [
    "# Redefining function (it would probably be better to pass **kwargs, but sunk cost now)\n",
    "def foc_saving_rstar(savings, y=y, theta=theta, beta=beta, r=r_star):\n",
    "    foc_saving1_value = foc_saving1(savings, y=y, theta=theta, beta=beta, r=r)\n",
    "    foc_saving2_value = foc_saving2(savings, y=y, theta=theta, beta=beta, r=r)\n",
    "\n",
    "    return foc_saving1_value, foc_saving2_value"
   ]
  },
  {
   "cell_type": "code",
   "execution_count": 42,
   "metadata": {},
   "outputs": [
    {
     "name": "stdout",
     "output_type": "stream",
     "text": [
      "r* = 0.0526.\n",
      "c1 = c3 = 35.057\n",
      "r* = 0.0526.\n",
      "c1 = c3 = 35.057\n"
     ]
    }
   ],
   "source": [
    "for r_star in r_search_space:\n",
    "    # Calculating optimal savings numerically\n",
    "    optimal_savings_r_star = secant_method(func=foc_saving_rstar, x0 = s0)\n",
    "\n",
    "    # Optimal consumption\n",
    "    optimal_consumption_values_r_star = optimal_consumption(\n",
    "        savings=optimal_savings_r_star,\n",
    "        r=r_star\n",
    "    )\n",
    "    \n",
    "    # Consumption\n",
    "    c1 = optimal_consumption_values_r_star[0]\n",
    "    c3 = optimal_consumption_values_r_star[2]\n",
    "\n",
    "    # If consumption are the same, print results and break\n",
    "    if abs(c1 - c3) < .0001:\n",
    "        print(f\"r* = {round(r_star, 4)}.\")\n",
    "        print(f\"c1 = c3 = {round(c3, 4)}\")\n",
    "\n",
    "        break"
   ]
  },
  {
   "cell_type": "markdown",
   "metadata": {},
   "source": [
    "## Question 4 - Approximation Methods - Interpolation - Consumption Function"
   ]
  },
  {
   "cell_type": "markdown",
   "metadata": {},
   "source": [
    "Consider a piecewise quadratic consumption function $C(y)$ on the domain $y \\in [0, 10]$ where $y$ is the disposable income:\n",
    "\n",
    "$$\n",
    "C(y) = \n",
    "\\begin{cases} \n",
    "0.8y & \\text{for } 0 \\leq y < 5 \\\\\n",
    "4 + 0.2(y - 5)^2 & \\text{for } 5 \\leq y \\leq 10 \n",
    "\\end{cases}\n",
    "$$\n",
    "\n",
    "This function represents a hypothetical scenario where consumers spend a certain fraction of their income if it’s less than a certain threshold (in this case, 5), and behave differently when the income is above this threshold.\n"
   ]
  },
  {
   "cell_type": "markdown",
   "metadata": {},
   "source": [
    "### (a) Approximating $C(y)$ with a Cubic Spline Using 5 Nodes"
   ]
  },
  {
   "cell_type": "markdown",
   "metadata": {},
   "source": [
    "We will use $n = 5$ equally spaced nodes over the interval of $y \\in [0, 10]$."
   ]
  },
  {
   "cell_type": "code",
   "execution_count": 43,
   "metadata": {},
   "outputs": [],
   "source": [
    "# Parameters\n",
    "min_y = 0\n",
    "max_y = 10\n",
    "threshold_y = 5\n",
    "\n",
    "nodes = 5"
   ]
  },
  {
   "cell_type": "code",
   "execution_count": 44,
   "metadata": {},
   "outputs": [],
   "source": [
    "# Importing package\n",
    "from scipy.interpolate import CubicSpline"
   ]
  },
  {
   "cell_type": "code",
   "execution_count": 45,
   "metadata": {},
   "outputs": [],
   "source": [
    "# Defining consumption function\n",
    "def piecewise_consumption(y, min_y=min_y, max_y=max_y, threshold_y=threshold_y):\n",
    "    \"\"\"\n",
    "    min_y: minimum value of the y interval\n",
    "    max_y: maximum_value of the y interval\n",
    "    threshold_y: y value where the function changes.\n",
    "    \"\"\"\n",
    "    return .8 * y if y < threshold_y else 4 + .2 * (y - 5)**2"
   ]
  },
  {
   "cell_type": "code",
   "execution_count": 46,
   "metadata": {},
   "outputs": [],
   "source": [
    "# Values of y\n",
    "y_sample = np.linspace(min_y, max_y, nodes)\n",
    "\n",
    "# Consumption\n",
    "C_sample = [piecewise_consumption(y) for y in y_sample]"
   ]
  },
  {
   "cell_type": "code",
   "execution_count": 47,
   "metadata": {},
   "outputs": [],
   "source": [
    "# Creating spline interpolation object\n",
    "cubic_spline = CubicSpline(y_sample, C_sample)"
   ]
  },
  {
   "cell_type": "code",
   "execution_count": 48,
   "metadata": {},
   "outputs": [],
   "source": [
    "# Defining grid\n",
    "interval = .001\n",
    "y_values = np.linspace(min_y, max_y, int((max_y - min_y) / interval) + 1)"
   ]
  },
  {
   "cell_type": "code",
   "execution_count": 49,
   "metadata": {},
   "outputs": [],
   "source": [
    "# Values of the interpolation and of the function itself\n",
    "C_interpolation = cubic_spline(y_values)\n",
    "C_values = [piecewise_consumption(y) for y in y_values]"
   ]
  },
  {
   "cell_type": "code",
   "execution_count": 50,
   "metadata": {},
   "outputs": [
    {
     "data": {
      "image/png": "[encoded data removed]",
      "text/plain": [
       "<Figure size 640x480 with 1 Axes>"
      ]
     },
     "metadata": {},
     "output_type": "display_data"
    }
   ],
   "source": [
    "# Plotting interpolation\n",
    "plt.figure()\n",
    "plt.plot(y_values, C_values, label='Consumption Function', color='black', lw=2)\n",
    "plt.plot(y_values, C_interpolation, label='Cubic Interpolation', color='red', lw=2)\n",
    "plt.plot(y_sample, C_sample, 'o', label='Sample', color='red')\n",
    "\n",
    "## Title and labels\n",
    "plt.title('Interpolation of Consumption Function', fontsize=16)\n",
    "plt.xlabel(r'Income ($y$)', fontsize=14)\n",
    "plt.ylabel(r'Consumption ($C(y)$)', fontsize=14)\n",
    "\n",
    "## Adding grid, legend, and axis lines\n",
    "plt.grid(True, which='both', linestyle='--', linewidth=0.5)\n",
    "plt.legend(fontsize=12)\n",
    "\n",
    "## Show plot\n",
    "plt.show()"
   ]
  },
  {
   "cell_type": "code",
   "execution_count": 51,
   "metadata": {},
   "outputs": [
    {
     "name": "stdout",
     "output_type": "stream",
     "text": [
      "RMSE of Cubic Spline Interpolation with 5 nodes: 0.1495\n",
      "RMSE of Cubic Spline Interpolation with 5 nodes: 0.1495\n"
     ]
    }
   ],
   "source": [
    "# Calculating RMSE\n",
    "rmse_interpolation = np.sqrt(np.mean((C_values - C_interpolation)**2))\n",
    "print(f\"RMSE of Cubic Spline Interpolation with {nodes} nodes: {round(rmse_interpolation, 4)}\")"
   ]
  },
  {
   "cell_type": "markdown",
   "metadata": {},
   "source": [
    "### (b) Approximating $C(y)$ with a Cubic Spline Using 10 Nodes"
   ]
  },
  {
   "cell_type": "code",
   "execution_count": 52,
   "metadata": {},
   "outputs": [
    {
     "data": {
      "image/png": "[encoded data removed]",
      "text/plain": [
       "<Figure size 640x480 with 1 Axes>"
      ]
     },
     "metadata": {},
     "output_type": "display_data"
    }
   ],
   "source": [
    "# Doing everything everywhere all at once\n",
    "nodes = 10\n",
    "\n",
    "# Values of y\n",
    "y_sample10 = np.linspace(min_y, max_y, nodes)\n",
    "\n",
    "# Values of consumption\n",
    "C_sample10 = [piecewise_consumption(y) for y in y_sample10]\n",
    "\n",
    "# Creating spline interpolation object and interpolation itself\n",
    "cubic_spline10 = CubicSpline(y_sample10, C_sample10)\n",
    "C_interpolation10 = cubic_spline10(y_values)\n",
    "\n",
    "# Plotting interpolation\n",
    "plt.figure()\n",
    "plt.plot(y_values, C_values, label='Consumption Function', color='black', lw=2)\n",
    "\n",
    "plt.plot(y_values, C_interpolation, label=r'Cubic Interpolation with $n = 5$', color='red', lw=2)\n",
    "plt.plot(y_sample, C_sample, 'o', label=r'Sample with $n = 5$', color='red')\n",
    "\n",
    "plt.plot(y_values, C_interpolation10, label=r'Cubic Interpolation with $n = 10$', color='blue', lw=2)\n",
    "plt.plot(y_sample10, C_sample10, 'o', label=r'Sample with $n = 10$', color='blue')\n",
    "\n",
    "## Title and labels\n",
    "plt.title('Interpolation of Consumption Function', fontsize=16)\n",
    "plt.xlabel(r'Income ($y$)', fontsize=14)\n",
    "plt.ylabel(r'Consumption ($C(y)$)', fontsize=14)\n",
    "\n",
    "## Adding grid, legend, and axis lines\n",
    "plt.grid(True, which='both', linestyle='--', linewidth=0.5)\n",
    "plt.legend(fontsize=12)\n",
    "\n",
    "## Show plot\n",
    "plt.show()"
   ]
  },
  {
   "cell_type": "code",
   "execution_count": 53,
   "metadata": {},
   "outputs": [
    {
     "name": "stdout",
     "output_type": "stream",
     "text": [
      "RMSE of Cubic Spline Interpolation with 10 nodes: 0.0277\n",
      "RMSE of Cubic Spline Interpolation with 10 nodes: 0.0277\n"
     ]
    }
   ],
   "source": [
    "# Calculating RMSE\n",
    "rmse_interpolation10 = np.sqrt(np.mean((C_values - C_interpolation10)**2))\n",
    "print(f\"RMSE of Cubic Spline Interpolation with {nodes} nodes: {round(rmse_interpolation10, 4)}\")"
   ]
  },
  {
   "cell_type": "markdown",
   "metadata": {},
   "source": [
    "We see that the interpolation is significantly better with the larger number of nodes.\n",
    "The main difference comes from the interval between 5 and 7.5, right after the kink of the consumption function.\n",
    "\n",
    "This is because with 10 nodes we are able to better capture this kink (with have observations of $y = 4$ and $y = 6$), while with 5 nodes our observation falls right at the kink ($y = 5$).\n",
    "\n",
    "In general, if we are able to control the number of observations, the more the better for the accuracy of the interpolation process."
   ]
  },
  {
   "cell_type": "markdown",
   "metadata": {},
   "source": [
    "### (c) Sensitivity Analysis"
   ]
  },
  {
   "cell_type": "code",
   "execution_count": 54,
   "metadata": {},
   "outputs": [],
   "source": [
    "# List with RMSEs\n",
    "rmse_interpolation_sens_list = []\n",
    "\n",
    "# Iterating across different number of nodes\n",
    "for num_nodes in range(5, 50):\n",
    "    # Values of y\n",
    "    y_sample_sens = np.linspace(min_y, max_y, num_nodes)\n",
    "\n",
    "    # Values of consumption\n",
    "    C_sample_sens = [piecewise_consumption(y) for y in y_sample_sens]\n",
    "\n",
    "    # Creating spline interpolation object and interpolation itself\n",
    "    cubic_spline_sens = CubicSpline(y_sample_sens, C_sample_sens)\n",
    "    C_interpolation_sens = cubic_spline_sens(y_values)\n",
    "\n",
    "    # Calculating RMSE and appending to list\n",
    "    rmse_interpolation_sens = np.sqrt(np.mean((np.array(C_values) - np.array(C_interpolation_sens))**2))\n",
    "    rmse_interpolation_sens_list.append(rmse_interpolation_sens)"
   ]
  },
  {
   "cell_type": "code",
   "execution_count": 55,
   "metadata": {},
   "outputs": [
    {
     "data": {
      "image/png": "[encoded data removed]",
      "text/plain": [
       "<Figure size 640x480 with 1 Axes>"
      ]
     },
     "metadata": {},
     "output_type": "display_data"
    }
   ],
   "source": [
    "# Plotting RMSes\n",
    "plt.figure()\n",
    "plt.plot(range(5, 50), rmse_interpolation_sens_list, color='orange', lw=2)\n",
    "plt.plot(range(5, 50), rmse_interpolation_sens_list, 'o', color='orange')\n",
    "\n",
    "## Title and labels\n",
    "plt.title(\"Interpolation RMSE's for Different Number of Nodes\", fontsize=16)\n",
    "plt.xlabel(r'Number of (Equally Spaced) Nodes Between $y = 0$ and $y = 10$', fontsize=12)\n",
    "plt.ylabel(r'RMSE of Interpolation of $C(y)$', fontsize=14)\n",
    "\n",
    "## Adding grid, legend, and axis lines\n",
    "plt.grid(True, which='both', linestyle='--', linewidth=0.5)\n",
    "\n",
    "## Show plot\n",
    "plt.show()"
   ]
  },
  {
   "cell_type": "markdown",
   "metadata": {},
   "source": [
    "We see that the relationship between the number of nodes and the RMSE of the interpolation follows a decreasing exponential curve.\n",
    "\n",
    "That is, RMSE decreases are proportional to **percentage increases** in the number of nodes."
   ]
  },
  {
   "cell_type": "markdown",
   "metadata": {},
   "source": [
    "### (d) Optimal Value of Nodes"
   ]
  },
  {
   "cell_type": "markdown",
   "metadata": {},
   "source": [
    "As said above, the RMSE is inversely proportional to the percentage increase in the number of nodes.\n",
    "Thus, as a rule of thumb, we think that $n = 20$ is a good number, as marginally increasing the number of nodes only increases the total by 5%.\n",
    "\n",
    "The RMSE is also very low, being close to 0.006."
   ]
  },
  {
   "cell_type": "markdown",
   "metadata": {},
   "source": [
    "## Question 5 - Approximating $\\pi$ using Monte Carlo Simulations"
   ]
  },
  {
   "cell_type": "markdown",
   "metadata": {},
   "source": [
    "### (a) Algorithm Description"
   ]
  },
  {
   "cell_type": "markdown",
   "metadata": {},
   "source": [
    "Fix $r \\in \\mathbb{R}$.\n",
    "To estimate $\\pi$, we will first define a grid of perimeter $8r$ (so each side is $2r$).\n",
    "At the center of the grid, we will inscribe a circumference of diameter $2r$ (so the radius is $r$).\n",
    "\n",
    "Then, we will proceed by randomly drawing coordinates $(x, y) \\in [-r, r]^2 \\in \\mathbb{R}^2$ (the center of the square/circle will be defined as $(0, 0)$).\n",
    "\n",
    "The random draws will be generated by sampling from a $U[-r, r]$ distribution. Note that, for every point, we make two draws: one for the $x$ coordinate and other for the $y$ coordinate.\n",
    "\n",
    "To approximate $\\pi$, we will use the ratio of the areas between the circle (area $\\pi r^2$) and the square (area $4r^2$).\n",
    "\n",
    "Since we know that only those points with $x^2 + y^2 \\leq r^2$ fall inside the circle, we can count how many points fall inside the circumference and use it as a measure of its area.\n",
    "\n",
    "That is, we know that\n",
    "\n",
    "$\\frac{\\text{Area}_{\\text{circle}}}{\\text{Area}_{\\text{square}}} = \\frac{\\pi}{4}$\n",
    "\n",
    "Letting $N$ denote the number of points created and $M$ denote the number that fall inside the circle, we will then have that\n",
    "\n",
    "$\\pi \\approx 4 * \\frac{M}{N}$"
   ]
  },
  {
   "cell_type": "markdown",
   "metadata": {},
   "source": [
    "### (b) Estimating $\\pi$"
   ]
  },
  {
   "cell_type": "code",
   "execution_count": 56,
   "metadata": {},
   "outputs": [],
   "source": [
    "# Parameters\n",
    "## Number of points generated\n",
    "N = 100\n",
    "## Number of points that fall inside the circle\n",
    "M = 0\n",
    "\n",
    "## Defining r; for simplicity, take r = 1\n",
    "radius = 1\n",
    "\n",
    "## Creating lists to store the coordinates of the points\n",
    "### Points inside the circle\n",
    "points_circle_x = []\n",
    "points_circle_y = []\n",
    "\n",
    "### Points outside the circle (for the plot)\n",
    "points_square_x = []\n",
    "points_square_y = []"
   ]
  },
  {
   "cell_type": "code",
   "execution_count": 57,
   "metadata": {},
   "outputs": [
    {
     "name": "stdout",
     "output_type": "stream",
     "text": [
      "Aproximation of pi: 2.64\n",
      "pi: 3.14159\n",
      "Aproximation of pi: 2.64\n",
      "pi: 3.14159\n"
     ]
    }
   ],
   "source": [
    "# Simulating the points\n",
    "for p in range(N):\n",
    "    # Random coordinantes\n",
    "    x = random.uniform(-radius, radius)\n",
    "    y = random.uniform(-radius, radius)\n",
    "\n",
    "    # Checking if the point falls inside the circle\n",
    "    if x**2 + y**2 <= radius**2:\n",
    "        # Adding to count and appending to lists\n",
    "        M += 1\n",
    "        points_circle_x.append(x)\n",
    "        points_circle_y.append(y)\n",
    "    # if the point falls outside, just add it to the list\n",
    "    else:\n",
    "        points_square_x.append(x)\n",
    "        points_square_y.append(y)\n",
    "\n",
    "# Approximating pi\n",
    "pi_approx = 4 * M / N\n",
    "\n",
    "# Printing\n",
    "print(f\"Aproximation of pi: {round(pi_approx, 5)}\")\n",
    "print(f\"pi: {round(np.pi, 5)}\")"
   ]
  },
  {
   "cell_type": "code",
   "execution_count": 58,
   "metadata": {},
   "outputs": [
    {
     "data": {
      "image/png": "[encoded data removed]",
      "text/plain": [
       "<Figure size 640x480 with 1 Axes>"
      ]
     },
     "metadata": {},
     "output_type": "display_data"
    }
   ],
   "source": [
    "# Values for the grid\n",
    "grid = np.linspace(-radius, radius)\n",
    "\n",
    "# Angle for the circle\n",
    "theta = np.linspace(0, 2 * np.pi, 100) \n",
    "\n",
    "# Circle coordinates\n",
    "circle_line_x = radius * np.cos(theta)\n",
    "circle_line_y = radius * np.sin(theta)\n",
    "\n",
    "# Square coordinates\n",
    "square_line_x = np.array([-radius, radius, radius, -radius, -radius])\n",
    "square_line_y = np.array([-radius, -radius, radius, radius, -radius])\n",
    "\n",
    "# Create the plot\n",
    "fig, ax = plt.subplots()\n",
    "\n",
    "# Define earth-like tones for colors\n",
    "square_color = '#386eb0'  # Slate Gray\n",
    "circle_color = '#bd6d23'  # Olive Drab\n",
    "\n",
    "# Lines\n",
    "ax.plot(square_line_x, square_line_y, color=square_color) \n",
    "ax.plot(circle_line_x, circle_line_y, color=circle_color)\n",
    "\n",
    "# Points with opacity\n",
    "plt.scatter(points_square_x, points_square_y, color=square_color, marker=\".\", alpha=0.5)\n",
    "plt.scatter(points_circle_x, points_circle_y, color=circle_color, marker=\".\", alpha=0.5)\n",
    " \n",
    "\n",
    "# Set limits to fit the square and circle\n",
    "ax.set_xlim(-radius - .5, radius + .5)\n",
    "ax.set_ylim(-radius - .5, radius + .5)\n",
    "\n",
    "# Add grid, title and labels\n",
    "ax.grid(True)\n",
    "ax.set_aspect('equal')\n",
    "plt.title(fr'Approximating $\\pi$ with Monte Carlo: $n =$ {N} points', fontsize=14)\n",
    "plt.xlabel(r'$x$', fontsize=14)\n",
    "plt.ylabel(r'$y$', fontsize=14)\n",
    "\n",
    "# Show the plot\n",
    "plt.show()"
   ]
  },
  {
   "cell_type": "markdown",
   "metadata": {},
   "source": [
    "We see that our approximation of $\\pi$ is pretty poor, as we are only using 100 points in the simulation.\n",
    "We correct this in the next item."
   ]
  },
  {
   "cell_type": "markdown",
   "metadata": {},
   "source": [
    "### (c) Estimating $\\pi$ with more draws"
   ]
  },
  {
   "cell_type": "code",
   "execution_count": 59,
   "metadata": {},
   "outputs": [],
   "source": [
    "# List of draws\n",
    "num_draws_list = np.linspace(5*10**3, 10**5, 20)\n",
    "\n",
    "# List to store pi approximations\n",
    "pi_approx_list = []\n",
    "\n",
    "# Simulating\n",
    "for num_draws in num_draws_list:\n",
    "    # Number of points inside the circle\n",
    "    M = 0\n",
    "\n",
    "    # Simulating the points\n",
    "    for p in range(int(num_draws)):\n",
    "        # Random coordinantes\n",
    "        x = random.uniform(-radius, radius)\n",
    "        y = random.uniform(-radius, radius)\n",
    "\n",
    "        # Checking if the point falls inside the circle\n",
    "        M = M + 1 if x**2 + y**2 <= radius**2 else M\n",
    "\n",
    "    # Approximating pi\n",
    "    pi_approx_list.append(4 * M / int(num_draws))"
   ]
  },
  {
   "cell_type": "code",
   "execution_count": 60,
   "metadata": {},
   "outputs": [
    {
     "data": {
      "image/png": "[encoded data removed]",
      "text/plain": [
       "<Figure size 640x480 with 1 Axes>"
      ]
     },
     "metadata": {},
     "output_type": "display_data"
    }
   ],
   "source": [
    "# Plotting pis\n",
    "plt.figure()\n",
    "\n",
    "plt.plot(num_draws_list / 1000, pi_approx_list, color='orange', lw=2)\n",
    "plt.plot(num_draws_list / 1000, pi_approx_list, 'o', color='orange')\n",
    "plt.axhline(y=np.pi, color='black', linestyle='--', linewidth=1)\n",
    "\n",
    "## Title and labels\n",
    "plt.title(fr'Approximating $\\pi$ with Monte Carlo', fontsize=14)\n",
    "plt.xlabel(r'Number of Points ($N$) (in thousands)', fontsize=14)\n",
    "plt.ylabel(r'$\\pi$', fontsize=14)\n",
    "\n",
    "## Adding grid and axis lines\n",
    "plt.grid(True, which='both', linestyle='--', linewidth=0.5)\n",
    "\n",
    "## Set x-axis ticks to display every 5000 units\n",
    "plt.xticks(np.arange(0, max(num_draws_list / 1000) + 1, 5))\n",
    "\n",
    "## Show plot\n",
    "plt.show()"
   ]
  },
  {
   "cell_type": "markdown",
   "metadata": {},
   "source": [
    "As expected, the bigger the number of points, the closer our estimation is to the true value of $\\pi$, which is represented in the figure above by the black dashed line."
   ]
  },
  {
   "cell_type": "markdown",
   "metadata": {},
   "source": [
    "## Question 6 - Two-Period Model"
   ]
  },
  {
   "cell_type": "markdown",
   "metadata": {},
   "source": [
    "Consider the following two-period $(t = 0,1)$ standard model economy. Preferences are over consumption $c$ and hours worked $h$ and are represented by\n",
    "\n",
    "$$\n",
    "U = \\sum_{t=0}^{1} \\beta^t \\left[ u(c_t) - \\chi v(h_t) \\right], \\quad \\beta \\in (0,1),\n",
    "$$\n",
    "\n",
    "which can be written as\n",
    "\n",
    "$$\n",
    "U = \\left[ u(c_0) - \\chi v(h_0) \\right] + \\beta \\left[ u(c_1) - \\chi v(h_1) \\right],\n",
    "$$\n",
    "\n",
    "where\n",
    "\n",
    "$$\n",
    "u(c) = \\frac{c^{1-\\sigma}-1}{1-\\sigma} \\quad \\text{and} \\quad v(h) = \\frac{h^{1+\\eta}-1}{1+\\eta} \\quad \\text{with } (\\sigma, \\eta) \\in \\mathbb{R}_{++}^2.\n",
    "$$\n",
    "\n",
    "On the production side, there is a competitive firm, with access to a technology to produce the consumption good:\n",
    "\n",
    "$$\n",
    "Y_t = A_t L_t^\\alpha, \\quad A_t > 0 \\quad \\text{and} \\quad \\alpha \\in (0,1),\n",
    "$$\n",
    "\n",
    "where $Y_t$ is output, $L_t$ denotes labor input, and $A_t$ is a productivity factor. Suppose that there is an asset market where agents can trade one-period bonds among themselves.\n"
   ]
  },
  {
   "cell_type": "markdown",
   "metadata": {},
   "source": [
    "### (a) Problem of Each Agent and Market Clearing Conditions"
   ]
  },
  {
   "cell_type": "markdown",
   "metadata": {},
   "source": [
    "We also assume that agents can effectively only save through bonds, which pay a interest rate of $r$ in period 1. \n",
    "Let $b_0$ be the amount purchased in bonds (savings) in period 0.\n",
    "Note that $b_0 < 0$ implies that the agent sold bonds."
   ]
  },
  {
   "cell_type": "markdown",
   "metadata": {},
   "source": [
    "Let $w_t$ denote the wage paid by the firm and received by the consumer in period $t$.\n",
    "We consider $h_t$ as *percentage* of the time worked, so that $0 < h_t < 1$.\n",
    "\n",
    "As in a standard model, we assume that the firm is *owned by the agent*, so that, letting $\\pi_t = A_t L_t^\\alpha - w_t L_t$ be the firm's profit at period $t$, the agent's income is given by.\n",
    "\n",
    "$$\\text{Income}_0 = w_0 h_0 + \\pi_0 \\quad \\text{and} \\quad \\text{Income}_1 = w_1 h_1 + \\pi_1 + (1+r) b_0$$"
   ]
  },
  {
   "cell_type": "markdown",
   "metadata": {},
   "source": [
    "For a final remark, we normalize so that the price of the good is equal to 1 in both periods (no inflation or readjustment)."
   ]
  },
  {
   "cell_type": "markdown",
   "metadata": {},
   "source": [
    "#### Consumer"
   ]
  },
  {
   "cell_type": "markdown",
   "metadata": {},
   "source": [
    "The problem of the representative consumer is\n",
    "\n",
    "$$\n",
    "\\max_{(c_0, c_1, h_0, h_1)} \\left\\{u(c_0) + \\beta u(c_1) - \\chi \\left[v(h_0) + \\beta v(h_1) \\right] \\right\\}\n",
    "$$ \n",
    "\n",
    "subject to\n",
    "\n",
    "$\\begin{cases}\n",
    "\\text{Budget Constraint 0}: c_0 + b_0  \\leq h_0 w_0 + \\pi_0 \\\\\n",
    "\\text{Budget Constraint 1}: c_1 \\leq h_1 w_1 + (1+r) b_0 + \\pi_1 \\\\\n",
    "\\text{Labor Supply 0}: 0 \\leq h_0 \\leq 1 \\\\\n",
    "\\text{Labor Supply 1}: 0 \\leq h_1 \\leq 1 \\\\\n",
    "\\text{Positive Consumption 0}: c_0 \\geq 0 \\\\\n",
    "\\text{Positive Consumption 1}: c_1 \\geq 0\n",
    "\\end{cases}$"
   ]
  },
  {
   "cell_type": "markdown",
   "metadata": {},
   "source": [
    "#### Firm"
   ]
  },
  {
   "cell_type": "markdown",
   "metadata": {},
   "source": [
    "The firm wants to maximize the present value of its profits, given by $\\Pi = \\pi_0 + \\frac{\\pi_1}{1+r}$. \n",
    "Her problem then is\n",
    "\n",
    "$$\n",
    "\\max_{L_t} \\left \\{\\pi_0 + \\frac{1}{1+r} \\pi_1 \\right \\} = \\max_{L_t} \\left \\{A_0 L_0^\\alpha - w_0 L_0 + \\frac{1}{1+r} \\left[A_1 L_1^\\alpha - w_1 L_1 \\right] \\right \\}\n",
    "$$"
   ]
  },
  {
   "cell_type": "markdown",
   "metadata": {},
   "source": [
    "#### Market Clearing"
   ]
  },
  {
   "cell_type": "markdown",
   "metadata": {},
   "source": [
    "We have the following market clearing conditions:\n",
    "\n",
    "$\\begin{cases}\n",
    "\\text{Labour Market 0}: h_0 = L_0 \\\\\n",
    "\\text{Labour Market 1}: h_1 = L_1 \\\\\n",
    "\\text{Goods Market 0}: c_0 = Y_0 \\\\\n",
    "\\text{Goods Market 1}: c_1 = Y_1 \\\\\n",
    "\\text{Bond Market}: b_0 = 0\n",
    "\\end{cases}$"
   ]
  },
  {
   "cell_type": "markdown",
   "metadata": {},
   "source": [
    "#### Endogenous Variables\n",
    "\n",
    "Our endogenous variables that we wish to solve for are thus $(c_0, c_1, h_0, h_1, Y_0, Y_1, L_0, L_1)$ and $(r, w_0, w_1)$ - the last of which are the vector of relative prices.\n",
    "\n",
    "We then have **11 endogenous variables**."
   ]
  },
  {
   "cell_type": "markdown",
   "metadata": {},
   "source": [
    "### (b) Competitive Equilibrium"
   ]
  },
  {
   "cell_type": "markdown",
   "metadata": {},
   "source": [
    "As in Microeconomics courses, a competitive equilibrium happens when all agents maximize their value functions and markets clear.\n",
    "\n",
    "In our case, the competitive equilibrium is a tuple $(c_0, c_1, h_0, h_1, Y_0, Y_1, L_0, L_1, r, w_0, w_1)$ such that the representative consumer maximizes its intertemporal utility, firms maximize the present value of profit and the markets for goods and labour clear."
   ]
  },
  {
   "cell_type": "markdown",
   "metadata": {},
   "source": [
    "### (c) First Order and Market Clearing Conditions"
   ]
  },
  {
   "cell_type": "markdown",
   "metadata": {},
   "source": [
    "#### Consumer"
   ]
  },
  {
   "cell_type": "markdown",
   "metadata": {},
   "source": [
    "As $u(c) = \\frac{c^{1-\\sigma}-1}{1-\\sigma}$, $v(h) = \\frac{h^{1+\\eta}-1}{1+\\eta}$ and $(\\sigma, \\eta) \\in \\mathbb{R}_{++}^2$, all the usual conditions hold and we can write the consumer's problem as\n",
    "\n",
    "$$\n",
    "\\max_{(c_0, c_1, h_0, h_1)} \\left\\{\\frac{c_0^{1-\\sigma}-1}{1-\\sigma} + \\beta \\left(\\frac{c_1^{1-\\sigma}-1}{1-\\sigma} \\right) - \\chi \\left[\\frac{h_0^{1+\\eta}-1}{1+\\eta} + \\beta \\left( \\frac{h_1^{1+\\eta}-1}{1+\\eta}\\right) \\right] \\right\\}\n",
    "$$ \n",
    "\n",
    "$$\n",
    "\\text{subject to}\\begin{cases}\n",
    "\\text{Budget Constraint 0}: c_0 + b_0 = h_0 w_0 + \\pi_0 \\\\\n",
    "\\text{Budget Constraint 1}: c_1 = h_1 w_1 + (1+r) b_0 + \\pi_1\n",
    "\\end{cases}\n",
    "$$"
   ]
  },
  {
   "cell_type": "markdown",
   "metadata": {},
   "source": [
    "Since we have no credit constraints, we can create a intertemporal budget constraint through the bonds:\n",
    "\n",
    "$\n",
    "b_0 = h_0 w_0 + \\pi_0 - c_0 \n",
    "\\quad \\therefore \\quad\n",
    "c_1 = h_1 w_1 + (1+r) (h_0 w_0 + \\pi_0 - c_0) + \\pi_1\n",
    "\\quad \\therefore \\quad\n",
    "(1+r)c_0 + c_1 = (1+r)h_0 w_0 + h_1 w_1 + (1+r)\\pi_0 + \\pi_1\n",
    "$"
   ]
  },
  {
   "cell_type": "markdown",
   "metadata": {},
   "source": [
    "The problem can again be rewritten as\n",
    "\n",
    "$$\n",
    "\\max_{(c_0, c_1, h_0, h_1)} \\left\\{\\frac{c_0^{1-\\sigma}-1}{1-\\sigma} + \\beta \\left(\\frac{c_1^{1-\\sigma}-1}{1-\\sigma} \\right) - \\chi \\left[\\frac{h_0^{1+\\eta}-1}{1+\\eta} + \\beta \\left( \\frac{h_1^{1+\\eta}-1}{1+\\eta}\\right) \\right] \\right\\}\n",
    "$$ \n",
    "\n",
    "$$\n",
    "\\text{subject to} \\quad (1+r)h_0 w_0 + h_1 w_1 + (1+r)\\pi_0 + \\pi_1 - (1+r)c_0 - c_1 = 0\n",
    "$$"
   ]
  },
  {
   "cell_type": "markdown",
   "metadata": {},
   "source": [
    "The Lagrangean of the problem can be expressed as\n",
    "\n",
    "$$\n",
    "\\begin{align*}\n",
    "\\mathscr{L}(c_0, c_1, h_0, h_1, \\lambda) \n",
    "&= \\frac{c_0^{1-\\sigma}-1}{1-\\sigma} + \\beta \\left(\\frac{c_1^{1-\\sigma}-1}{1-\\sigma} \\right)\n",
    "- \\chi \\left[\\frac{h_0^{1+\\eta}-1}{1+\\eta} + \\beta \\left( \\frac{h_1^{1+\\eta}-1}{1+\\eta}\\right) \\right] \\\\\n",
    "&\\quad + \\lambda \\left[(1+r)h_0 w_0 + h_1 w_1 + (1+r)\\pi_0 + \\pi_1 - (1+r)c_0 - c_1 \\right]\n",
    "\\end{align*}\n",
    "$$"
   ]
  },
  {
   "cell_type": "markdown",
   "metadata": {},
   "source": [
    "The FOCs are given by\n",
    "\n",
    "$\n",
    "(1) \\frac{\\partial \\mathscr{L}}{\\partial c_0} = 0 = c_0^{-\\sigma} - \\lambda(1+r)\n",
    "$\n",
    "\n",
    "$\n",
    "(2) \\frac{\\partial \\mathscr{L}}{\\partial h_0} = 0 = -\\chi h_0^{\\eta} + \\lambda(1+r)w_0\n",
    "$\n",
    "\n",
    "$\n",
    "(3) \\frac{\\partial \\mathscr{L}}{\\partial c_1} = 0 = \\beta c_1^{-\\sigma} - \\lambda\n",
    "$\n",
    "\n",
    "$\n",
    "(4) \\frac{\\partial \\mathscr{L}}{\\partial h_1} = 0 = -\\chi \\beta h_1^{\\eta} + \\lambda w_1\n",
    "$\n",
    "\n",
    "(note that we are treating the labour inputs in $\\pi_t$ as exogenous in this case, effectively separating the choices of the consumer and the firm)"
   ]
  },
  {
   "cell_type": "markdown",
   "metadata": {},
   "source": [
    "If we divide (2) by (1) and (4) by (3), we get the conditions that the marginal rate of substitution between leisure/work and consumption has to equal the wage, as we normalized the price of the good to be 1:\n",
    "\n",
    "$\n",
    "(i) \\frac{\\chi h_0^{\\eta}}{c_0^{-\\sigma}} = w_0\n",
    "$\n",
    "\n",
    "$\n",
    "(ii) \\frac{\\chi h_1^{\\eta}}{c_1^{-\\sigma}} = w_1\n",
    "$\n",
    "\n"
   ]
  },
  {
   "cell_type": "markdown",
   "metadata": {},
   "source": [
    "We can also divide (1) by (3) to get that the marginal rate of substitution between consumption in both periods has to be equal to the marginal cost of future consumption ($(1+r)$) times the discount factor:\n",
    "\n",
    "$\n",
    "(iii) \\frac{c_0^{-\\sigma}}{c_1^{-\\sigma}} = \\beta (1+r)\n",
    "\\quad \\therefore \\quad\n",
    "c_1 = c_0 [\\beta (1+r)]^{\\frac{1}{\\sigma}}\n",
    "$\n",
    "\n",
    "We also have that $r = \\frac{1}{\\beta} \\left(\\frac{c_1}{c_0}\\right)^\\sigma - 1$.\n",
    "\n"
   ]
  },
  {
   "cell_type": "markdown",
   "metadata": {},
   "source": [
    "#### Firms"
   ]
  },
  {
   "cell_type": "markdown",
   "metadata": {},
   "source": [
    "The FOCs of the problem of the firm are\n",
    "\n",
    "$\n",
    "(5) \\frac{\\partial \\Pi}{\\partial L_0} = 0 = \\alpha A_0 L_0^{\\alpha - 1} - w_0  \n",
    "$\n",
    "\n",
    "$\n",
    "(6) \\frac{\\partial \\Pi}{\\partial L_0} = 0 = \\alpha A_1 L_1^{\\alpha - 1} - w_1  \n",
    "$"
   ]
  },
  {
   "cell_type": "markdown",
   "metadata": {},
   "source": [
    "Thus, we get the usual result that the wage in both periods must equal the marginal productivity of labor."
   ]
  },
  {
   "cell_type": "markdown",
   "metadata": {},
   "source": [
    "#### Using Market Clearing Condition to Try to Find a Solution"
   ]
  },
  {
   "cell_type": "markdown",
   "metadata": {},
   "source": [
    "Recall that, by market clearing, \n",
    "\n",
    "$$c_t = Y_t = A_t L_t^\\alpha \\quad \\text{and} \\quad h_t = L_t \\quad \\text{for } t = 0, 1$$ \n",
    "\n",
    "Also, combining (i) with (5) and (ii) with (6), we get\n",
    "\n",
    "$$\n",
    "\\frac{\\chi h_0^{\\eta}}{c_0^{-\\sigma}} = w_0 = \\alpha A_0 L_0^{\\alpha - 1}\n",
    "$$\n",
    "\n",
    "$$\n",
    "\\frac{\\chi h_1^{\\eta}}{c_1^{-\\sigma}} = w_1 = \\alpha A_1 L_1^{\\alpha - 1}\n",
    "$$\n",
    "\n",
    "From (iii),\n",
    "\n",
    "$$\n",
    "c_1 = c_0 [\\beta (1+r)]^{\\frac{1}{\\sigma}}\n",
    "$$"
   ]
  },
  {
   "cell_type": "markdown",
   "metadata": {},
   "source": [
    "If we keep count, we have 11 equations and, from (a), we have 11 endogenous variables."
   ]
  },
  {
   "cell_type": "markdown",
   "metadata": {},
   "source": [
    "If we used the market clearing conditions, we get\n",
    "\n",
    "$$\n",
    "\\frac{\\chi L_0^{\\eta}}{\\left(A_0 L_0^\\alpha\\right)^{-\\sigma}} = \\alpha A_0 L_0^{\\alpha - 1}\n",
    "$$\n",
    "\n",
    "$$\n",
    "\\frac{\\chi L_1^{\\eta}}{\\left(A_1 L_1^\\alpha\\right)^{-\\sigma}} = \\alpha A_1 L_1^{\\alpha - 1}\n",
    "$$\n",
    "\n",
    "These two equations implicitly define $L_0$ and $L_1$ as functions of exogenous parameters and, as a consequence, $Y_0 = c_0$ and $Y_1 = c_1$, as well as $h_0 = L_0$ and $h_1 = L_1$.\n",
    "\n",
    "We can then use (iii) to find $r$ and (5) and (6) to find $w_0$ and $w_1$, respectively.\n",
    "\n",
    "Thus, we conclude our quest of solving for the 11 endogenous variables of the model."
   ]
  },
  {
   "cell_type": "markdown",
   "metadata": {},
   "source": [
    "Solving for $L_t$ for $t = 0, 1$ gives\n",
    "\n",
    "$$\n",
    "\\frac{\\chi L_t^{\\eta + \\alpha \\sigma}}{A_t^{-\\sigma}} = \\alpha A_t L_t^{\\alpha -1}\n",
    "\\quad \\therefore \\quad\n",
    "L_t^{\\eta + \\alpha \\sigma + 1 - \\alpha} = \\chi^{-1} \\alpha A_t^{1 - \\sigma}\n",
    "\\quad \\therefore \\quad\n",
    "L_t = \\left[ \\chi^{-1} \\alpha A_t^{1 - \\sigma} \\right]^{\\frac{1}{\\eta + \\alpha \\sigma + 1 - \\alpha}}\n",
    "$$"
   ]
  },
  {
   "cell_type": "markdown",
   "metadata": {},
   "source": [
    "### (d) Solution for the Model"
   ]
  },
  {
   "cell_type": "code",
   "execution_count": 61,
   "metadata": {},
   "outputs": [],
   "source": [
    "# Parameters\n",
    "## Firm\n",
    "A0 = 1\n",
    "A1 = 1\n",
    "alpha = .6\n",
    "\n",
    "## Consumer\n",
    "sigma = 2\n",
    "eta = 5\n",
    "beta = .98 ** 25\n",
    "chi = 1"
   ]
  },
  {
   "cell_type": "markdown",
   "metadata": {},
   "source": [
    "##### Analytical (baseline)"
   ]
  },
  {
   "cell_type": "markdown",
   "metadata": {},
   "source": [
    "We will only calculate labour, so as to check our solution.\n",
    "\n",
    "As we saw in the previous item, if we calculate the optimal labour, we can easily attain the other parameters."
   ]
  },
  {
   "cell_type": "code",
   "execution_count": 62,
   "metadata": {},
   "outputs": [],
   "source": [
    "# Functions\n",
    "def analytical_optimal_labour(A, chi=chi, alpha=alpha, sigma=sigma, eta=eta):\n",
    "    return (chi**(-1) * alpha * A**(1 - sigma))**(1 / (eta + alpha * sigma + 1 - alpha))"
   ]
  },
  {
   "cell_type": "code",
   "execution_count": 63,
   "metadata": {},
   "outputs": [
    {
     "name": "stdout",
     "output_type": "stream",
     "text": [
      "Optimal Labor in t=0: 0.9255.\n",
      "Optimal Labor in t=1: 0.9255.\n",
      "Optimal Labor in t=0: 0.9255.\n",
      "Optimal Labor in t=1: 0.9255.\n"
     ]
    }
   ],
   "source": [
    "# Optimal labour\n",
    "optimal_labor0 = analytical_optimal_labour(A=A0)\n",
    "optimal_labor1 = analytical_optimal_labour(A=A1)\n",
    "\n",
    "print(f\"Optimal Labor in t=0: {round(optimal_labor0, 4)}.\")\n",
    "print(f\"Optimal Labor in t=1: {round(optimal_labor1, 4)}.\")"
   ]
  },
  {
   "cell_type": "markdown",
   "metadata": {},
   "source": [
    "#### Numerical"
   ]
  },
  {
   "cell_type": "markdown",
   "metadata": {},
   "source": [
    "Useful facts about our exercise:\n",
    "\n",
    "- The optimal labor choice in one period is completely independent from the labor choice in the other period;\n",
    "- We necessarily have that $L_t \\in (0, 1)$ for $t = 0, 1$.\n",
    "\n",
    "The only thing we need to check is if the function that characterizes the optimal labour satisfies the Intermediate Value Theorem condition; if it does, we can use the bisection method.\n",
    "\n",
    "In other words, we need to check the graph of\n",
    "\n",
    "$$F(L_t; A_t, \\alpha, \\sigma, \\eta, \\beta, \\chi) = \\chi L_t^{\\eta + \\alpha \\sigma} - \\alpha A_t^{1 - \\sigma} L_t^{\\alpha -1}$$\n",
    "\n",
    "to see if the function is such that\n",
    "\n",
    "$$F(0) < 0 \\text{ and } F(1) > 0 \\quad \\text{or} \\quad F(0) > 0 \\text{ and } F(1) > 0"
   ]
  },
  {
   "cell_type": "code",
   "execution_count": 64,
   "metadata": {},
   "outputs": [
    {
     "data": {
      "image/png": "[encoded data removed]",
      "text/plain": [
       "<Figure size 640x480 with 1 Axes>"
      ]
     },
     "metadata": {},
     "output_type": "display_data"
    }
   ],
   "source": [
    "# Define the function\n",
    "def F_labor(L, A, alpha=alpha, sigma=sigma, eta=eta, beta=beta, chi=chi):\n",
    "    return chi * L**(eta + alpha * sigma) - alpha * A**(1 - sigma) * L**(alpha - 1)\n",
    "\n",
    "# L_t values\n",
    "L_values = np.linspace(0.01, 1, 500)\n",
    "\n",
    "# Calculate F(L)\n",
    "F_L_values = F_labor(L_values, A=A0)\n",
    "\n",
    "# Plot the function\n",
    "## Graph\n",
    "plt.figure()\n",
    "plt.plot(L_values, F_L_values)\n",
    "plt.axhline(y=0, color='black', linestyle='--', linewidth=1)\n",
    "\n",
    "## Title and labels\n",
    "plt.xlabel(r'$L_t$')\n",
    "plt.ylabel(r'$F(L_t)$')\n",
    "plt.title('Plot of the Function $F(L_t)$')\n",
    "plt.grid(True, which='both', linestyle='--', linewidth=0.5)\n",
    "\n",
    "## Show plot\n",
    "plt.show()"
   ]
  },
  {
   "cell_type": "markdown",
   "metadata": {},
   "source": [
    "We can thus use the **bisection method** to find the labour supply of each period! \n",
    "For that, we will use the function we defined in *Question 1*."
   ]
  },
  {
   "cell_type": "code",
   "execution_count": 65,
   "metadata": {},
   "outputs": [],
   "source": [
    "# Defining functions for each period\n",
    "## Labor (supply and demanded)\n",
    "def F_labor0(L, A=A0, alpha=alpha, sigma=sigma, eta=eta, beta=beta, chi=chi):\n",
    "    return chi * L**(eta + alpha * sigma) - alpha * A**(1 - sigma) * L**(alpha - 1)\n",
    "\n",
    "def F_labor1(L, A=A1, alpha=alpha, sigma=sigma, eta=eta, beta=beta, chi=chi):\n",
    "    return chi * L**(eta + alpha * sigma) - alpha * A**(1 - sigma) * L**(alpha - 1)\n",
    "\n",
    "## Production (= consumption)\n",
    "def Y_func(L, A, alpha=alpha):\n",
    "    return A * L**alpha\n",
    "\n",
    "## Wages (= marginal productivity)\n",
    "def w_func(L, A, alpha=alpha):\n",
    "    return alpha * L**(alpha - 1)\n",
    "\n",
    "## Interest rate (total and annual)\n",
    "def r_func(c0, c1, sigma=sigma, beta=beta):\n",
    "    r = 1 / beta * (c1 / c0)**sigma - 1\n",
    "    return r, (1 + r) ** (1 / 25) - 1\n",
    "\n",
    "## Profits\n",
    "def pi_func(L, w, A, alpha=alpha):\n",
    "    return A * L**alpha - w*L\n",
    "\n",
    "## Income\n",
    "def income0_func(L, w, pi):\n",
    "    return L * w + pi\n",
    "\n",
    "def income1_func(L, w, pi, r, b):\n",
    "    return L * w + pi + (1 + r) * b\n",
    "\n",
    "## Savings/bonds\n",
    "def bond_func(c, income0):\n",
    "    return income0 - c"
   ]
  },
  {
   "cell_type": "code",
   "execution_count": 66,
   "metadata": {},
   "outputs": [],
   "source": [
    "# Applying the bisection method to find the optimal labor in both periods\n",
    "opt_labor0, num_iter_labor0, labor0_guess = bisection_method(func=F_labor0, a=0.0001, b=1, tol=10**(-8))\n",
    "opt_labor1, num_iter_labor1, labor1_guess = bisection_method(func=F_labor1, a=0.0001, b=1, tol=10**(-8))\n",
    "\n",
    "# Production/consumption\n",
    "opt_c0 = Y_func(opt_labor0, A=A0)\n",
    "opt_c1 = Y_func(opt_labor1, A=A1)\n",
    "\n",
    "# Wages\n",
    "opt_w0 = w_func(opt_labor0, A=A0)\n",
    "opt_w1 = w_func(opt_labor1, A=A1)\n",
    "\n",
    "# Interest rate\n",
    "opt_r, opt_r_annual = r_func(opt_c0, opt_c1, sigma=sigma)\n",
    "\n",
    "# Profits\n",
    "opt_pi0 = pi_func(opt_labor0, opt_w0, A=A0)\n",
    "opt_pi1 = pi_func(opt_labor1, opt_w1, A=A1)\n",
    "\n",
    "# Income at t = 0\n",
    "opt_income0 = income0_func(opt_labor0, opt_w0, opt_pi0)\n",
    "\n",
    "# Bonds\n",
    "opt_b0 = bond_func(opt_c0, opt_income0)\n",
    "\n",
    "# Income at t = 1\n",
    "opt_income1 = income1_func(opt_labor1, opt_w1, opt_pi1, opt_r, opt_b0)"
   ]
  },
  {
   "cell_type": "code",
   "execution_count": 67,
   "metadata": {},
   "outputs": [
    {
     "name": "stdout",
     "output_type": "stream",
     "text": [
      "Labor Supply/Demand in period 0: 0.926.\n",
      "Labor Supply/Demand in period 1: 0.926.\n",
      "\n",
      "Consumption/Production in period 0: 0.955.\n",
      "Consumption/Production in period 1: 0.955.\n",
      "\n",
      "Wages in period 0: 0.619.\n",
      "Wages in period 1: 0.619.\n",
      "\n",
      "Interest rate: 65.71%.\n",
      "Annualized interest rate: 2.04%.\n",
      "\n",
      "Profits in period 0: 0.382.\n",
      "Profits in period 1: 0.382.\n",
      "\n",
      "Income in period 0: 0.955.\n",
      "Income in period 1: 0.955.\n",
      "Bond balance: 0.0.\n",
      "Labor Supply/Demand in period 0: 0.926.\n",
      "Labor Supply/Demand in period 1: 0.926.\n",
      "\n",
      "Consumption/Production in period 0: 0.955.\n",
      "Consumption/Production in period 1: 0.955.\n",
      "\n",
      "Wages in period 0: 0.619.\n",
      "Wages in period 1: 0.619.\n",
      "\n",
      "Interest rate: 65.71%.\n",
      "Annualized interest rate: 2.04%.\n",
      "\n",
      "Profits in period 0: 0.382.\n",
      "Profits in period 1: 0.382.\n",
      "\n",
      "Income in period 0: 0.955.\n",
      "Income in period 1: 0.955.\n",
      "Bond balance: 0.0.\n"
     ]
    }
   ],
   "source": [
    "# Printing results\n",
    "print(f\"Labor Supply/Demand in period 0: {round(opt_labor0, 3)}.\")\n",
    "print(f\"Labor Supply/Demand in period 1: {round(opt_labor1, 3)}.\")\n",
    "\n",
    "print(f\"\\nConsumption/Production in period 0: {round(opt_c0, 3)}.\")\n",
    "print(f\"Consumption/Production in period 1: {round(opt_c1, 3)}.\")\n",
    "\n",
    "print(f\"\\nWages in period 0: {round(opt_w0, 3)}.\")\n",
    "print(f\"Wages in period 1: {round(opt_w1, 3)}.\")\n",
    "\n",
    "print(f\"\\nInterest rate: {round(100*opt_r, 2)}%.\")\n",
    "print(f\"Annualized interest rate: {round(100*opt_r_annual, 2)}%.\")\n",
    "\n",
    "print(f\"\\nProfits in period 0: {round(opt_pi0, 3)}.\")\n",
    "print(f\"Profits in period 1: {round(opt_pi1, 3)}.\")\n",
    "\n",
    "print(f\"\\nIncome in period 0: {round(opt_income0, 3)}.\")\n",
    "print(f\"Income in period 1: {round(opt_income1, 3)}.\")\n",
    "print(f\"Bond balance: {round(opt_b0, 3)}.\")\n"
   ]
  },
  {
   "cell_type": "markdown",
   "metadata": {},
   "source": [
    "### (e) Fall in 1st Period Productivity"
   ]
  },
  {
   "cell_type": "code",
   "execution_count": 68,
   "metadata": {},
   "outputs": [],
   "source": [
    "# Changing A0 to .9 \n",
    "# (terrible programming etiquette to keep the same names, but couldn't bother to change the functions)\n",
    "A0 = .9\n",
    "A1 = 1\n",
    "\n",
    "# Redefining functions\n",
    "def F_labor0(L, A=A0, alpha=alpha, sigma=sigma, eta=eta, beta=beta, chi=chi):\n",
    "    return chi * L**(eta + alpha * sigma) - alpha * A**(1 - sigma) * L**(alpha - 1)\n",
    "\n",
    "def F_labor1(L, A=A1, alpha=alpha, sigma=sigma, eta=eta, beta=beta, chi=chi):\n",
    "    return chi * L**(eta + alpha * sigma) - alpha * A**(1 - sigma) * L**(alpha - 1)\n",
    "\n",
    "# Applying the bisection method to find the optimal labor in both periods\n",
    "opt_labor0_A0, num_iter_labor0_A0, labor0_guess_A0 = bisection_method(func=F_labor0, a=0.0001, b=1, tol=10**(-8))\n",
    "opt_labor1_A0, num_iter_labor1_A0, labor1_guess_A0 = bisection_method(func=F_labor1, a=0.0001, b=1, tol=10**(-8))\n",
    "\n",
    "# Production/consumption\n",
    "opt_c0_A0 = Y_func(opt_labor0_A0, A=A0)\n",
    "opt_c1_A0 = Y_func(opt_labor1_A0, A=A1)\n",
    "\n",
    "# Wages\n",
    "opt_w0_A0 = w_func(opt_labor0_A0, A=A0)\n",
    "opt_w1_A0 = w_func(opt_labor1_A0, A=A1)\n",
    "\n",
    "# Interest rate\n",
    "opt_r_A0, opt_r_annual_A0 = r_func(opt_c0_A0, opt_c1_A0, sigma=sigma)\n",
    "\n",
    "# Profits\n",
    "opt_pi0_A0 = pi_func(opt_labor0_A0, opt_w0_A0, A=A0)\n",
    "opt_pi1_A0 = pi_func(opt_labor1_A0, opt_w1_A0, A=A1)\n",
    "\n",
    "# Income at t = 0\n",
    "opt_income0_A0 = income0_func(opt_labor0_A0, opt_w0_A0, opt_pi0_A0)\n",
    "\n",
    "# Bonds\n",
    "opt_b0_A0 = bond_func(opt_c0_A0, opt_income0_A0)\n",
    "\n",
    "# Income at t = 1\n",
    "opt_income1_A0 = income1_func(opt_labor1_A0, opt_w1_A0, opt_pi1_A0, opt_r_A0, opt_b0_A0)\n"
   ]
  },
  {
   "cell_type": "code",
   "execution_count": 69,
   "metadata": {},
   "outputs": [],
   "source": [
    "# Create dictionaries for each set of variables\n",
    "data_set1 = {\n",
    "    \"L*(0)\": opt_labor0,\n",
    "    \"L*(1)\": opt_labor1,\n",
    "    \"C*(0)\": opt_c0,\n",
    "    \"C*(1)\": opt_c1,\n",
    "    \"w*(0)\": opt_w0,\n",
    "    \"w*(1)\": opt_w1,\n",
    "    \"r*\": opt_r,\n",
    "    \"r*_annual\": opt_r_annual,\n",
    "    \"π*(0)\": opt_pi0,\n",
    "    \"π*(1)\": opt_pi1,\n",
    "    \"Income*(0)\": opt_income0,\n",
    "    \"Income*(1)\": opt_income1\n",
    "}\n",
    "\n",
    "data_set2 = {\n",
    "    \"L*(0)\": opt_labor0_A0,\n",
    "    \"L*(1)\": opt_labor1_A0,\n",
    "    \"C*(0)\": opt_c0_A0,\n",
    "    \"C*(1)\": opt_c1_A0,\n",
    "    \"w*(0)\": opt_w0_A0,\n",
    "    \"w*(1)\": opt_w1_A0,\n",
    "    \"r*\": opt_r_A0,\n",
    "    \"r*_annual\": opt_r_annual_A0,\n",
    "    \"π*(0)\": opt_pi0_A0, \n",
    "    \"π*(1)\": opt_pi1_A0,\n",
    "    \"Income*(0)\": opt_income0_A0,\n",
    "    \"Income*(1)\": opt_income1_A0\n",
    "}"
   ]
  },
  {
   "cell_type": "code",
   "execution_count": 70,
   "metadata": {},
   "outputs": [
    {
     "name": "stdout",
     "output_type": "stream",
     "text": [
      "                L*(0)  L*(1)  C*(0)  C*(1)  w*(0)  w*(1)     r*  r*_annual  π*(0)  π*(1)  Income*(0)  Income*(1)\n",
      "A0 = 1 A1 = 1   0.926  0.926  0.955  0.955  0.619  0.619  0.657      0.020  0.382  0.382       0.955       0.955\n",
      "A0 = .9 A1 = 1  0.940  0.926  0.867  0.955  0.615  0.619  1.007      0.028  0.289  0.382       0.867       0.955\n",
      "Difference      0.015  0.000 -0.087  0.000 -0.004  0.000  0.350      0.008 -0.093  0.000      -0.087       0.000\n",
      "                L*(0)  L*(1)  C*(0)  C*(1)  w*(0)  w*(1)     r*  r*_annual  π*(0)  π*(1)  Income*(0)  Income*(1)\n",
      "A0 = 1 A1 = 1   0.926  0.926  0.955  0.955  0.619  0.619  0.657      0.020  0.382  0.382       0.955       0.955\n",
      "A0 = .9 A1 = 1  0.940  0.926  0.867  0.955  0.615  0.619  1.007      0.028  0.289  0.382       0.867       0.955\n",
      "Difference      0.015  0.000 -0.087  0.000 -0.004  0.000  0.350      0.008 -0.093  0.000      -0.087       0.000\n"
     ]
    }
   ],
   "source": [
    "# Checking difference\n",
    "data_set_diff12 = {\n",
    "    key: data_set2[key] - data_set1[key] for key in data_set1.keys()\n",
    "}\n",
    "\n",
    "# Create the DataFrame to compare\n",
    "df_parameters_comparison12 = pd.DataFrame([data_set1, data_set2, data_set_diff12])\n",
    "\n",
    "# Assign the desired row names\n",
    "df_parameters_comparison12.index = [\"A0 = 1 A1 = 1\", \"A0 = .9 A1 = 1\", \"Difference\"]\n",
    "\n",
    "# Display the DataFrame\n",
    "print(df_parameters_comparison12.round(3))\n",
    "\n",
    "# For the df to fit in the console, probably want to go full screen"
   ]
  },
  {
   "cell_type": "markdown",
   "metadata": {},
   "source": [
    "We see that, with the fall in the productivity of the first period ($t = 0$), output (and thus consumption by market clearing) is now lower, but only when the decrease happens, as we don't have spillovers across periods ($b_0 = 0$ by market clearing).\n",
    "As a result, profits and incomes in period 0 are now lower, which also lead to wages falling.\n",
    "\n",
    "To accomodate such a fall in consumption in period 0, the model requires that its marginal cost increase, which is given by the higher interest rate.\n",
    "\n",
    "To mitigate the fall in productivity - which leads to a fall in consumption -, the agent decides to work more to smooth the consumption fall."
   ]
  },
  {
   "cell_type": "markdown",
   "metadata": {},
   "source": [
    "### (f) Fall in 2nd Period Productivity"
   ]
  },
  {
   "cell_type": "code",
   "execution_count": 71,
   "metadata": {},
   "outputs": [],
   "source": [
    "# Changing A1 to .9 \n",
    "# (terrible programming etiquette to keep the same names, but couldn't bother to change the functions)\n",
    "A0 = 1\n",
    "A1 = .9\n",
    "\n",
    "# Redefining functions\n",
    "def F_labor0(L, A=A0, alpha=alpha, sigma=sigma, eta=eta, beta=beta, chi=chi):\n",
    "    return chi * L**(eta + alpha * sigma) - alpha * A**(1 - sigma) * L**(alpha - 1)\n",
    "\n",
    "def F_labor1(L, A=A1, alpha=alpha, sigma=sigma, eta=eta, beta=beta, chi=chi):\n",
    "    return chi * L**(eta + alpha * sigma) - alpha * A**(1 - sigma) * L**(alpha - 1)\n",
    "\n",
    "# Applying the bisection method to find the optimal labor in both periods\n",
    "opt_labor0_A1, num_iter_labor0_A1, labor0_guess_A1 = bisection_method(func=F_labor0, a=0.0001, b=1, tol=10**(-8))\n",
    "opt_labor1_A1, num_iter_labor1_A1, labor1_guess_A1 = bisection_method(func=F_labor1, a=0.0001, b=1, tol=10**(-8))\n",
    "\n",
    "# Production/consumption\n",
    "opt_c0_A1 = Y_func(opt_labor0_A1, A=A0)\n",
    "opt_c1_A1 = Y_func(opt_labor1_A1, A=A1)\n",
    "\n",
    "# Wages\n",
    "opt_w0_A1 = w_func(opt_labor0_A1, A=A0)\n",
    "opt_w1_A1 = w_func(opt_labor1_A1, A=A1)\n",
    "\n",
    "# Interest rate\n",
    "opt_r_A1, opt_r_annual_A1 = r_func(opt_c0_A1, opt_c1_A1, sigma=sigma)\n",
    "\n",
    "# Profits\n",
    "opt_pi0_A1 = pi_func(opt_labor0_A1, opt_w0_A1, A=A0)\n",
    "opt_pi1_A1 = pi_func(opt_labor1_A1, opt_w1_A1, A=A1)\n",
    "\n",
    "# Income at t = 0\n",
    "opt_income0_A1 = income0_func(opt_labor0_A1, opt_w0_A1, opt_pi0_A1)\n",
    "\n",
    "# Bonds\n",
    "opt_b0_A1 = bond_func(opt_c0_A1, opt_income0_A1)\n",
    "\n",
    "# Income at t = 1\n",
    "opt_income1_A1 = income1_func(opt_labor1_A1, opt_w1_A1, opt_pi1_A1, opt_r_A1, opt_b0_A1)"
   ]
  },
  {
   "cell_type": "code",
   "execution_count": 72,
   "metadata": {},
   "outputs": [],
   "source": [
    "# Create dictionaries for each set of variables\n",
    "data_set3 = {\n",
    "    \"L*(0)\": opt_labor0_A1,\n",
    "    \"L*(1)\": opt_labor1_A1,\n",
    "    \"C*(0)\": opt_c0_A1,\n",
    "    \"C*(1)\": opt_c1_A1,\n",
    "    \"w*(0)\": opt_w0_A1,\n",
    "    \"w*(1)\": opt_w1_A1,\n",
    "    \"r*\": opt_r_A1,\n",
    "    \"r*_annual\": opt_r_annual_A1,\n",
    "    \"π*(0)\": opt_pi0_A1, \n",
    "    \"π*(1)\": opt_pi1_A1,\n",
    "    \"Income*(0)\": opt_income0_A1,\n",
    "    \"Income*(1)\": opt_income1_A1\n",
    "}"
   ]
  },
  {
   "cell_type": "code",
   "execution_count": 73,
   "metadata": {},
   "outputs": [
    {
     "name": "stdout",
     "output_type": "stream",
     "text": [
      "                L*(0)  L*(1)  C*(0)  C*(1)  w*(0)  w*(1)     r*  r*_annual  π*(0)  π*(1)  Income*(0)  Income*(1)\n",
      "A0 = 1 A1 = 1   0.926  0.926  0.955  0.955  0.619  0.619  0.657      0.020  0.382  0.382       0.955       0.955\n",
      "A0 = 1 A1 = .9  0.926  0.940  0.955  0.867  0.619  0.615  0.368      0.013  0.382  0.289       0.955       0.867\n",
      "Difference      0.000  0.015  0.000 -0.087  0.000 -0.004 -0.289     -0.008  0.000 -0.093       0.000      -0.087\n",
      "                L*(0)  L*(1)  C*(0)  C*(1)  w*(0)  w*(1)     r*  r*_annual  π*(0)  π*(1)  Income*(0)  Income*(1)\n",
      "A0 = 1 A1 = 1   0.926  0.926  0.955  0.955  0.619  0.619  0.657      0.020  0.382  0.382       0.955       0.955\n",
      "A0 = 1 A1 = .9  0.926  0.940  0.955  0.867  0.619  0.615  0.368      0.013  0.382  0.289       0.955       0.867\n",
      "Difference      0.000  0.015  0.000 -0.087  0.000 -0.004 -0.289     -0.008  0.000 -0.093       0.000      -0.087\n"
     ]
    }
   ],
   "source": [
    "# Checking difference\n",
    "data_set_diff13 = {\n",
    "    key: data_set3[key] - data_set1[key] for key in data_set1.keys()\n",
    "}\n",
    "\n",
    "# Create the DataFrame to compare\n",
    "df_parameters_comparison13 = pd.DataFrame([data_set1, data_set3, data_set_diff13])\n",
    "\n",
    "# Assign the desired row names\n",
    "df_parameters_comparison13.index = [\"A0 = 1 A1 = 1\", \"A0 = 1 A1 = .9\", \"Difference\"]\n",
    "\n",
    "# Display the DataFrame\n",
    "print(df_parameters_comparison13.round(3))"
   ]
  },
  {
   "cell_type": "markdown",
   "metadata": {},
   "source": [
    "The analysis is the same as in the previous item, but flipped: output and consumption are now lower in the second period ($t = 1$), which also drives down profits and income, as well as wages.\n",
    "\n",
    "To accomodate such a fall in consumption in the second period, consumption in the first period has to be less expensive, and so we have a fall in the interest rate.\n",
    "\n",
    "To mitigate the fall in productivity - which leads to a fall in consumption -, the agent decides to work more to smooth the consumption fall."
   ]
  },
  {
   "cell_type": "markdown",
   "metadata": {},
   "source": [
    "### (g) $\\sigma = 1.5$"
   ]
  },
  {
   "cell_type": "markdown",
   "metadata": {},
   "source": [
    "Note that $\\sigma$ is a measure of the intertemporal elasticity of consumption: higher values of $\\sigma$ indicate higher risk aversion, and so less willingness to trade consumption between periods.\n",
    "\n",
    "Therefore, although we expect deviations due to productivity falls to be the in the same direction as before, the magnitudes of it shall be different.\n",
    "As we are decreasing $\\sigma$, we expect that these deviations become less smooth."
   ]
  },
  {
   "cell_type": "markdown",
   "metadata": {},
   "source": [
    "We can also interpret the fall in $\\sigma$ as agents valuing consumption less relative to leisure (recall the relationship between hours worked and consumption in the FOC of the consumer), which would decrease hours worked and, thus, output and consumption."
   ]
  },
  {
   "cell_type": "markdown",
   "metadata": {},
   "source": [
    "##### Redoing (d)"
   ]
  },
  {
   "cell_type": "code",
   "execution_count": 74,
   "metadata": {},
   "outputs": [],
   "source": [
    "# Changing parameters\n",
    "A0 = 1\n",
    "A1 = 1\n",
    "sigma = 1.5  # instead of 2 previously\n",
    "\n",
    "# Calculating optimal labor\n",
    "opt_labor0_sigma = analytical_optimal_labour(A=A0, sigma=sigma)\n",
    "opt_labor1_sigma = analytical_optimal_labour(A=A1, sigma=sigma)\n",
    "\n",
    "# Production/consumption\n",
    "opt_c0_sigma = Y_func(opt_labor0_sigma, A=A0)\n",
    "opt_c1_sigma = Y_func(opt_labor1_sigma, A=A1)\n",
    "\n",
    "# Wages\n",
    "opt_w0_sigma = w_func(opt_labor0_sigma, A=A0)\n",
    "opt_w1_sigma = w_func(opt_labor1_sigma, A=A1)\n",
    "\n",
    "# Interest rate\n",
    "opt_r_sigma, opt_r_annual_sigma = r_func(opt_c0_sigma, opt_c1_sigma, sigma=sigma)\n",
    "\n",
    "# Profits\n",
    "opt_pi0_sigma = pi_func(opt_labor0_sigma, opt_w0_sigma, A=A0)\n",
    "opt_pi1_sigma = pi_func(opt_labor1_sigma, opt_w1_sigma, A=A1)\n",
    "\n",
    "# Income at t = 0\n",
    "opt_income0_sigma = income0_func(opt_labor0_sigma, opt_w0_sigma, opt_pi0_sigma)\n",
    "\n",
    "# Bonds\n",
    "opt_b0_sigma = bond_func(opt_c0_sigma, opt_income0_sigma)\n",
    "\n",
    "# Income at t = 1\n",
    "opt_income1_sigma = income1_func(opt_labor1_sigma, opt_w1_sigma, opt_pi1_sigma, opt_r_sigma, opt_b0_sigma)"
   ]
  },
  {
   "cell_type": "code",
   "execution_count": 75,
   "metadata": {},
   "outputs": [],
   "source": [
    "# Create dictionaries for each set of variables\n",
    "data_set1_sigma = {\n",
    "    \"L*(0)\": opt_labor0_sigma,\n",
    "    \"L*(1)\": opt_labor1_sigma,\n",
    "    \"C*(0)\": opt_c0_sigma,\n",
    "    \"C*(1)\": opt_c1_sigma,\n",
    "    \"w*(0)\": opt_w0_sigma,\n",
    "    \"w*(1)\": opt_w1_sigma,\n",
    "    \"r*\": opt_r_sigma,\n",
    "    \"r*_annual\": opt_r_annual_sigma,\n",
    "    \"π*(0)\": opt_pi0_sigma,\n",
    "    \"π*(1)\": opt_pi1_sigma,\n",
    "    \"Income*(0)\": opt_income0_sigma,\n",
    "    \"Income*(1)\": opt_income1_sigma\n",
    "}"
   ]
  },
  {
   "cell_type": "code",
   "execution_count": 76,
   "metadata": {},
   "outputs": [
    {
     "name": "stdout",
     "output_type": "stream",
     "text": [
      "             L*(0)  L*(1)  C*(0)  C*(1)  w*(0)  w*(1)     r*  r*_annual  π*(0)  π*(1)  Income*(0)  Income*(1)\n",
      "Sigma = 2    0.926  0.926  0.955  0.955  0.619  0.619  0.657       0.02  0.382  0.382       0.955       0.955\n",
      "Sigma = 1.5  0.922  0.922  0.953  0.953  0.620  0.620  0.657       0.02  0.381  0.381       0.953       0.953\n",
      "Difference  -0.003 -0.003 -0.002 -0.002  0.001  0.001  0.000       0.00 -0.001 -0.001      -0.002      -0.002\n",
      "             L*(0)  L*(1)  C*(0)  C*(1)  w*(0)  w*(1)     r*  r*_annual  π*(0)  π*(1)  Income*(0)  Income*(1)\n",
      "Sigma = 2    0.926  0.926  0.955  0.955  0.619  0.619  0.657       0.02  0.382  0.382       0.955       0.955\n",
      "Sigma = 1.5  0.922  0.922  0.953  0.953  0.620  0.620  0.657       0.02  0.381  0.381       0.953       0.953\n",
      "Difference  -0.003 -0.003 -0.002 -0.002  0.001  0.001  0.000       0.00 -0.001 -0.001      -0.002      -0.002\n"
     ]
    }
   ],
   "source": [
    "# Checking difference\n",
    "data_set_diff_sigma = {\n",
    "    key: data_set1_sigma[key] - data_set1[key] for key in data_set1.keys()\n",
    "}\n",
    "\n",
    "# Create the DataFrame to compare\n",
    "df_parameters_comparison_sigma = pd.DataFrame([data_set1, data_set1_sigma, data_set_diff_sigma])\n",
    "\n",
    "# Assign the desired row names\n",
    "df_parameters_comparison_sigma.index = [\"Sigma = 2\", \"Sigma = 1.5\", \"Difference\"]\n",
    "\n",
    "# Display the DataFrame\n",
    "print(df_parameters_comparison_sigma.round(3))"
   ]
  },
  {
   "cell_type": "markdown",
   "metadata": {},
   "source": [
    "Overall, we see that labour supply falls, as with the fall in $\\sigma$ the agent prefers relatively more leisure (recall the marginal rate of substitution between hours worked and consumption in the FOC of the consumer problem).\n",
    "This leads to lower output and consumption.\n",
    "\n",
    "To compensate for the higher relative value of leisure, wages have to go up to induce labour and to smooth the consumption fall.\n",
    "We can also interpret this is a result of the FOC of the consumer, as the marginal rate of substitution between hours worked and consumption has to equal the wage; as we have less hours worked, this rate increases, which has to be reflected in the wage."
   ]
  },
  {
   "cell_type": "markdown",
   "metadata": {},
   "source": [
    "##### Redoing (e)"
   ]
  },
  {
   "cell_type": "code",
   "execution_count": 77,
   "metadata": {},
   "outputs": [],
   "source": [
    "# Changing parameters\n",
    "A0 = .9\n",
    "A1 = 1\n",
    "sigma = 1.5  # instead of 2 previously\n",
    "\n",
    "# Calculating optimal labor\n",
    "opt_labor0_A0_sigma = analytical_optimal_labour(A=A0, sigma=sigma)\n",
    "opt_labor1_A0_sigma = analytical_optimal_labour(A=A1, sigma=sigma)\n",
    "\n",
    "# Production/consumption\n",
    "opt_c0_A0_sigma = Y_func(opt_labor0_A0_sigma, A=A0)\n",
    "opt_c1_A0_sigma = Y_func(opt_labor1_A0_sigma, A=A1)\n",
    "\n",
    "# Wages\n",
    "opt_w0_A0_sigma = w_func(opt_labor0_A0_sigma, A=A0)\n",
    "opt_w1_A0_sigma = w_func(opt_labor1_A0_sigma, A=A1)\n",
    "\n",
    "# Interest rate\n",
    "opt_r_A0_sigma, opt_r_annual_A0_sigma = r_func(opt_c0_A0_sigma, opt_c1_A0_sigma, sigma=sigma)\n",
    "\n",
    "# Profits\n",
    "opt_pi0_A0_sigma = pi_func(opt_labor0_A0_sigma, opt_w0_A0_sigma, A=A0)\n",
    "opt_pi1_A0_sigma = pi_func(opt_labor1_A0_sigma, opt_w1_A0_sigma, A=A1)\n",
    "\n",
    "# Income at t = 0\n",
    "opt_income0_A0_sigma = income0_func(opt_labor0_A0_sigma, opt_w0_A0_sigma, opt_pi0_A0_sigma)\n",
    "\n",
    "# Bonds\n",
    "opt_b0_A0_sigma = bond_func(opt_c0_A0_sigma, opt_income0_A0_sigma)\n",
    "\n",
    "# Income at t = 1\n",
    "opt_income1_A0_sigma = income1_func(opt_labor1_A0_sigma, opt_w1_A0_sigma, opt_pi1_A0_sigma, opt_r_A0_sigma, opt_b0_A0_sigma)\n"
   ]
  },
  {
   "cell_type": "code",
   "execution_count": 78,
   "metadata": {},
   "outputs": [],
   "source": [
    "# Create dictionaries for each set of variables\n",
    "data_set2_sigma = {\n",
    "    \"L*(0)\": opt_labor0_A0_sigma,\n",
    "    \"L*(1)\": opt_labor1_A0_sigma,\n",
    "    \"C*(0)\": opt_c0_A0_sigma,\n",
    "    \"C*(1)\": opt_c1_A0_sigma,\n",
    "    \"w*(0)\": opt_w0_A0_sigma,\n",
    "    \"w*(1)\": opt_w1_A0_sigma,\n",
    "    \"r*\": opt_r_A0_sigma,\n",
    "    \"r*_annual\": opt_r_annual_A0_sigma,\n",
    "    \"π*(0)\": opt_pi0_A0_sigma,\n",
    "    \"π*(1)\": opt_pi1_A0_sigma,\n",
    "    \"Income*(0)\": opt_income0_A0_sigma,\n",
    "    \"Income*(1)\": opt_income1_A0_sigma\n",
    "}"
   ]
  },
  {
   "cell_type": "code",
   "execution_count": 79,
   "metadata": {},
   "outputs": [
    {
     "name": "stdout",
     "output_type": "stream",
     "text": [
      "                                L*(0)  L*(1)  C*(0)  C*(1)  w*(0)  w*(1)     r*  r*_annual  π*(0)  π*(1)  Income*(0)  Income*(1)\n",
      "A0 = 1 A1 = 1 (σ = 2)           0.926  0.926  0.955  0.955  0.619  0.619  0.657      0.020  0.382  0.382       0.955       0.955\n",
      "A0 = .9 A1 = 1 (σ = 2)          0.940  0.926  0.867  0.955  0.615  0.619  1.007      0.028  0.289  0.382       0.867       0.955\n",
      "Difference (σ = 2)              0.015  0.000 -0.087  0.000 -0.004  0.000  0.350      0.008 -0.093  0.000      -0.087       0.000\n",
      "A0 = 1 A1 = 1 (σ = 1.5)         0.922  0.922  0.953  0.953  0.620  0.620  0.657      0.020  0.381  0.381       0.953       0.953\n",
      "A0 = .9 A1 = 1 (σ = 1.5)        0.930  0.922  0.862  0.953  0.618  0.620  0.926      0.027  0.287  0.381       0.862       0.953\n",
      "Difference (σ = 1.5)            0.008  0.000 -0.091  0.000 -0.002  0.000  0.269      0.006 -0.094  0.000      -0.091       0.000\n",
      "Diff-in-diff (σ = 1.5 - σ = 2) -0.007  0.000 -0.004  0.000  0.002  0.000 -0.081     -0.002 -0.001  0.000      -0.004       0.000\n",
      "                                L*(0)  L*(1)  C*(0)  C*(1)  w*(0)  w*(1)     r*  r*_annual  π*(0)  π*(1)  Income*(0)  Income*(1)\n",
      "A0 = 1 A1 = 1 (σ = 2)           0.926  0.926  0.955  0.955  0.619  0.619  0.657      0.020  0.382  0.382       0.955       0.955\n",
      "A0 = .9 A1 = 1 (σ = 2)          0.940  0.926  0.867  0.955  0.615  0.619  1.007      0.028  0.289  0.382       0.867       0.955\n",
      "Difference (σ = 2)              0.015  0.000 -0.087  0.000 -0.004  0.000  0.350      0.008 -0.093  0.000      -0.087       0.000\n",
      "A0 = 1 A1 = 1 (σ = 1.5)         0.922  0.922  0.953  0.953  0.620  0.620  0.657      0.020  0.381  0.381       0.953       0.953\n",
      "A0 = .9 A1 = 1 (σ = 1.5)        0.930  0.922  0.862  0.953  0.618  0.620  0.926      0.027  0.287  0.381       0.862       0.953\n",
      "Difference (σ = 1.5)            0.008  0.000 -0.091  0.000 -0.002  0.000  0.269      0.006 -0.094  0.000      -0.091       0.000\n",
      "Diff-in-diff (σ = 1.5 - σ = 2) -0.007  0.000 -0.004  0.000  0.002  0.000 -0.081     -0.002 -0.001  0.000      -0.004       0.000\n"
     ]
    }
   ],
   "source": [
    "# Checking difference\n",
    "data_set_diff12_sigma = {\n",
    "    key: data_set2_sigma[key] - data_set1_sigma[key] for key in data_set1_sigma.keys()\n",
    "}\n",
    "\n",
    "# Diff-in-diff\n",
    "data_set_diffdiff12 = {\n",
    "    key: data_set_diff12_sigma[key] - data_set_diff12[key] for key in data_set_diff12_sigma.keys()\n",
    "}\n",
    "\n",
    "# Create the DataFrame to compare\n",
    "df_parameters_comparison12_sigma = pd.DataFrame([\n",
    "    data_set1, data_set2, data_set_diff12,\n",
    "    data_set1_sigma, data_set2_sigma, data_set_diff12_sigma,\n",
    "    data_set_diffdiff12\n",
    "])\n",
    "\n",
    "# Assign the desired row names\n",
    "df_parameters_comparison12_sigma.index = [\n",
    "    \"A0 = 1 A1 = 1 (σ = 2)\", \"A0 = .9 A1 = 1 (σ = 2)\", \"Difference (σ = 2)\",\n",
    "    \"A0 = 1 A1 = 1 (σ = 1.5)\", \"A0 = .9 A1 = 1 (σ = 1.5)\", \"Difference (σ = 1.5)\",\n",
    "    \"Diff-in-diff (σ = 1.5 - σ = 2)\"\n",
    "]\n",
    "\n",
    "# Display the DataFrame\n",
    "print(df_parameters_comparison12_sigma.round(3))"
   ]
  },
  {
   "cell_type": "markdown",
   "metadata": {},
   "source": [
    "As expected, the fall in consumption in the 1st period in the case of $\\sigma = 1.5$ is (very) slightly higher than in the case of $\\sigma = 2$ (see row of the diff-in-diff).\n",
    "Again, this is because the agent is now less risk-averse.\n",
    "\n",
    "The intuition and direction of all other results stay the same as in item (e)."
   ]
  },
  {
   "cell_type": "markdown",
   "metadata": {},
   "source": [
    "##### Redoing (f)"
   ]
  },
  {
   "cell_type": "code",
   "execution_count": 80,
   "metadata": {},
   "outputs": [],
   "source": [
    "# Changing parameters\n",
    "A0 = 1\n",
    "A1 = .9\n",
    "sigma = 1.5  # instead of 2 previously\n",
    "\n",
    "# Calculating optimal labor\n",
    "opt_labor0_A1_sigma = analytical_optimal_labour(A=A0, sigma=sigma)\n",
    "opt_labor1_A1_sigma = analytical_optimal_labour(A=A1, sigma=sigma)\n",
    "\n",
    "# Production/consumption\n",
    "opt_c0_A1_sigma = Y_func(opt_labor0_A1_sigma, A=A0)\n",
    "opt_c1_A1_sigma = Y_func(opt_labor1_A1_sigma, A=A1)\n",
    "\n",
    "# Wages\n",
    "opt_w0_A1_sigma = w_func(opt_labor0_A1_sigma, A=A0)\n",
    "opt_w1_A1_sigma = w_func(opt_labor1_A1_sigma, A=A1)\n",
    "\n",
    "# Interest rate\n",
    "opt_r_A1_sigma, opt_r_annual_A1_sigma = r_func(opt_c0_A1_sigma, opt_c1_A1_sigma, sigma=sigma)\n",
    "\n",
    "# Profits\n",
    "opt_pi0_A1_sigma = pi_func(opt_labor0_A1_sigma, opt_w0_A1_sigma, A=A0)\n",
    "opt_pi1_A1_sigma = pi_func(opt_labor1_A1_sigma, opt_w1_A1_sigma, A=A1)\n",
    "\n",
    "# Income at t = 0\n",
    "opt_income0_A1_sigma = income0_func(opt_labor0_A1_sigma, opt_w0_A1_sigma, opt_pi0_A1_sigma)\n",
    "\n",
    "# Bonds\n",
    "opt_b0_A1_sigma = bond_func(opt_c0_A1_sigma, opt_income0_A1_sigma)\n",
    "\n",
    "# Income at t = 1\n",
    "opt_income1_A1_sigma = income1_func(opt_labor1_A1_sigma, opt_w1_A1_sigma, opt_pi1_A1_sigma, opt_r_A1_sigma, opt_b0_A1_sigma)"
   ]
  },
  {
   "cell_type": "code",
   "execution_count": 81,
   "metadata": {},
   "outputs": [],
   "source": [
    "# Create dictionaries for each set of variables\n",
    "data_set3_sigma = {\n",
    "    \"L*(0)\": opt_labor0_A1_sigma,\n",
    "    \"L*(1)\": opt_labor1_A1_sigma,\n",
    "    \"C*(0)\": opt_c0_A1_sigma,\n",
    "    \"C*(1)\": opt_c1_A1_sigma,\n",
    "    \"w*(0)\": opt_w0_A1_sigma,\n",
    "    \"w*(1)\": opt_w1_A1_sigma,\n",
    "    \"r*\": opt_r_A1_sigma,\n",
    "    \"r*_annual\": opt_r_annual_A1_sigma,\n",
    "    \"π*(0)\": opt_pi0_A1_sigma,\n",
    "    \"π*(1)\": opt_pi1_A1_sigma,\n",
    "    \"Income*(0)\": opt_income0_A1_sigma,\n",
    "    \"Income*(1)\": opt_income1_A1_sigma\n",
    "}"
   ]
  },
  {
   "cell_type": "code",
   "execution_count": 82,
   "metadata": {},
   "outputs": [
    {
     "name": "stdout",
     "output_type": "stream",
     "text": [
      "                                L*(0)  L*(1)  C*(0)  C*(1)  w*(0)  w*(1)     r*  r*_annual  π*(0)  π*(1)  Income*(0)  Income*(1)\n",
      "A0 = 1 A1 = 1 (σ = 2)           0.926  0.926  0.955  0.955  0.619  0.619  0.657      0.020  0.382  0.382       0.955       0.955\n",
      "A0 = 1 A1 = .9 (σ = 2)          0.926  0.940  0.955  0.867  0.619  0.615  0.368      0.013  0.382  0.289       0.955       0.867\n",
      "Difference (σ = 2)              0.000  0.015  0.000 -0.087  0.000 -0.004 -0.289     -0.008  0.000 -0.093       0.000      -0.087\n",
      "A0 = 1 A1 = 1 (σ = 1.5)         0.922  0.922  0.953  0.953  0.620  0.620  0.657      0.020  0.381  0.381       0.953       0.953\n",
      "A0 = 1 A1 = .9 (σ = 1.5)        0.922  0.930  0.953  0.862  0.620  0.618  0.426      0.014  0.381  0.287       0.953       0.862\n",
      "Difference (σ = 1.5)            0.000  0.008  0.000 -0.091  0.000 -0.002 -0.232     -0.006  0.000 -0.094       0.000      -0.091\n",
      "Diff-in-diff (σ = 1.5 - σ = 2)  0.000 -0.007  0.000 -0.004  0.000  0.002  0.057      0.002  0.000 -0.001       0.000      -0.004\n",
      "                                L*(0)  L*(1)  C*(0)  C*(1)  w*(0)  w*(1)     r*  r*_annual  π*(0)  π*(1)  Income*(0)  Income*(1)\n",
      "A0 = 1 A1 = 1 (σ = 2)           0.926  0.926  0.955  0.955  0.619  0.619  0.657      0.020  0.382  0.382       0.955       0.955\n",
      "A0 = 1 A1 = .9 (σ = 2)          0.926  0.940  0.955  0.867  0.619  0.615  0.368      0.013  0.382  0.289       0.955       0.867\n",
      "Difference (σ = 2)              0.000  0.015  0.000 -0.087  0.000 -0.004 -0.289     -0.008  0.000 -0.093       0.000      -0.087\n",
      "A0 = 1 A1 = 1 (σ = 1.5)         0.922  0.922  0.953  0.953  0.620  0.620  0.657      0.020  0.381  0.381       0.953       0.953\n",
      "A0 = 1 A1 = .9 (σ = 1.5)        0.922  0.930  0.953  0.862  0.620  0.618  0.426      0.014  0.381  0.287       0.953       0.862\n",
      "Difference (σ = 1.5)            0.000  0.008  0.000 -0.091  0.000 -0.002 -0.232     -0.006  0.000 -0.094       0.000      -0.091\n",
      "Diff-in-diff (σ = 1.5 - σ = 2)  0.000 -0.007  0.000 -0.004  0.000  0.002  0.057      0.002  0.000 -0.001       0.000      -0.004\n"
     ]
    }
   ],
   "source": [
    "# Checking difference\n",
    "data_set_diff13_sigma = {\n",
    "    key: data_set3_sigma[key] - data_set1_sigma[key] for key in data_set1_sigma.keys()\n",
    "}\n",
    "\n",
    "# Diff-in-diff\n",
    "data_set_diffdiff13 = {\n",
    "    key: data_set_diff13_sigma[key] - data_set_diff13[key] for key in data_set_diff13_sigma.keys()\n",
    "}\n",
    "\n",
    "# Create the DataFrame to compare\n",
    "df_parameters_comparison13_sigma = pd.DataFrame([\n",
    "    data_set1, data_set3, data_set_diff13,\n",
    "    data_set1_sigma, data_set3_sigma, data_set_diff13_sigma,\n",
    "    data_set_diffdiff13\n",
    "])\n",
    "\n",
    "# Assign the desired row names\n",
    "df_parameters_comparison13_sigma.index = [\n",
    "    \"A0 = 1 A1 = 1 (σ = 2)\", \"A0 = 1 A1 = .9 (σ = 2)\", \"Difference (σ = 2)\",\n",
    "    \"A0 = 1 A1 = 1 (σ = 1.5)\", \"A0 = 1 A1 = .9 (σ = 1.5)\", \"Difference (σ = 1.5)\",\n",
    "    \"Diff-in-diff (σ = 1.5 - σ = 2)\"\n",
    "]\n",
    "\n",
    "# Display the DataFrame\n",
    "print(df_parameters_comparison13_sigma.round(3))"
   ]
  },
  {
   "cell_type": "markdown",
   "metadata": {},
   "source": [
    "As expected, the fall in consumption in the 2nd period in the case of $\\sigma = 1.5$ is (very) slightly higher than in the case of $\\sigma = 2$.\n",
    "This is because the agent is now less risk-averse.\n",
    "\n",
    "The intuition and direction of all other results stay the same as in (f)."
   ]
  }
 ],
 "metadata": {
  "language_info": {
   "name": "python"
  }
 },
 "nbformat": 4,
 "nbformat_minor": 2
}
